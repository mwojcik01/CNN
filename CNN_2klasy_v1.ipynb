{
  "nbformat": 4,
  "nbformat_minor": 0,
  "metadata": {
    "colab": {
      "name": "!Gotowa_v1.ipynb",
      "provenance": [],
      "collapsed_sections": [],
      "mount_file_id": "1vxIaxPc8w-AbEsafw5XfKM8mMcWscjF1",
      "authorship_tag": "ABX9TyO3L9TGjamBDRlVkxkOILNL",
      "include_colab_link": true
    },
    "kernelspec": {
      "name": "python3",
      "display_name": "Python 3"
    },
    "language_info": {
      "name": "python"
    },
    "accelerator": "GPU"
  },
  "cells": [
    {
      "cell_type": "markdown",
      "metadata": {
        "id": "view-in-github",
        "colab_type": "text"
      },
      "source": [
        "<a href=\"https://colab.research.google.com/github/mwojcik01/CNN/blob/main/CNN_2klasy_v1.ipynb\" target=\"_parent\"><img src=\"https://colab.research.google.com/assets/colab-badge.svg\" alt=\"Open In Colab\"/></a>"
      ]
    },
    {
      "cell_type": "code",
      "metadata": {
        "id": "5P2nfVq60Jeg"
      },
      "source": [
        "#kopiowanie\n",
        "import os\n",
        "import numpy as np\n",
        "import shutil\n",
        "\n",
        "#przygotowanie modelu\n",
        "from keras.preprocessing.image import ImageDataGenerator\n",
        "from keras import Sequential\n",
        "from keras import layers\n",
        "#from keras.layers import Dense, Flatten, Conv2D, MaxPooling2D\n",
        "\n",
        "#wykres\n",
        "import pandas as pd\n",
        "import plotly.graph_objects as go\n",
        "import plotly.figure_factory as ff\n",
        "from sklearn.metrics import confusion_matrix\n"
      ],
      "execution_count": null,
      "outputs": []
    },
    {
      "cell_type": "code",
      "metadata": {
        "id": "9tcZybUL3qZC"
      },
      "source": [
        "#from google.colab import drive\n",
        "#drive.mount('/content/drive')"
      ],
      "execution_count": null,
      "outputs": []
    },
    {
      "cell_type": "code",
      "metadata": {
        "id": "InfcEaTn3ql5"
      },
      "source": [
        "!unzip -uq \"/content/drive/My Drive/base_ddsm_cbm_2.zip\" -d \"./\" # wypakowanie plików z Drive"
      ],
      "execution_count": null,
      "outputs": []
    },
    {
      "cell_type": "code",
      "metadata": {
        "colab": {
          "base_uri": "https://localhost:8080/"
        },
        "id": "vaOtxRCR3qy0",
        "outputId": "540b1ec3-4088-4544-8ec1-ac137a8b6be0"
      },
      "source": [
        "base_dir = './base_ddsm_cbm_2' # obliczanie ilości plików w każdym folderze\n",
        "raw_no_of_files = {}\n",
        "classes = ['ben_mal', 'nor']\n",
        "for dir in classes:\n",
        "    raw_no_of_files[dir] = len(os.listdir(os.path.join(base_dir, dir)))\n",
        "\n",
        "raw_no_of_files.items()"
      ],
      "execution_count": null,
      "outputs": [
        {
          "output_type": "execute_result",
          "data": {
            "text/plain": [
              "dict_items([('ben_mal', 2003), ('nor', 9215)])"
            ]
          },
          "metadata": {
            "tags": []
          },
          "execution_count": 4
        }
      ]
    },
    {
      "cell_type": "code",
      "metadata": {
        "colab": {
          "base_uri": "https://localhost:8080/"
        },
        "id": "o8-TQOOdsQSs",
        "outputId": "7d4bc703-160e-4b2c-852d-2ac4b0c9579a"
      },
      "source": [
        "#kasowanie plików\n",
        "%%bash\n",
        "pwd\n",
        "rm -R images\n",
        "ls"
      ],
      "execution_count": null,
      "outputs": [
        {
          "output_type": "stream",
          "text": [
            "/content\n",
            "base_ddsm_cbm_2\n",
            "drive\n",
            "sample_data\n"
          ],
          "name": "stdout"
        },
        {
          "output_type": "stream",
          "text": [
            "rm: cannot remove 'images': No such file or directory\n"
          ],
          "name": "stderr"
        }
      ]
    },
    {
      "cell_type": "code",
      "metadata": {
        "id": "aPTwEFzC7u2V"
      },
      "source": [
        "data_dir = './images' # tworzenie katalogów: treningowego, walidacyjnego oraz testowego. \n",
        "                      #w każdym znajdują się 2 foldery: nor, ben_mal\n",
        "\n",
        "if not os.path.exists(data_dir):\n",
        "    os.mkdir(data_dir)\n",
        "\n",
        "train_dir = os.path.join(data_dir, 'train')\n",
        "valid_dir = os.path.join(data_dir, 'valid')\n",
        "test_dir = os.path.join(data_dir, 'test')\n",
        "\n",
        "train_nor_dir = os.path.join(train_dir, 'nor')\n",
        "train_ben_mal_dir = os.path.join(train_dir, 'ben_mal')\n",
        "\n",
        "valid_nor_dir = os.path.join(valid_dir, 'nor')\n",
        "valid_ben_mal_dir = os.path.join(valid_dir, 'ben_mal')\n",
        "\n",
        "test_nor_dir = os.path.join(test_dir, 'nor')\n",
        "test_ben_mal_dir = os.path.join(test_dir, 'ben_mal')\n",
        "\n",
        "for directory in (train_dir, valid_dir, test_dir):\n",
        "    if not os.path.exists(directory):\n",
        "        os.mkdir(directory)\n",
        "\n",
        "dirs = [train_nor_dir, train_ben_mal_dir, valid_nor_dir, valid_ben_mal_dir, test_nor_dir, test_ben_mal_dir]\n",
        "\n",
        "for dir in dirs:\n",
        "    if not os.path.exists(dir):\n",
        "        os.mkdir(dir)"
      ],
      "execution_count": null,
      "outputs": []
    },
    {
      "cell_type": "code",
      "metadata": {
        "id": "Ge7c11XS8KDa"
      },
      "source": [
        "#kopiowanie\n",
        "nor_fnames = os.listdir(os.path.join(base_dir, 'nor'))\n",
        "ben_mal_fnames = os.listdir(os.path.join(base_dir, 'ben_mal'))\n",
        "\n",
        "\n",
        "nor_fnames = [fname for fname in nor_fnames if fname.split('.')[1].lower() in ['png']]\n",
        "ben_mal_fnames = [fname for fname in ben_mal_fnames if fname.split('.')[1].lower() in ['png']]"
      ],
      "execution_count": null,
      "outputs": []
    },
    {
      "cell_type": "code",
      "metadata": {
        "id": "__68Vwb68jLn"
      },
      "source": [
        "size = min(len(nor_fnames), len(ben_mal_fnames)) # ustalanie ilości plików w folderze \n",
        "\n",
        "train_size = int(np.floor(0.7 * size))\n",
        "valid_size = int(np.floor(0.2 * size))\n",
        "test_size = size - train_size - valid_size\n",
        "\n",
        "train_idx = train_size\n",
        "valid_idx = train_size + valid_size\n",
        "test_idx = train_size + valid_size + test_size"
      ],
      "execution_count": null,
      "outputs": []
    },
    {
      "cell_type": "code",
      "metadata": {
        "id": "sL-rEKQk8qkQ"
      },
      "source": [
        "for i, fname in enumerate(nor_fnames): # proces kopiowania plików\n",
        "    if i <= train_idx:\n",
        "        src = os.path.join(base_dir, 'nor', fname)\n",
        "        dst = os.path.join(train_nor_dir, fname)\n",
        "        shutil.copyfile(src, dst)\n",
        "    elif train_idx < i <= valid_idx:\n",
        "        src = os.path.join(base_dir, 'nor', fname)\n",
        "        dst = os.path.join(valid_nor_dir, fname)\n",
        "        shutil.copyfile(src, dst) \n",
        "    elif valid_idx < i < test_idx:\n",
        "        src = os.path.join(base_dir, 'nor', fname)\n",
        "        dst = os.path.join(test_nor_dir, fname)\n",
        "        shutil.copyfile(src, dst) \n",
        "\n",
        "for i, fname in enumerate(ben_mal_fnames):\n",
        "    if i <= train_idx:\n",
        "        src = os.path.join(base_dir, 'ben_mal', fname)\n",
        "        dst = os.path.join(train_ben_mal_dir, fname)\n",
        "        shutil.copyfile(src, dst)\n",
        "    elif train_idx < i <= valid_idx:\n",
        "        src = os.path.join(base_dir, 'ben_mal', fname)\n",
        "        dst = os.path.join(valid_ben_mal_dir, fname)\n",
        "        shutil.copyfile(src, dst) \n",
        "    elif valid_idx < i < test_idx:\n",
        "        src = os.path.join(base_dir, 'ben_mal', fname)\n",
        "        dst = os.path.join(test_ben_mal_dir, fname)\n",
        "        shutil.copyfile(src, dst)"
      ],
      "execution_count": null,
      "outputs": []
    },
    {
      "cell_type": "code",
      "metadata": {
        "colab": {
          "base_uri": "https://localhost:8080/"
        },
        "id": "ZGJJM7iE9pa5",
        "outputId": "e682aa5d-f895-4da4-c128-30e0017d0fa8"
      },
      "source": [
        "# sprawdzanie ilości plików w folderach\n",
        "print('nor - trening', len(os.listdir(train_nor_dir))) \n",
        "print('nor - walidacja', len(os.listdir(valid_nor_dir)))\n",
        "print('nor - test', len(os.listdir(test_nor_dir)))\n",
        "\n",
        "print('ben_mal - trening', len(os.listdir(train_ben_mal_dir)))\n",
        "print('ben_mal - walidacja', len(os.listdir(valid_ben_mal_dir)))\n",
        "print('ben_mal - test', len(os.listdir(test_ben_mal_dir)))"
      ],
      "execution_count": null,
      "outputs": [
        {
          "output_type": "stream",
          "text": [
            "nor - trening 1403\n",
            "nor - walidacja 400\n",
            "nor - test 200\n",
            "ben_mal - trening 1403\n",
            "ben_mal - walidacja 400\n",
            "ben_mal - test 200\n"
          ],
          "name": "stdout"
        }
      ]
    },
    {
      "cell_type": "code",
      "metadata": {
        "colab": {
          "base_uri": "https://localhost:8080/"
        },
        "id": "_7HB5MAcE4Rb",
        "outputId": "ac2ba817-0593-474a-dda6-f0eabcbc5d88"
      },
      "source": [
        "# przeskalowanie obrazów o współczynnik 1/255\n",
        "train_datagen = ImageDataGenerator(rescale=1./255.)\n",
        "valid_datagen = ImageDataGenerator(rescale=1./255.)\n",
        "\n",
        "train_generator = train_datagen.flow_from_directory(directory=train_dir,\n",
        "                                                   target_size=(128, 128),\n",
        "                                                   batch_size=20,\n",
        "                                                   class_mode='binary')\n",
        "\n",
        "valid_generator = valid_datagen.flow_from_directory(directory=valid_dir,\n",
        "                                                   target_size=(128, 128),\n",
        "                                                   batch_size=20,\n",
        "                                                   class_mode='binary')"
      ],
      "execution_count": null,
      "outputs": [
        {
          "output_type": "stream",
          "text": [
            "Found 2806 images belonging to 2 classes.\n",
            "Found 800 images belonging to 2 classes.\n"
          ],
          "name": "stdout"
        }
      ]
    },
    {
      "cell_type": "code",
      "metadata": {
        "colab": {
          "base_uri": "https://localhost:8080/"
        },
        "id": "EFCKikTf-xd5",
        "outputId": "0fc9d179-d756-427e-98dd-c0d46fed3c4c"
      },
      "source": [
        "model = Sequential(\n",
        "    [\n",
        "        layers.Conv2D(32, kernel_size=(3, 3), activation=\"relu\", input_shape=(128, 128, 3)),\n",
        "        layers.MaxPooling2D(pool_size=(2, 2)),\n",
        "        layers.Conv2D(32, kernel_size=(3, 3), activation='relu'),\n",
        "        layers.MaxPooling2D(pool_size=(2, 2)),\n",
        "        layers.Conv2D(64, kernel_size=(3, 3), activation='relu'),\n",
        "        layers.MaxPooling2D(pool_size=(2, 2)),\n",
        "        layers.Conv2D(64, kernel_size=(3, 3), activation='relu'),\n",
        "        layers.MaxPooling2D(pool_size=(2, 2)),\n",
        "        layers.Flatten(),\n",
        "#        layers.Dropout(0.5),\n",
        "        layers.Dense(units=256, activation='relu'),\n",
        "        layers.Dense(units=1, activation='sigmoid') #1 sigmoid, 3 softmax\n",
        "    ]\n",
        ")\n",
        "\n",
        "model.summary()"
      ],
      "execution_count": null,
      "outputs": [
        {
          "output_type": "stream",
          "text": [
            "Model: \"sequential\"\n",
            "_________________________________________________________________\n",
            "Layer (type)                 Output Shape              Param #   \n",
            "=================================================================\n",
            "conv2d (Conv2D)              (None, 126, 126, 32)      896       \n",
            "_________________________________________________________________\n",
            "max_pooling2d (MaxPooling2D) (None, 63, 63, 32)        0         \n",
            "_________________________________________________________________\n",
            "conv2d_1 (Conv2D)            (None, 61, 61, 32)        9248      \n",
            "_________________________________________________________________\n",
            "max_pooling2d_1 (MaxPooling2 (None, 30, 30, 32)        0         \n",
            "_________________________________________________________________\n",
            "conv2d_2 (Conv2D)            (None, 28, 28, 64)        18496     \n",
            "_________________________________________________________________\n",
            "max_pooling2d_2 (MaxPooling2 (None, 14, 14, 64)        0         \n",
            "_________________________________________________________________\n",
            "conv2d_3 (Conv2D)            (None, 12, 12, 64)        36928     \n",
            "_________________________________________________________________\n",
            "max_pooling2d_3 (MaxPooling2 (None, 6, 6, 64)          0         \n",
            "_________________________________________________________________\n",
            "flatten (Flatten)            (None, 2304)              0         \n",
            "_________________________________________________________________\n",
            "dense (Dense)                (None, 256)               590080    \n",
            "_________________________________________________________________\n",
            "dense_1 (Dense)              (None, 1)                 257       \n",
            "=================================================================\n",
            "Total params: 655,905\n",
            "Trainable params: 655,905\n",
            "Non-trainable params: 0\n",
            "_________________________________________________________________\n"
          ],
          "name": "stdout"
        }
      ]
    },
    {
      "cell_type": "code",
      "metadata": {
        "id": "iRWWz7RK-6s2"
      },
      "source": [
        "model.compile(optimizer='Adam',\n",
        "             loss='binary_crossentropy',\n",
        "             metrics=['accuracy'])"
      ],
      "execution_count": null,
      "outputs": []
    },
    {
      "cell_type": "code",
      "metadata": {
        "colab": {
          "base_uri": "https://localhost:8080/"
        },
        "id": "p1VUGIrtAH13",
        "outputId": "7ab94f81-22bc-4d08-ce1e-c4acc26ffea6"
      },
      "source": [
        "batch_size = 16\n",
        "steps_per_epoch = train_size // batch_size\n",
        "validation_steps = valid_size // batch_size\n",
        "\n",
        "history = model.fit(train_generator,\n",
        "                    steps_per_epoch=steps_per_epoch,\n",
        "                    epochs=40,\n",
        "                    validation_data=valid_generator,\n",
        "                    validation_steps=validation_steps)"
      ],
      "execution_count": null,
      "outputs": [
        {
          "output_type": "stream",
          "text": [
            "Epoch 1/40\n",
            "87/87 [==============================] - 35s 25ms/step - loss: 0.6972 - accuracy: 0.5093 - val_loss: 0.6957 - val_accuracy: 0.5080\n",
            "Epoch 2/40\n",
            "87/87 [==============================] - 2s 25ms/step - loss: 0.6960 - accuracy: 0.4776 - val_loss: 0.6920 - val_accuracy: 0.5140\n",
            "Epoch 3/40\n",
            "87/87 [==============================] - 2s 23ms/step - loss: 0.6927 - accuracy: 0.5142 - val_loss: 0.6909 - val_accuracy: 0.5180\n",
            "Epoch 4/40\n",
            "87/87 [==============================] - 2s 23ms/step - loss: 0.6899 - accuracy: 0.5328 - val_loss: 0.6848 - val_accuracy: 0.6680\n",
            "Epoch 5/40\n",
            "87/87 [==============================] - 2s 24ms/step - loss: 0.6803 - accuracy: 0.6037 - val_loss: 0.6015 - val_accuracy: 0.6520\n",
            "Epoch 6/40\n",
            "87/87 [==============================] - 2s 23ms/step - loss: 0.5839 - accuracy: 0.6870 - val_loss: 0.5495 - val_accuracy: 0.7400\n",
            "Epoch 7/40\n",
            "87/87 [==============================] - 2s 23ms/step - loss: 0.5522 - accuracy: 0.7418 - val_loss: 0.4738 - val_accuracy: 0.7860\n",
            "Epoch 8/40\n",
            "87/87 [==============================] - 2s 23ms/step - loss: 0.4901 - accuracy: 0.7676 - val_loss: 0.4837 - val_accuracy: 0.7740\n",
            "Epoch 9/40\n",
            "87/87 [==============================] - 2s 23ms/step - loss: 0.4805 - accuracy: 0.7920 - val_loss: 0.4800 - val_accuracy: 0.7940\n",
            "Epoch 10/40\n",
            "87/87 [==============================] - 2s 24ms/step - loss: 0.4616 - accuracy: 0.7950 - val_loss: 0.4275 - val_accuracy: 0.7960\n",
            "Epoch 11/40\n",
            "87/87 [==============================] - 2s 23ms/step - loss: 0.4134 - accuracy: 0.8091 - val_loss: 0.3904 - val_accuracy: 0.8240\n",
            "Epoch 12/40\n",
            "87/87 [==============================] - 2s 23ms/step - loss: 0.3954 - accuracy: 0.8369 - val_loss: 0.3947 - val_accuracy: 0.8300\n",
            "Epoch 13/40\n",
            "87/87 [==============================] - 2s 23ms/step - loss: 0.3547 - accuracy: 0.8475 - val_loss: 0.4447 - val_accuracy: 0.8040\n",
            "Epoch 14/40\n",
            "87/87 [==============================] - 2s 23ms/step - loss: 0.3561 - accuracy: 0.8430 - val_loss: 0.3556 - val_accuracy: 0.8400\n",
            "Epoch 15/40\n",
            "87/87 [==============================] - 2s 23ms/step - loss: 0.3329 - accuracy: 0.8638 - val_loss: 0.3746 - val_accuracy: 0.8460\n",
            "Epoch 16/40\n",
            "87/87 [==============================] - 2s 23ms/step - loss: 0.3161 - accuracy: 0.8582 - val_loss: 0.3756 - val_accuracy: 0.8500\n",
            "Epoch 17/40\n",
            "87/87 [==============================] - 2s 23ms/step - loss: 0.2895 - accuracy: 0.8772 - val_loss: 0.3891 - val_accuracy: 0.8480\n",
            "Epoch 18/40\n",
            "87/87 [==============================] - 2s 23ms/step - loss: 0.2498 - accuracy: 0.8981 - val_loss: 0.4599 - val_accuracy: 0.8240\n",
            "Epoch 19/40\n",
            "87/87 [==============================] - 2s 23ms/step - loss: 0.2503 - accuracy: 0.8946 - val_loss: 0.3976 - val_accuracy: 0.8440\n",
            "Epoch 20/40\n",
            "87/87 [==============================] - 2s 23ms/step - loss: 0.2502 - accuracy: 0.8939 - val_loss: 0.3738 - val_accuracy: 0.8400\n",
            "Epoch 21/40\n",
            "87/87 [==============================] - 2s 23ms/step - loss: 0.2491 - accuracy: 0.8901 - val_loss: 0.4150 - val_accuracy: 0.8280\n",
            "Epoch 22/40\n",
            "87/87 [==============================] - 2s 23ms/step - loss: 0.2315 - accuracy: 0.9055 - val_loss: 0.4546 - val_accuracy: 0.8300\n",
            "Epoch 23/40\n",
            "87/87 [==============================] - 2s 23ms/step - loss: 0.2007 - accuracy: 0.9209 - val_loss: 0.4643 - val_accuracy: 0.8300\n",
            "Epoch 24/40\n",
            "87/87 [==============================] - 2s 23ms/step - loss: 0.2012 - accuracy: 0.9247 - val_loss: 0.4055 - val_accuracy: 0.8600\n",
            "Epoch 25/40\n",
            "87/87 [==============================] - 2s 23ms/step - loss: 0.1612 - accuracy: 0.9304 - val_loss: 0.5991 - val_accuracy: 0.8400\n",
            "Epoch 26/40\n",
            "87/87 [==============================] - 2s 23ms/step - loss: 0.1669 - accuracy: 0.9297 - val_loss: 0.4514 - val_accuracy: 0.8560\n",
            "Epoch 27/40\n",
            "87/87 [==============================] - 2s 23ms/step - loss: 0.1350 - accuracy: 0.9531 - val_loss: 0.5395 - val_accuracy: 0.8360\n",
            "Epoch 28/40\n",
            "87/87 [==============================] - 2s 24ms/step - loss: 0.1197 - accuracy: 0.9633 - val_loss: 0.6305 - val_accuracy: 0.8220\n",
            "Epoch 29/40\n",
            "87/87 [==============================] - 2s 24ms/step - loss: 0.1001 - accuracy: 0.9611 - val_loss: 0.6530 - val_accuracy: 0.8340\n",
            "Epoch 30/40\n",
            "87/87 [==============================] - 2s 24ms/step - loss: 0.1304 - accuracy: 0.9545 - val_loss: 0.6113 - val_accuracy: 0.8520\n",
            "Epoch 31/40\n",
            "87/87 [==============================] - 2s 23ms/step - loss: 0.0922 - accuracy: 0.9676 - val_loss: 0.5544 - val_accuracy: 0.8340\n",
            "Epoch 32/40\n",
            "87/87 [==============================] - 2s 23ms/step - loss: 0.1122 - accuracy: 0.9554 - val_loss: 0.6077 - val_accuracy: 0.8420\n",
            "Epoch 33/40\n",
            "87/87 [==============================] - 2s 23ms/step - loss: 0.0830 - accuracy: 0.9674 - val_loss: 0.4927 - val_accuracy: 0.8620\n",
            "Epoch 34/40\n",
            "87/87 [==============================] - 2s 23ms/step - loss: 0.0960 - accuracy: 0.9703 - val_loss: 0.6600 - val_accuracy: 0.8380\n",
            "Epoch 35/40\n",
            "87/87 [==============================] - 2s 23ms/step - loss: 0.0689 - accuracy: 0.9736 - val_loss: 0.8905 - val_accuracy: 0.8280\n",
            "Epoch 36/40\n",
            "87/87 [==============================] - 2s 23ms/step - loss: 0.0802 - accuracy: 0.9710 - val_loss: 0.7553 - val_accuracy: 0.8580\n",
            "Epoch 37/40\n",
            "87/87 [==============================] - 2s 23ms/step - loss: 0.0442 - accuracy: 0.9884 - val_loss: 0.9820 - val_accuracy: 0.8300\n",
            "Epoch 38/40\n",
            "87/87 [==============================] - 2s 23ms/step - loss: 0.0580 - accuracy: 0.9821 - val_loss: 0.9061 - val_accuracy: 0.8560\n",
            "Epoch 39/40\n",
            "87/87 [==============================] - 2s 23ms/step - loss: 0.0574 - accuracy: 0.9806 - val_loss: 0.8265 - val_accuracy: 0.8580\n",
            "Epoch 40/40\n",
            "87/87 [==============================] - 2s 23ms/step - loss: 0.0577 - accuracy: 0.9790 - val_loss: 0.9092 - val_accuracy: 0.8480\n"
          ],
          "name": "stdout"
        }
      ]
    },
    {
      "cell_type": "code",
      "metadata": {
        "id": "MqaW3inZC4ie",
        "colab": {
          "base_uri": "https://localhost:8080/",
          "height": 1000
        },
        "outputId": "10ff5f96-3176-43ba-c96e-1fb487a12e5a"
      },
      "source": [
        "def plot_hist(history):\n",
        "    hist = pd.DataFrame(history.history)\n",
        "    hist['epoch'] = history.epoch\n",
        "\n",
        "    fig = go.Figure()\n",
        "    fig.add_trace(go.Scatter(x=hist['epoch'], y=hist['accuracy'], name='accuracy', mode='markers+lines'))\n",
        "    fig.add_trace(go.Scatter(x=hist['epoch'], y=hist['val_accuracy'], name='val_accuracy', mode='markers+lines'))\n",
        "    fig.update_layout(width=1000, height=500, title='Accuracy vs. Val Accuracy', xaxis_title='Epoki', yaxis_title='Accuracy', yaxis_type='log')\n",
        "    fig.show()\n",
        "\n",
        "    fig = go.Figure()\n",
        "    fig.add_trace(go.Scatter(x=hist['epoch'], y=hist['loss'], name='loss', mode='markers+lines'))\n",
        "    fig.add_trace(go.Scatter(x=hist['epoch'], y=hist['val_loss'], name='val_loss', mode='markers+lines'))\n",
        "    fig.update_layout(width=1000, height=500, title='Loss vs. Val Loss', xaxis_title='Epoki', yaxis_title='Loss', yaxis_type='log')\n",
        "    fig.show()\n",
        "\n",
        "plot_hist(history)"
      ],
      "execution_count": null,
      "outputs": [
        {
          "output_type": "display_data",
          "data": {
            "text/html": [
              "<html>\n",
              "<head><meta charset=\"utf-8\" /></head>\n",
              "<body>\n",
              "    <div>\n",
              "            <script src=\"https://cdnjs.cloudflare.com/ajax/libs/mathjax/2.7.5/MathJax.js?config=TeX-AMS-MML_SVG\"></script><script type=\"text/javascript\">if (window.MathJax) {MathJax.Hub.Config({SVG: {font: \"STIX-Web\"}});}</script>\n",
              "                <script type=\"text/javascript\">window.PlotlyConfig = {MathJaxConfig: 'local'};</script>\n",
              "        <script src=\"https://cdn.plot.ly/plotly-latest.min.js\"></script>    \n",
              "            <div id=\"69d98e4f-6732-464b-a93e-44a0f7938139\" class=\"plotly-graph-div\" style=\"height:500px; width:1000px;\"></div>\n",
              "            <script type=\"text/javascript\">\n",
              "                \n",
              "                    window.PLOTLYENV=window.PLOTLYENV || {};\n",
              "                    \n",
              "                if (document.getElementById(\"69d98e4f-6732-464b-a93e-44a0f7938139\")) {\n",
              "                    Plotly.newPlot(\n",
              "                        '69d98e4f-6732-464b-a93e-44a0f7938139',\n",
              "                        [{\"mode\": \"markers+lines\", \"name\": \"accuracy\", \"type\": \"scatter\", \"x\": [0, 1, 2, 3, 4, 5, 6, 7, 8, 9, 10, 11, 12, 13, 14, 15, 16, 17, 18, 19, 20, 21, 22, 23, 24, 25, 26, 27, 28, 29, 30, 31, 32, 33, 34, 35, 36, 37, 38, 39], \"y\": [0.5120689868927002, 0.49768251180648804, 0.5114942789077759, 0.5454022884368896, 0.6095017194747925, 0.701042890548706, 0.7367815971374512, 0.7531865835189819, 0.7839080691337585, 0.800000011920929, 0.8143678307533264, 0.8354576826095581, 0.8441483378410339, 0.8395133018493652, 0.855156421661377, 0.8650057911872864, 0.876593291759491, 0.886781632900238, 0.8910776376724243, 0.8713788986206055, 0.8925287127494812, 0.9172413945198059, 0.9195402264595032, 0.9258400797843933, 0.932792603969574, 0.931034505367279, 0.9545977115631104, 0.9534482955932617, 0.9632183909416199, 0.9542294144630432, 0.952491283416748, 0.9594438076019287, 0.959770143032074, 0.967555046081543, 0.9775862097740173, 0.9704518914222717, 0.9860950112342834, 0.9793103337287903, 0.9803012609481812, 0.9849362969398499]}, {\"mode\": \"markers+lines\", \"name\": \"val_accuracy\", \"type\": \"scatter\", \"x\": [0, 1, 2, 3, 4, 5, 6, 7, 8, 9, 10, 11, 12, 13, 14, 15, 16, 17, 18, 19, 20, 21, 22, 23, 24, 25, 26, 27, 28, 29, 30, 31, 32, 33, 34, 35, 36, 37, 38, 39], \"y\": [0.5080000162124634, 0.5139999985694885, 0.5180000066757202, 0.6679999828338623, 0.6520000100135803, 0.7400000095367432, 0.7860000133514404, 0.7739999890327454, 0.7940000295639038, 0.7960000038146973, 0.8240000009536743, 0.8299999833106995, 0.8040000200271606, 0.8399999737739563, 0.8460000157356262, 0.8500000238418579, 0.8479999899864197, 0.8240000009536743, 0.843999981880188, 0.8399999737739563, 0.828000009059906, 0.8299999833106995, 0.8299999833106995, 0.8600000143051147, 0.8399999737739563, 0.8560000061988831, 0.8360000252723694, 0.8220000267028809, 0.8339999914169312, 0.8519999980926514, 0.8339999914169312, 0.8420000076293945, 0.8619999885559082, 0.8379999995231628, 0.828000009059906, 0.8579999804496765, 0.8299999833106995, 0.8560000061988831, 0.8579999804496765, 0.8479999899864197]}],\n",
              "                        {\"height\": 500, \"template\": {\"data\": {\"bar\": [{\"error_x\": {\"color\": \"#2a3f5f\"}, \"error_y\": {\"color\": \"#2a3f5f\"}, \"marker\": {\"line\": {\"color\": \"#E5ECF6\", \"width\": 0.5}}, \"type\": \"bar\"}], \"barpolar\": [{\"marker\": {\"line\": {\"color\": \"#E5ECF6\", \"width\": 0.5}}, \"type\": \"barpolar\"}], \"carpet\": [{\"aaxis\": {\"endlinecolor\": \"#2a3f5f\", \"gridcolor\": \"white\", \"linecolor\": \"white\", \"minorgridcolor\": \"white\", \"startlinecolor\": \"#2a3f5f\"}, \"baxis\": {\"endlinecolor\": \"#2a3f5f\", \"gridcolor\": \"white\", \"linecolor\": \"white\", \"minorgridcolor\": \"white\", \"startlinecolor\": \"#2a3f5f\"}, \"type\": \"carpet\"}], \"choropleth\": [{\"colorbar\": {\"outlinewidth\": 0, \"ticks\": \"\"}, \"type\": \"choropleth\"}], \"contour\": [{\"colorbar\": {\"outlinewidth\": 0, \"ticks\": \"\"}, \"colorscale\": [[0.0, \"#0d0887\"], [0.1111111111111111, \"#46039f\"], [0.2222222222222222, \"#7201a8\"], [0.3333333333333333, \"#9c179e\"], [0.4444444444444444, \"#bd3786\"], [0.5555555555555556, \"#d8576b\"], [0.6666666666666666, \"#ed7953\"], [0.7777777777777778, \"#fb9f3a\"], [0.8888888888888888, \"#fdca26\"], [1.0, \"#f0f921\"]], \"type\": \"contour\"}], \"contourcarpet\": [{\"colorbar\": {\"outlinewidth\": 0, \"ticks\": \"\"}, \"type\": \"contourcarpet\"}], \"heatmap\": [{\"colorbar\": {\"outlinewidth\": 0, \"ticks\": \"\"}, \"colorscale\": [[0.0, \"#0d0887\"], [0.1111111111111111, \"#46039f\"], [0.2222222222222222, \"#7201a8\"], [0.3333333333333333, \"#9c179e\"], [0.4444444444444444, \"#bd3786\"], [0.5555555555555556, \"#d8576b\"], [0.6666666666666666, \"#ed7953\"], [0.7777777777777778, \"#fb9f3a\"], [0.8888888888888888, \"#fdca26\"], [1.0, \"#f0f921\"]], \"type\": \"heatmap\"}], \"heatmapgl\": [{\"colorbar\": {\"outlinewidth\": 0, \"ticks\": \"\"}, \"colorscale\": [[0.0, \"#0d0887\"], [0.1111111111111111, \"#46039f\"], [0.2222222222222222, \"#7201a8\"], [0.3333333333333333, \"#9c179e\"], [0.4444444444444444, \"#bd3786\"], [0.5555555555555556, \"#d8576b\"], [0.6666666666666666, \"#ed7953\"], [0.7777777777777778, \"#fb9f3a\"], [0.8888888888888888, \"#fdca26\"], [1.0, \"#f0f921\"]], \"type\": \"heatmapgl\"}], \"histogram\": [{\"marker\": {\"colorbar\": {\"outlinewidth\": 0, \"ticks\": \"\"}}, \"type\": \"histogram\"}], \"histogram2d\": [{\"colorbar\": {\"outlinewidth\": 0, \"ticks\": \"\"}, \"colorscale\": [[0.0, \"#0d0887\"], [0.1111111111111111, \"#46039f\"], [0.2222222222222222, \"#7201a8\"], [0.3333333333333333, \"#9c179e\"], [0.4444444444444444, \"#bd3786\"], [0.5555555555555556, \"#d8576b\"], [0.6666666666666666, \"#ed7953\"], [0.7777777777777778, \"#fb9f3a\"], [0.8888888888888888, \"#fdca26\"], [1.0, \"#f0f921\"]], \"type\": \"histogram2d\"}], \"histogram2dcontour\": [{\"colorbar\": {\"outlinewidth\": 0, \"ticks\": \"\"}, \"colorscale\": [[0.0, \"#0d0887\"], [0.1111111111111111, \"#46039f\"], [0.2222222222222222, \"#7201a8\"], [0.3333333333333333, \"#9c179e\"], [0.4444444444444444, \"#bd3786\"], [0.5555555555555556, \"#d8576b\"], [0.6666666666666666, \"#ed7953\"], [0.7777777777777778, \"#fb9f3a\"], [0.8888888888888888, \"#fdca26\"], [1.0, \"#f0f921\"]], \"type\": \"histogram2dcontour\"}], \"mesh3d\": [{\"colorbar\": {\"outlinewidth\": 0, \"ticks\": \"\"}, \"type\": \"mesh3d\"}], \"parcoords\": [{\"line\": {\"colorbar\": {\"outlinewidth\": 0, \"ticks\": \"\"}}, \"type\": \"parcoords\"}], \"pie\": [{\"automargin\": true, \"type\": \"pie\"}], \"scatter\": [{\"marker\": {\"colorbar\": {\"outlinewidth\": 0, \"ticks\": \"\"}}, \"type\": \"scatter\"}], \"scatter3d\": [{\"line\": {\"colorbar\": {\"outlinewidth\": 0, \"ticks\": \"\"}}, \"marker\": {\"colorbar\": {\"outlinewidth\": 0, \"ticks\": \"\"}}, \"type\": \"scatter3d\"}], \"scattercarpet\": [{\"marker\": {\"colorbar\": {\"outlinewidth\": 0, \"ticks\": \"\"}}, \"type\": \"scattercarpet\"}], \"scattergeo\": [{\"marker\": {\"colorbar\": {\"outlinewidth\": 0, \"ticks\": \"\"}}, \"type\": \"scattergeo\"}], \"scattergl\": [{\"marker\": {\"colorbar\": {\"outlinewidth\": 0, \"ticks\": \"\"}}, \"type\": \"scattergl\"}], \"scattermapbox\": [{\"marker\": {\"colorbar\": {\"outlinewidth\": 0, \"ticks\": \"\"}}, \"type\": \"scattermapbox\"}], \"scatterpolar\": [{\"marker\": {\"colorbar\": {\"outlinewidth\": 0, \"ticks\": \"\"}}, \"type\": \"scatterpolar\"}], \"scatterpolargl\": [{\"marker\": {\"colorbar\": {\"outlinewidth\": 0, \"ticks\": \"\"}}, \"type\": \"scatterpolargl\"}], \"scatterternary\": [{\"marker\": {\"colorbar\": {\"outlinewidth\": 0, \"ticks\": \"\"}}, \"type\": \"scatterternary\"}], \"surface\": [{\"colorbar\": {\"outlinewidth\": 0, \"ticks\": \"\"}, \"colorscale\": [[0.0, \"#0d0887\"], [0.1111111111111111, \"#46039f\"], [0.2222222222222222, \"#7201a8\"], [0.3333333333333333, \"#9c179e\"], [0.4444444444444444, \"#bd3786\"], [0.5555555555555556, \"#d8576b\"], [0.6666666666666666, \"#ed7953\"], [0.7777777777777778, \"#fb9f3a\"], [0.8888888888888888, \"#fdca26\"], [1.0, \"#f0f921\"]], \"type\": \"surface\"}], \"table\": [{\"cells\": {\"fill\": {\"color\": \"#EBF0F8\"}, \"line\": {\"color\": \"white\"}}, \"header\": {\"fill\": {\"color\": \"#C8D4E3\"}, \"line\": {\"color\": \"white\"}}, \"type\": \"table\"}]}, \"layout\": {\"annotationdefaults\": {\"arrowcolor\": \"#2a3f5f\", \"arrowhead\": 0, \"arrowwidth\": 1}, \"coloraxis\": {\"colorbar\": {\"outlinewidth\": 0, \"ticks\": \"\"}}, \"colorscale\": {\"diverging\": [[0, \"#8e0152\"], [0.1, \"#c51b7d\"], [0.2, \"#de77ae\"], [0.3, \"#f1b6da\"], [0.4, \"#fde0ef\"], [0.5, \"#f7f7f7\"], [0.6, \"#e6f5d0\"], [0.7, \"#b8e186\"], [0.8, \"#7fbc41\"], [0.9, \"#4d9221\"], [1, \"#276419\"]], \"sequential\": [[0.0, \"#0d0887\"], [0.1111111111111111, \"#46039f\"], [0.2222222222222222, \"#7201a8\"], [0.3333333333333333, \"#9c179e\"], [0.4444444444444444, \"#bd3786\"], [0.5555555555555556, \"#d8576b\"], [0.6666666666666666, \"#ed7953\"], [0.7777777777777778, \"#fb9f3a\"], [0.8888888888888888, \"#fdca26\"], [1.0, \"#f0f921\"]], \"sequentialminus\": [[0.0, \"#0d0887\"], [0.1111111111111111, \"#46039f\"], [0.2222222222222222, \"#7201a8\"], [0.3333333333333333, \"#9c179e\"], [0.4444444444444444, \"#bd3786\"], [0.5555555555555556, \"#d8576b\"], [0.6666666666666666, \"#ed7953\"], [0.7777777777777778, \"#fb9f3a\"], [0.8888888888888888, \"#fdca26\"], [1.0, \"#f0f921\"]]}, \"colorway\": [\"#636efa\", \"#EF553B\", \"#00cc96\", \"#ab63fa\", \"#FFA15A\", \"#19d3f3\", \"#FF6692\", \"#B6E880\", \"#FF97FF\", \"#FECB52\"], \"font\": {\"color\": \"#2a3f5f\"}, \"geo\": {\"bgcolor\": \"white\", \"lakecolor\": \"white\", \"landcolor\": \"#E5ECF6\", \"showlakes\": true, \"showland\": true, \"subunitcolor\": \"white\"}, \"hoverlabel\": {\"align\": \"left\"}, \"hovermode\": \"closest\", \"mapbox\": {\"style\": \"light\"}, \"paper_bgcolor\": \"white\", \"plot_bgcolor\": \"#E5ECF6\", \"polar\": {\"angularaxis\": {\"gridcolor\": \"white\", \"linecolor\": \"white\", \"ticks\": \"\"}, \"bgcolor\": \"#E5ECF6\", \"radialaxis\": {\"gridcolor\": \"white\", \"linecolor\": \"white\", \"ticks\": \"\"}}, \"scene\": {\"xaxis\": {\"backgroundcolor\": \"#E5ECF6\", \"gridcolor\": \"white\", \"gridwidth\": 2, \"linecolor\": \"white\", \"showbackground\": true, \"ticks\": \"\", \"zerolinecolor\": \"white\"}, \"yaxis\": {\"backgroundcolor\": \"#E5ECF6\", \"gridcolor\": \"white\", \"gridwidth\": 2, \"linecolor\": \"white\", \"showbackground\": true, \"ticks\": \"\", \"zerolinecolor\": \"white\"}, \"zaxis\": {\"backgroundcolor\": \"#E5ECF6\", \"gridcolor\": \"white\", \"gridwidth\": 2, \"linecolor\": \"white\", \"showbackground\": true, \"ticks\": \"\", \"zerolinecolor\": \"white\"}}, \"shapedefaults\": {\"line\": {\"color\": \"#2a3f5f\"}}, \"ternary\": {\"aaxis\": {\"gridcolor\": \"white\", \"linecolor\": \"white\", \"ticks\": \"\"}, \"baxis\": {\"gridcolor\": \"white\", \"linecolor\": \"white\", \"ticks\": \"\"}, \"bgcolor\": \"#E5ECF6\", \"caxis\": {\"gridcolor\": \"white\", \"linecolor\": \"white\", \"ticks\": \"\"}}, \"title\": {\"x\": 0.05}, \"xaxis\": {\"automargin\": true, \"gridcolor\": \"white\", \"linecolor\": \"white\", \"ticks\": \"\", \"title\": {\"standoff\": 15}, \"zerolinecolor\": \"white\", \"zerolinewidth\": 2}, \"yaxis\": {\"automargin\": true, \"gridcolor\": \"white\", \"linecolor\": \"white\", \"ticks\": \"\", \"title\": {\"standoff\": 15}, \"zerolinecolor\": \"white\", \"zerolinewidth\": 2}}}, \"title\": {\"text\": \"Accuracy vs. Val Accuracy\"}, \"width\": 1000, \"xaxis\": {\"title\": {\"text\": \"Epoki\"}}, \"yaxis\": {\"title\": {\"text\": \"Accuracy\"}, \"type\": \"log\"}},\n",
              "                        {\"responsive\": true}\n",
              "                    ).then(function(){\n",
              "                            \n",
              "var gd = document.getElementById('69d98e4f-6732-464b-a93e-44a0f7938139');\n",
              "var x = new MutationObserver(function (mutations, observer) {{\n",
              "        var display = window.getComputedStyle(gd).display;\n",
              "        if (!display || display === 'none') {{\n",
              "            console.log([gd, 'removed!']);\n",
              "            Plotly.purge(gd);\n",
              "            observer.disconnect();\n",
              "        }}\n",
              "}});\n",
              "\n",
              "// Listen for the removal of the full notebook cells\n",
              "var notebookContainer = gd.closest('#notebook-container');\n",
              "if (notebookContainer) {{\n",
              "    x.observe(notebookContainer, {childList: true});\n",
              "}}\n",
              "\n",
              "// Listen for the clearing of the current output cell\n",
              "var outputEl = gd.closest('.output');\n",
              "if (outputEl) {{\n",
              "    x.observe(outputEl, {childList: true});\n",
              "}}\n",
              "\n",
              "                        })\n",
              "                };\n",
              "                \n",
              "            </script>\n",
              "        </div>\n",
              "</body>\n",
              "</html>"
            ]
          },
          "metadata": {
            "tags": []
          }
        },
        {
          "output_type": "display_data",
          "data": {
            "text/html": [
              "<html>\n",
              "<head><meta charset=\"utf-8\" /></head>\n",
              "<body>\n",
              "    <div>\n",
              "            <script src=\"https://cdnjs.cloudflare.com/ajax/libs/mathjax/2.7.5/MathJax.js?config=TeX-AMS-MML_SVG\"></script><script type=\"text/javascript\">if (window.MathJax) {MathJax.Hub.Config({SVG: {font: \"STIX-Web\"}});}</script>\n",
              "                <script type=\"text/javascript\">window.PlotlyConfig = {MathJaxConfig: 'local'};</script>\n",
              "        <script src=\"https://cdn.plot.ly/plotly-latest.min.js\"></script>    \n",
              "            <div id=\"442d7188-fbc2-4eb8-99cb-32c0dacf7ae2\" class=\"plotly-graph-div\" style=\"height:500px; width:1000px;\"></div>\n",
              "            <script type=\"text/javascript\">\n",
              "                \n",
              "                    window.PLOTLYENV=window.PLOTLYENV || {};\n",
              "                    \n",
              "                if (document.getElementById(\"442d7188-fbc2-4eb8-99cb-32c0dacf7ae2\")) {\n",
              "                    Plotly.newPlot(\n",
              "                        '442d7188-fbc2-4eb8-99cb-32c0dacf7ae2',\n",
              "                        [{\"mode\": \"markers+lines\", \"name\": \"loss\", \"type\": \"scatter\", \"x\": [0, 1, 2, 3, 4, 5, 6, 7, 8, 9, 10, 11, 12, 13, 14, 15, 16, 17, 18, 19, 20, 21, 22, 23, 24, 25, 26, 27, 28, 29, 30, 31, 32, 33, 34, 35, 36, 37, 38, 39], \"y\": [0.6940777897834778, 0.6940959095954895, 0.6927300691604614, 0.6882190704345703, 0.6625142693519592, 0.5792257189750671, 0.5478793978691101, 0.49519339203834534, 0.48773354291915894, 0.4583386778831482, 0.4063214063644409, 0.3959311246871948, 0.35660868883132935, 0.36399492621421814, 0.34179043769836426, 0.31024259328842163, 0.2938539981842041, 0.2652495205402374, 0.27235567569732666, 0.2797260880470276, 0.25295698642730713, 0.21024274826049805, 0.20150448381900787, 0.18980546295642853, 0.15882721543312073, 0.16712023317813873, 0.12897083163261414, 0.12830330431461334, 0.10049384087324142, 0.12285958975553513, 0.1328243613243103, 0.10004466027021408, 0.11021988093852997, 0.09344398230314255, 0.06172217056155205, 0.07966359704732895, 0.04412250220775604, 0.06034516543149948, 0.05267848074436188, 0.04621066525578499]}, {\"mode\": \"markers+lines\", \"name\": \"val_loss\", \"type\": \"scatter\", \"x\": [0, 1, 2, 3, 4, 5, 6, 7, 8, 9, 10, 11, 12, 13, 14, 15, 16, 17, 18, 19, 20, 21, 22, 23, 24, 25, 26, 27, 28, 29, 30, 31, 32, 33, 34, 35, 36, 37, 38, 39], \"y\": [0.6957250833511353, 0.692029595375061, 0.690925121307373, 0.6848152279853821, 0.6015287637710571, 0.5495060682296753, 0.47384965419769287, 0.48370108008384705, 0.4800056517124176, 0.4274890720844269, 0.3903592824935913, 0.39470604062080383, 0.4446844756603241, 0.35555174946784973, 0.37459301948547363, 0.37560704350471497, 0.3891187906265259, 0.45992791652679443, 0.39764055609703064, 0.37379127740859985, 0.41495421528816223, 0.45464617013931274, 0.46427303552627563, 0.4055187404155731, 0.5991483926773071, 0.4513675272464752, 0.5395203828811646, 0.6305397152900696, 0.6529914736747742, 0.6112843155860901, 0.5544447898864746, 0.607677161693573, 0.49274423718452454, 0.659967303276062, 0.8905159831047058, 0.7553404569625854, 0.9820284247398376, 0.9060716032981873, 0.8265316486358643, 0.9091500639915466]}],\n",
              "                        {\"height\": 500, \"template\": {\"data\": {\"bar\": [{\"error_x\": {\"color\": \"#2a3f5f\"}, \"error_y\": {\"color\": \"#2a3f5f\"}, \"marker\": {\"line\": {\"color\": \"#E5ECF6\", \"width\": 0.5}}, \"type\": \"bar\"}], \"barpolar\": [{\"marker\": {\"line\": {\"color\": \"#E5ECF6\", \"width\": 0.5}}, \"type\": \"barpolar\"}], \"carpet\": [{\"aaxis\": {\"endlinecolor\": \"#2a3f5f\", \"gridcolor\": \"white\", \"linecolor\": \"white\", \"minorgridcolor\": \"white\", \"startlinecolor\": \"#2a3f5f\"}, \"baxis\": {\"endlinecolor\": \"#2a3f5f\", \"gridcolor\": \"white\", \"linecolor\": \"white\", \"minorgridcolor\": \"white\", \"startlinecolor\": \"#2a3f5f\"}, \"type\": \"carpet\"}], \"choropleth\": [{\"colorbar\": {\"outlinewidth\": 0, \"ticks\": \"\"}, \"type\": \"choropleth\"}], \"contour\": [{\"colorbar\": {\"outlinewidth\": 0, \"ticks\": \"\"}, \"colorscale\": [[0.0, \"#0d0887\"], [0.1111111111111111, \"#46039f\"], [0.2222222222222222, \"#7201a8\"], [0.3333333333333333, \"#9c179e\"], [0.4444444444444444, \"#bd3786\"], [0.5555555555555556, \"#d8576b\"], [0.6666666666666666, \"#ed7953\"], [0.7777777777777778, \"#fb9f3a\"], [0.8888888888888888, \"#fdca26\"], [1.0, \"#f0f921\"]], \"type\": \"contour\"}], \"contourcarpet\": [{\"colorbar\": {\"outlinewidth\": 0, \"ticks\": \"\"}, \"type\": \"contourcarpet\"}], \"heatmap\": [{\"colorbar\": {\"outlinewidth\": 0, \"ticks\": \"\"}, \"colorscale\": [[0.0, \"#0d0887\"], [0.1111111111111111, \"#46039f\"], [0.2222222222222222, \"#7201a8\"], [0.3333333333333333, \"#9c179e\"], [0.4444444444444444, \"#bd3786\"], [0.5555555555555556, \"#d8576b\"], [0.6666666666666666, \"#ed7953\"], [0.7777777777777778, \"#fb9f3a\"], [0.8888888888888888, \"#fdca26\"], [1.0, \"#f0f921\"]], \"type\": \"heatmap\"}], \"heatmapgl\": [{\"colorbar\": {\"outlinewidth\": 0, \"ticks\": \"\"}, \"colorscale\": [[0.0, \"#0d0887\"], [0.1111111111111111, \"#46039f\"], [0.2222222222222222, \"#7201a8\"], [0.3333333333333333, \"#9c179e\"], [0.4444444444444444, \"#bd3786\"], [0.5555555555555556, \"#d8576b\"], [0.6666666666666666, \"#ed7953\"], [0.7777777777777778, \"#fb9f3a\"], [0.8888888888888888, \"#fdca26\"], [1.0, \"#f0f921\"]], \"type\": \"heatmapgl\"}], \"histogram\": [{\"marker\": {\"colorbar\": {\"outlinewidth\": 0, \"ticks\": \"\"}}, \"type\": \"histogram\"}], \"histogram2d\": [{\"colorbar\": {\"outlinewidth\": 0, \"ticks\": \"\"}, \"colorscale\": [[0.0, \"#0d0887\"], [0.1111111111111111, \"#46039f\"], [0.2222222222222222, \"#7201a8\"], [0.3333333333333333, \"#9c179e\"], [0.4444444444444444, \"#bd3786\"], [0.5555555555555556, \"#d8576b\"], [0.6666666666666666, \"#ed7953\"], [0.7777777777777778, \"#fb9f3a\"], [0.8888888888888888, \"#fdca26\"], [1.0, \"#f0f921\"]], \"type\": \"histogram2d\"}], \"histogram2dcontour\": [{\"colorbar\": {\"outlinewidth\": 0, \"ticks\": \"\"}, \"colorscale\": [[0.0, \"#0d0887\"], [0.1111111111111111, \"#46039f\"], [0.2222222222222222, \"#7201a8\"], [0.3333333333333333, \"#9c179e\"], [0.4444444444444444, \"#bd3786\"], [0.5555555555555556, \"#d8576b\"], [0.6666666666666666, \"#ed7953\"], [0.7777777777777778, \"#fb9f3a\"], [0.8888888888888888, \"#fdca26\"], [1.0, \"#f0f921\"]], \"type\": \"histogram2dcontour\"}], \"mesh3d\": [{\"colorbar\": {\"outlinewidth\": 0, \"ticks\": \"\"}, \"type\": \"mesh3d\"}], \"parcoords\": [{\"line\": {\"colorbar\": {\"outlinewidth\": 0, \"ticks\": \"\"}}, \"type\": \"parcoords\"}], \"pie\": [{\"automargin\": true, \"type\": \"pie\"}], \"scatter\": [{\"marker\": {\"colorbar\": {\"outlinewidth\": 0, \"ticks\": \"\"}}, \"type\": \"scatter\"}], \"scatter3d\": [{\"line\": {\"colorbar\": {\"outlinewidth\": 0, \"ticks\": \"\"}}, \"marker\": {\"colorbar\": {\"outlinewidth\": 0, \"ticks\": \"\"}}, \"type\": \"scatter3d\"}], \"scattercarpet\": [{\"marker\": {\"colorbar\": {\"outlinewidth\": 0, \"ticks\": \"\"}}, \"type\": \"scattercarpet\"}], \"scattergeo\": [{\"marker\": {\"colorbar\": {\"outlinewidth\": 0, \"ticks\": \"\"}}, \"type\": \"scattergeo\"}], \"scattergl\": [{\"marker\": {\"colorbar\": {\"outlinewidth\": 0, \"ticks\": \"\"}}, \"type\": \"scattergl\"}], \"scattermapbox\": [{\"marker\": {\"colorbar\": {\"outlinewidth\": 0, \"ticks\": \"\"}}, \"type\": \"scattermapbox\"}], \"scatterpolar\": [{\"marker\": {\"colorbar\": {\"outlinewidth\": 0, \"ticks\": \"\"}}, \"type\": \"scatterpolar\"}], \"scatterpolargl\": [{\"marker\": {\"colorbar\": {\"outlinewidth\": 0, \"ticks\": \"\"}}, \"type\": \"scatterpolargl\"}], \"scatterternary\": [{\"marker\": {\"colorbar\": {\"outlinewidth\": 0, \"ticks\": \"\"}}, \"type\": \"scatterternary\"}], \"surface\": [{\"colorbar\": {\"outlinewidth\": 0, \"ticks\": \"\"}, \"colorscale\": [[0.0, \"#0d0887\"], [0.1111111111111111, \"#46039f\"], [0.2222222222222222, \"#7201a8\"], [0.3333333333333333, \"#9c179e\"], [0.4444444444444444, \"#bd3786\"], [0.5555555555555556, \"#d8576b\"], [0.6666666666666666, \"#ed7953\"], [0.7777777777777778, \"#fb9f3a\"], [0.8888888888888888, \"#fdca26\"], [1.0, \"#f0f921\"]], \"type\": \"surface\"}], \"table\": [{\"cells\": {\"fill\": {\"color\": \"#EBF0F8\"}, \"line\": {\"color\": \"white\"}}, \"header\": {\"fill\": {\"color\": \"#C8D4E3\"}, \"line\": {\"color\": \"white\"}}, \"type\": \"table\"}]}, \"layout\": {\"annotationdefaults\": {\"arrowcolor\": \"#2a3f5f\", \"arrowhead\": 0, \"arrowwidth\": 1}, \"coloraxis\": {\"colorbar\": {\"outlinewidth\": 0, \"ticks\": \"\"}}, \"colorscale\": {\"diverging\": [[0, \"#8e0152\"], [0.1, \"#c51b7d\"], [0.2, \"#de77ae\"], [0.3, \"#f1b6da\"], [0.4, \"#fde0ef\"], [0.5, \"#f7f7f7\"], [0.6, \"#e6f5d0\"], [0.7, \"#b8e186\"], [0.8, \"#7fbc41\"], [0.9, \"#4d9221\"], [1, \"#276419\"]], \"sequential\": [[0.0, \"#0d0887\"], [0.1111111111111111, \"#46039f\"], [0.2222222222222222, \"#7201a8\"], [0.3333333333333333, \"#9c179e\"], [0.4444444444444444, \"#bd3786\"], [0.5555555555555556, \"#d8576b\"], [0.6666666666666666, \"#ed7953\"], [0.7777777777777778, \"#fb9f3a\"], [0.8888888888888888, \"#fdca26\"], [1.0, \"#f0f921\"]], \"sequentialminus\": [[0.0, \"#0d0887\"], [0.1111111111111111, \"#46039f\"], [0.2222222222222222, \"#7201a8\"], [0.3333333333333333, \"#9c179e\"], [0.4444444444444444, \"#bd3786\"], [0.5555555555555556, \"#d8576b\"], [0.6666666666666666, \"#ed7953\"], [0.7777777777777778, \"#fb9f3a\"], [0.8888888888888888, \"#fdca26\"], [1.0, \"#f0f921\"]]}, \"colorway\": [\"#636efa\", \"#EF553B\", \"#00cc96\", \"#ab63fa\", \"#FFA15A\", \"#19d3f3\", \"#FF6692\", \"#B6E880\", \"#FF97FF\", \"#FECB52\"], \"font\": {\"color\": \"#2a3f5f\"}, \"geo\": {\"bgcolor\": \"white\", \"lakecolor\": \"white\", \"landcolor\": \"#E5ECF6\", \"showlakes\": true, \"showland\": true, \"subunitcolor\": \"white\"}, \"hoverlabel\": {\"align\": \"left\"}, \"hovermode\": \"closest\", \"mapbox\": {\"style\": \"light\"}, \"paper_bgcolor\": \"white\", \"plot_bgcolor\": \"#E5ECF6\", \"polar\": {\"angularaxis\": {\"gridcolor\": \"white\", \"linecolor\": \"white\", \"ticks\": \"\"}, \"bgcolor\": \"#E5ECF6\", \"radialaxis\": {\"gridcolor\": \"white\", \"linecolor\": \"white\", \"ticks\": \"\"}}, \"scene\": {\"xaxis\": {\"backgroundcolor\": \"#E5ECF6\", \"gridcolor\": \"white\", \"gridwidth\": 2, \"linecolor\": \"white\", \"showbackground\": true, \"ticks\": \"\", \"zerolinecolor\": \"white\"}, \"yaxis\": {\"backgroundcolor\": \"#E5ECF6\", \"gridcolor\": \"white\", \"gridwidth\": 2, \"linecolor\": \"white\", \"showbackground\": true, \"ticks\": \"\", \"zerolinecolor\": \"white\"}, \"zaxis\": {\"backgroundcolor\": \"#E5ECF6\", \"gridcolor\": \"white\", \"gridwidth\": 2, \"linecolor\": \"white\", \"showbackground\": true, \"ticks\": \"\", \"zerolinecolor\": \"white\"}}, \"shapedefaults\": {\"line\": {\"color\": \"#2a3f5f\"}}, \"ternary\": {\"aaxis\": {\"gridcolor\": \"white\", \"linecolor\": \"white\", \"ticks\": \"\"}, \"baxis\": {\"gridcolor\": \"white\", \"linecolor\": \"white\", \"ticks\": \"\"}, \"bgcolor\": \"#E5ECF6\", \"caxis\": {\"gridcolor\": \"white\", \"linecolor\": \"white\", \"ticks\": \"\"}}, \"title\": {\"x\": 0.05}, \"xaxis\": {\"automargin\": true, \"gridcolor\": \"white\", \"linecolor\": \"white\", \"ticks\": \"\", \"title\": {\"standoff\": 15}, \"zerolinecolor\": \"white\", \"zerolinewidth\": 2}, \"yaxis\": {\"automargin\": true, \"gridcolor\": \"white\", \"linecolor\": \"white\", \"ticks\": \"\", \"title\": {\"standoff\": 15}, \"zerolinecolor\": \"white\", \"zerolinewidth\": 2}}}, \"title\": {\"text\": \"Loss vs. Val Loss\"}, \"width\": 1000, \"xaxis\": {\"title\": {\"text\": \"Epoki\"}}, \"yaxis\": {\"title\": {\"text\": \"Loss\"}, \"type\": \"log\"}},\n",
              "                        {\"responsive\": true}\n",
              "                    ).then(function(){\n",
              "                            \n",
              "var gd = document.getElementById('442d7188-fbc2-4eb8-99cb-32c0dacf7ae2');\n",
              "var x = new MutationObserver(function (mutations, observer) {{\n",
              "        var display = window.getComputedStyle(gd).display;\n",
              "        if (!display || display === 'none') {{\n",
              "            console.log([gd, 'removed!']);\n",
              "            Plotly.purge(gd);\n",
              "            observer.disconnect();\n",
              "        }}\n",
              "}});\n",
              "\n",
              "// Listen for the removal of the full notebook cells\n",
              "var notebookContainer = gd.closest('#notebook-container');\n",
              "if (notebookContainer) {{\n",
              "    x.observe(notebookContainer, {childList: true});\n",
              "}}\n",
              "\n",
              "// Listen for the clearing of the current output cell\n",
              "var outputEl = gd.closest('.output');\n",
              "if (outputEl) {{\n",
              "    x.observe(outputEl, {childList: true});\n",
              "}}\n",
              "\n",
              "                        })\n",
              "                };\n",
              "                \n",
              "            </script>\n",
              "        </div>\n",
              "</body>\n",
              "</html>"
            ]
          },
          "metadata": {
            "tags": []
          }
        }
      ]
    },
    {
      "cell_type": "code",
      "metadata": {
        "id": "M6GhvjFQFqrO",
        "colab": {
          "base_uri": "https://localhost:8080/"
        },
        "outputId": "a05059a0-f474-40c4-8889-70b87151f91e"
      },
      "source": [
        "test_datagen = ImageDataGenerator(rescale=1./255.)\n",
        "test_generator = test_datagen.flow_from_directory(test_dir,\n",
        "                                                 target_size=(128, 128),\n",
        "                                                 batch_size=8,\n",
        "                                                 class_mode='binary')\n",
        "\n",
        "test_loss, test_acc = model.evaluate(test_generator, steps=50)\n",
        "print('Dokładność testowania:', test_acc)"
      ],
      "execution_count": null,
      "outputs": [
        {
          "output_type": "stream",
          "text": [
            "Found 400 images belonging to 2 classes.\n",
            "50/50 [==============================] - 0s 7ms/step - loss: 0.7535 - accuracy: 0.8350\n",
            "Dokładność testowania: 0.8349999785423279\n"
          ],
          "name": "stdout"
        }
      ]
    },
    {
      "cell_type": "code",
      "metadata": {
        "id": "ChoxJddlxxeY",
        "colab": {
          "base_uri": "https://localhost:8080/"
        },
        "outputId": "7c7626a9-d56c-4b67-8323-e9f5db54e977"
      },
      "source": [
        "test_datagen = ImageDataGenerator(rescale=1./255.)\n",
        "test_generator = test_datagen.flow_from_directory(\n",
        "    test_dir,\n",
        "    target_size=(128, 128),\n",
        "    batch_size=1,\n",
        "    class_mode='binary',\n",
        "    shuffle=False\n",
        ")\n",
        "\n",
        "y_prob = model.predict(test_generator, test_generator.samples)\n",
        "y_prob = y_prob.ravel()\n",
        "y_prob"
      ],
      "execution_count": null,
      "outputs": [
        {
          "output_type": "stream",
          "text": [
            "Found 400 images belonging to 2 classes.\n"
          ],
          "name": "stdout"
        },
        {
          "output_type": "execute_result",
          "data": {
            "text/plain": [
              "array([8.16997737e-02, 9.23931301e-01, 6.47008710e-04, 9.94322300e-01,\n",
              "       9.99320984e-01, 4.14378155e-05, 7.30295369e-07, 1.98303717e-11,\n",
              "       9.97162402e-01, 7.65714347e-02, 5.09560457e-04, 9.90638614e-01,\n",
              "       5.99341865e-09, 2.37725750e-08, 2.08355214e-05, 7.73032915e-10,\n",
              "       9.97251570e-01, 2.38287973e-10, 3.85469501e-03, 9.99994040e-01,\n",
              "       6.46740604e-12, 1.44027360e-02, 7.54244525e-07, 9.42420680e-04,\n",
              "       1.20888435e-05, 6.79535151e-05, 5.66070677e-27, 1.01113243e-10,\n",
              "       4.64754147e-12, 9.27564740e-01, 2.34226647e-07, 7.56618003e-17,\n",
              "       9.41976309e-01, 9.99982834e-01, 9.33925721e-14, 2.12906629e-01,\n",
              "       7.32532741e-13, 4.51857893e-08, 5.76207995e-01, 3.14248260e-04,\n",
              "       6.36547441e-07, 1.09819323e-37, 3.70352154e-06, 9.52488720e-01,\n",
              "       1.00000000e+00, 2.31521227e-07, 8.39675118e-13, 3.09130705e-14,\n",
              "       1.33729402e-25, 2.61948854e-01, 4.91927203e-04, 8.10067892e-01,\n",
              "       1.34471340e-11, 2.33103130e-02, 5.91465082e-13, 1.02663110e-03,\n",
              "       1.38296736e-02, 4.95869443e-02, 5.41840636e-05, 1.21528758e-02,\n",
              "       2.95609709e-07, 6.52903836e-05, 9.86655235e-01, 2.05369940e-11,\n",
              "       1.54893637e-01, 6.41934156e-01, 1.48946392e-05, 5.41221198e-06,\n",
              "       9.64306891e-01, 3.10017373e-02, 4.91426021e-01, 1.23563524e-07,\n",
              "       5.01059567e-12, 4.09067372e-24, 1.26939252e-04, 8.48356308e-07,\n",
              "       2.81330710e-08, 5.95621824e-01, 9.22024965e-01, 9.79777813e-01,\n",
              "       9.82405484e-01, 6.70502653e-10, 9.57469106e-01, 1.87663117e-03,\n",
              "       1.53166428e-02, 9.56107914e-01, 2.21999481e-01, 3.77179235e-02,\n",
              "       6.57901866e-09, 9.85043883e-01, 1.68126018e-03, 9.54568088e-01,\n",
              "       1.36840381e-02, 1.22718036e-12, 5.52995427e-09, 9.50417016e-05,\n",
              "       5.93724963e-08, 1.87795632e-15, 5.38501263e-01, 6.34767532e-01,\n",
              "       1.17050480e-10, 4.07219831e-14, 9.18843284e-07, 2.15069804e-06,\n",
              "       1.48914779e-07, 1.54313657e-05, 6.84882207e-10, 6.16708296e-10,\n",
              "       4.29372449e-06, 4.52418355e-12, 7.29779570e-10, 2.03582051e-12,\n",
              "       9.99149203e-01, 1.20481275e-13, 1.07309486e-08, 1.12188401e-11,\n",
              "       2.22510744e-14, 2.52605751e-02, 8.77552450e-01, 1.96705444e-10,\n",
              "       7.15356469e-01, 4.02727090e-02, 8.81273223e-29, 2.92795044e-15,\n",
              "       1.42133562e-11, 1.67854324e-13, 1.39905763e-25, 1.79949222e-09,\n",
              "       1.57305403e-05, 2.74940848e-01, 5.52199822e-12, 3.73950409e-14,\n",
              "       3.04333953e-05, 2.92177962e-08, 3.94777916e-16, 4.29455127e-24,\n",
              "       2.20714411e-13, 1.78657308e-06, 3.29181581e-04, 1.07485354e-02,\n",
              "       2.55459933e-25, 7.39216506e-01, 3.85977785e-07, 1.49481028e-01,\n",
              "       5.22354941e-19, 8.74337687e-08, 1.43986754e-12, 4.87921792e-09,\n",
              "       9.97694910e-01, 7.35987201e-02, 6.85062426e-14, 6.14174267e-09,\n",
              "       9.99948382e-01, 6.69578373e-01, 1.64868809e-17, 8.78912921e-04,\n",
              "       3.73987837e-16, 2.10987199e-16, 4.31117029e-13, 1.62350267e-09,\n",
              "       3.02630157e-04, 1.74295027e-13, 2.70777186e-19, 5.93663156e-01,\n",
              "       2.20647808e-02, 1.00682708e-18, 2.00533190e-09, 9.80493845e-04,\n",
              "       6.56460292e-13, 3.78238922e-03, 7.70795596e-05, 7.28769660e-01,\n",
              "       9.67988849e-01, 9.17070197e-17, 3.67665701e-02, 3.12643869e-11,\n",
              "       2.41116127e-10, 2.33186297e-02, 2.26758863e-03, 5.36196500e-27,\n",
              "       9.31797348e-11, 6.10049478e-09, 9.15462673e-01, 3.27427934e-08,\n",
              "       2.69334754e-09, 2.47010830e-05, 1.31699815e-01, 4.74659721e-12,\n",
              "       3.71189163e-13, 2.08069924e-02, 3.03183333e-03, 5.49354792e-01,\n",
              "       2.31368607e-03, 2.72144974e-20, 7.20810167e-09, 3.54370311e-09,\n",
              "       6.41256280e-04, 1.14995776e-14, 3.16620306e-14, 2.86426156e-12,\n",
              "       9.99209285e-01, 7.75634944e-01, 9.99997258e-01, 1.00000000e+00,\n",
              "       1.50839120e-01, 9.99864697e-01, 3.59654397e-01, 2.58448836e-03,\n",
              "       9.82334495e-01, 9.50769424e-01, 7.39578900e-06, 9.99997258e-01,\n",
              "       9.02349174e-01, 9.64642018e-02, 9.96682823e-01, 9.78341043e-01,\n",
              "       1.00000000e+00, 5.00888884e-01, 9.68587279e-01, 9.99548137e-01,\n",
              "       9.99954700e-01, 9.99994874e-01, 9.72569883e-01, 3.84110332e-01,\n",
              "       9.99995351e-01, 9.98965383e-01, 1.00000000e+00, 9.98977780e-01,\n",
              "       9.99977112e-01, 9.59423363e-01, 9.99930739e-01, 8.36779416e-01,\n",
              "       9.75199997e-01, 8.08938980e-01, 9.99880791e-01, 9.99991655e-01,\n",
              "       9.99406934e-01, 9.99776304e-01, 8.89135540e-01, 9.99999642e-01,\n",
              "       9.99990582e-01, 9.91150856e-01, 9.99999881e-01, 9.98989284e-01,\n",
              "       7.76798010e-01, 1.00000000e+00, 9.93501842e-01, 9.86002803e-01,\n",
              "       9.99925852e-01, 9.99954700e-01, 9.99998212e-01, 8.25775206e-01,\n",
              "       9.95128512e-01, 9.98008788e-01, 9.99998212e-01, 9.99392509e-01,\n",
              "       6.83749020e-01, 9.96258497e-01, 9.99873996e-01, 3.62516195e-01,\n",
              "       7.08309636e-02, 9.94008780e-01, 9.99999881e-01, 9.10953701e-01,\n",
              "       8.48530650e-01, 8.57757270e-01, 9.99962568e-01, 9.51851010e-01,\n",
              "       9.99549925e-01, 3.09655517e-01, 9.81320798e-01, 4.90940839e-01,\n",
              "       9.79693592e-01, 9.95090485e-01, 9.81507063e-01, 9.99999285e-01,\n",
              "       9.96522069e-01, 6.40502930e-01, 9.99937773e-01, 1.00000000e+00,\n",
              "       9.99987841e-01, 9.99888420e-01, 9.99808013e-01, 9.94365454e-01,\n",
              "       7.21221626e-01, 9.99713838e-01, 9.99998450e-01, 9.97389376e-01,\n",
              "       9.94669020e-01, 9.55302298e-01, 4.40655857e-01, 4.17565636e-04,\n",
              "       9.89943981e-01, 9.58103895e-01, 9.99189079e-01, 9.99919415e-01,\n",
              "       9.35494602e-01, 9.99985814e-01, 8.21486115e-01, 9.88286078e-01,\n",
              "       9.99520540e-01, 3.78555655e-02, 1.00000000e+00, 9.73598003e-01,\n",
              "       1.00000000e+00, 9.40595388e-01, 9.97715592e-01, 9.98978615e-01,\n",
              "       1.00000000e+00, 9.99761403e-01, 9.97321665e-01, 1.00000000e+00,\n",
              "       9.99999881e-01, 9.98700500e-01, 9.99404550e-01, 9.99459684e-01,\n",
              "       9.99273241e-01, 9.98397291e-01, 9.99994755e-01, 9.92711902e-01,\n",
              "       9.99820650e-01, 7.03009665e-01, 1.00000000e+00, 1.24609249e-03,\n",
              "       3.10253408e-02, 9.18170214e-01, 9.99996066e-01, 1.00000000e+00,\n",
              "       9.97721016e-01, 9.46818650e-01, 9.78491902e-01, 9.99999881e-01,\n",
              "       1.04089000e-03, 8.78982060e-03, 1.00000000e+00, 9.99977708e-01,\n",
              "       1.00000000e+00, 5.31972000e-05, 7.71237016e-01, 9.97543514e-01,\n",
              "       9.99780595e-01, 9.80203595e-07, 9.99985695e-01, 9.92388248e-01,\n",
              "       9.94035482e-01, 7.22177684e-01, 9.84895587e-01, 1.00000000e+00,\n",
              "       1.00000000e+00, 7.36317217e-01, 3.70961845e-01, 9.99158978e-01,\n",
              "       9.99798954e-01, 9.99922633e-01, 2.28236355e-02, 9.07681108e-01,\n",
              "       1.00000000e+00, 9.91831720e-01, 7.74513464e-05, 9.65445042e-01,\n",
              "       9.99985456e-01, 9.91504967e-01, 1.00000000e+00, 9.99959350e-01,\n",
              "       9.99998808e-01, 9.99998927e-01, 7.05326676e-01, 9.99997377e-01,\n",
              "       9.97892678e-01, 4.79824096e-01, 9.99980688e-01, 9.99999523e-01,\n",
              "       9.96376455e-01, 6.34158790e-01, 6.51849806e-01, 9.99265254e-01,\n",
              "       9.99944448e-01, 8.98980722e-03, 9.79000747e-01, 9.99999762e-01,\n",
              "       1.00000000e+00, 1.00000000e+00, 9.99999523e-01, 6.20925128e-01,\n",
              "       9.96178150e-01, 9.99641895e-01, 7.66349509e-02, 9.71984267e-01,\n",
              "       9.99858737e-01, 9.97723162e-01, 9.99817073e-01, 1.00000000e+00,\n",
              "       1.00000000e+00, 9.56123412e-01, 7.38363266e-02, 8.66156876e-01,\n",
              "       9.99022484e-01, 9.99990702e-01, 2.55677918e-07, 9.76651132e-01],\n",
              "      dtype=float32)"
            ]
          },
          "metadata": {
            "tags": []
          },
          "execution_count": 19
        }
      ]
    },
    {
      "cell_type": "code",
      "metadata": {
        "id": "Tt-Vyvyhx4Vv",
        "colab": {
          "base_uri": "https://localhost:8080/",
          "height": 424
        },
        "outputId": "b823fe91-f343-463f-c34b-f6fa4f736d8e"
      },
      "source": [
        "predictions  = pd.DataFrame({'y_prob': y_prob})\n",
        "predictions['class'] = predictions['y_prob'].apply(lambda x: 1 if x > 0.5 else 0)\n",
        "predictions"
      ],
      "execution_count": null,
      "outputs": [
        {
          "output_type": "execute_result",
          "data": {
            "text/html": [
              "<div>\n",
              "<style scoped>\n",
              "    .dataframe tbody tr th:only-of-type {\n",
              "        vertical-align: middle;\n",
              "    }\n",
              "\n",
              "    .dataframe tbody tr th {\n",
              "        vertical-align: top;\n",
              "    }\n",
              "\n",
              "    .dataframe thead th {\n",
              "        text-align: right;\n",
              "    }\n",
              "</style>\n",
              "<table border=\"1\" class=\"dataframe\">\n",
              "  <thead>\n",
              "    <tr style=\"text-align: right;\">\n",
              "      <th></th>\n",
              "      <th>y_prob</th>\n",
              "      <th>class</th>\n",
              "    </tr>\n",
              "  </thead>\n",
              "  <tbody>\n",
              "    <tr>\n",
              "      <th>0</th>\n",
              "      <td>8.169977e-02</td>\n",
              "      <td>0</td>\n",
              "    </tr>\n",
              "    <tr>\n",
              "      <th>1</th>\n",
              "      <td>9.239313e-01</td>\n",
              "      <td>1</td>\n",
              "    </tr>\n",
              "    <tr>\n",
              "      <th>2</th>\n",
              "      <td>6.470087e-04</td>\n",
              "      <td>0</td>\n",
              "    </tr>\n",
              "    <tr>\n",
              "      <th>3</th>\n",
              "      <td>9.943223e-01</td>\n",
              "      <td>1</td>\n",
              "    </tr>\n",
              "    <tr>\n",
              "      <th>4</th>\n",
              "      <td>9.993210e-01</td>\n",
              "      <td>1</td>\n",
              "    </tr>\n",
              "    <tr>\n",
              "      <th>...</th>\n",
              "      <td>...</td>\n",
              "      <td>...</td>\n",
              "    </tr>\n",
              "    <tr>\n",
              "      <th>395</th>\n",
              "      <td>8.661569e-01</td>\n",
              "      <td>1</td>\n",
              "    </tr>\n",
              "    <tr>\n",
              "      <th>396</th>\n",
              "      <td>9.990225e-01</td>\n",
              "      <td>1</td>\n",
              "    </tr>\n",
              "    <tr>\n",
              "      <th>397</th>\n",
              "      <td>9.999907e-01</td>\n",
              "      <td>1</td>\n",
              "    </tr>\n",
              "    <tr>\n",
              "      <th>398</th>\n",
              "      <td>2.556779e-07</td>\n",
              "      <td>0</td>\n",
              "    </tr>\n",
              "    <tr>\n",
              "      <th>399</th>\n",
              "      <td>9.766511e-01</td>\n",
              "      <td>1</td>\n",
              "    </tr>\n",
              "  </tbody>\n",
              "</table>\n",
              "<p>400 rows × 2 columns</p>\n",
              "</div>"
            ],
            "text/plain": [
              "           y_prob  class\n",
              "0    8.169977e-02      0\n",
              "1    9.239313e-01      1\n",
              "2    6.470087e-04      0\n",
              "3    9.943223e-01      1\n",
              "4    9.993210e-01      1\n",
              "..            ...    ...\n",
              "395  8.661569e-01      1\n",
              "396  9.990225e-01      1\n",
              "397  9.999907e-01      1\n",
              "398  2.556779e-07      0\n",
              "399  9.766511e-01      1\n",
              "\n",
              "[400 rows x 2 columns]"
            ]
          },
          "metadata": {
            "tags": []
          },
          "execution_count": 20
        }
      ]
    },
    {
      "cell_type": "code",
      "metadata": {
        "id": "sduk9CoUx4h3",
        "colab": {
          "base_uri": "https://localhost:8080/"
        },
        "outputId": "c7bf1660-13dd-490c-f69e-c9184e6287bc"
      },
      "source": [
        "y_true = test_generator.classes\n",
        "y_true"
      ],
      "execution_count": null,
      "outputs": [
        {
          "output_type": "execute_result",
          "data": {
            "text/plain": [
              "array([0, 0, 0, 0, 0, 0, 0, 0, 0, 0, 0, 0, 0, 0, 0, 0, 0, 0, 0, 0, 0, 0,\n",
              "       0, 0, 0, 0, 0, 0, 0, 0, 0, 0, 0, 0, 0, 0, 0, 0, 0, 0, 0, 0, 0, 0,\n",
              "       0, 0, 0, 0, 0, 0, 0, 0, 0, 0, 0, 0, 0, 0, 0, 0, 0, 0, 0, 0, 0, 0,\n",
              "       0, 0, 0, 0, 0, 0, 0, 0, 0, 0, 0, 0, 0, 0, 0, 0, 0, 0, 0, 0, 0, 0,\n",
              "       0, 0, 0, 0, 0, 0, 0, 0, 0, 0, 0, 0, 0, 0, 0, 0, 0, 0, 0, 0, 0, 0,\n",
              "       0, 0, 0, 0, 0, 0, 0, 0, 0, 0, 0, 0, 0, 0, 0, 0, 0, 0, 0, 0, 0, 0,\n",
              "       0, 0, 0, 0, 0, 0, 0, 0, 0, 0, 0, 0, 0, 0, 0, 0, 0, 0, 0, 0, 0, 0,\n",
              "       0, 0, 0, 0, 0, 0, 0, 0, 0, 0, 0, 0, 0, 0, 0, 0, 0, 0, 0, 0, 0, 0,\n",
              "       0, 0, 0, 0, 0, 0, 0, 0, 0, 0, 0, 0, 0, 0, 0, 0, 0, 0, 0, 0, 0, 0,\n",
              "       0, 0, 1, 1, 1, 1, 1, 1, 1, 1, 1, 1, 1, 1, 1, 1, 1, 1, 1, 1, 1, 1,\n",
              "       1, 1, 1, 1, 1, 1, 1, 1, 1, 1, 1, 1, 1, 1, 1, 1, 1, 1, 1, 1, 1, 1,\n",
              "       1, 1, 1, 1, 1, 1, 1, 1, 1, 1, 1, 1, 1, 1, 1, 1, 1, 1, 1, 1, 1, 1,\n",
              "       1, 1, 1, 1, 1, 1, 1, 1, 1, 1, 1, 1, 1, 1, 1, 1, 1, 1, 1, 1, 1, 1,\n",
              "       1, 1, 1, 1, 1, 1, 1, 1, 1, 1, 1, 1, 1, 1, 1, 1, 1, 1, 1, 1, 1, 1,\n",
              "       1, 1, 1, 1, 1, 1, 1, 1, 1, 1, 1, 1, 1, 1, 1, 1, 1, 1, 1, 1, 1, 1,\n",
              "       1, 1, 1, 1, 1, 1, 1, 1, 1, 1, 1, 1, 1, 1, 1, 1, 1, 1, 1, 1, 1, 1,\n",
              "       1, 1, 1, 1, 1, 1, 1, 1, 1, 1, 1, 1, 1, 1, 1, 1, 1, 1, 1, 1, 1, 1,\n",
              "       1, 1, 1, 1, 1, 1, 1, 1, 1, 1, 1, 1, 1, 1, 1, 1, 1, 1, 1, 1, 1, 1,\n",
              "       1, 1, 1, 1], dtype=int32)"
            ]
          },
          "metadata": {
            "tags": []
          },
          "execution_count": 21
        }
      ]
    },
    {
      "cell_type": "code",
      "metadata": {
        "id": "5OS8WoA5x7Z2",
        "colab": {
          "base_uri": "https://localhost:8080/"
        },
        "outputId": "9a403276-47a5-4339-a71c-1e8018b53462"
      },
      "source": [
        "y_pred = predictions['class'].values\n",
        "y_pred"
      ],
      "execution_count": null,
      "outputs": [
        {
          "output_type": "execute_result",
          "data": {
            "text/plain": [
              "array([0, 1, 0, 1, 1, 0, 0, 0, 1, 0, 0, 1, 0, 0, 0, 0, 1, 0, 0, 1, 0, 0,\n",
              "       0, 0, 0, 0, 0, 0, 0, 1, 0, 0, 1, 1, 0, 0, 0, 0, 1, 0, 0, 0, 0, 1,\n",
              "       1, 0, 0, 0, 0, 0, 0, 1, 0, 0, 0, 0, 0, 0, 0, 0, 0, 0, 1, 0, 0, 1,\n",
              "       0, 0, 1, 0, 0, 0, 0, 0, 0, 0, 0, 1, 1, 1, 1, 0, 1, 0, 0, 1, 0, 0,\n",
              "       0, 1, 0, 1, 0, 0, 0, 0, 0, 0, 1, 1, 0, 0, 0, 0, 0, 0, 0, 0, 0, 0,\n",
              "       0, 0, 1, 0, 0, 0, 0, 0, 1, 0, 1, 0, 0, 0, 0, 0, 0, 0, 0, 0, 0, 0,\n",
              "       0, 0, 0, 0, 0, 0, 0, 0, 0, 1, 0, 0, 0, 0, 0, 0, 1, 0, 0, 0, 1, 1,\n",
              "       0, 0, 0, 0, 0, 0, 0, 0, 0, 1, 0, 0, 0, 0, 0, 0, 0, 1, 1, 0, 0, 0,\n",
              "       0, 0, 0, 0, 0, 0, 1, 0, 0, 0, 0, 0, 0, 0, 0, 1, 0, 0, 0, 0, 0, 0,\n",
              "       0, 0, 1, 1, 1, 1, 0, 1, 0, 0, 1, 1, 0, 1, 1, 0, 1, 1, 1, 1, 1, 1,\n",
              "       1, 1, 1, 0, 1, 1, 1, 1, 1, 1, 1, 1, 1, 1, 1, 1, 1, 1, 1, 1, 1, 1,\n",
              "       1, 1, 1, 1, 1, 1, 1, 1, 1, 1, 1, 1, 1, 1, 1, 1, 1, 0, 0, 1, 1, 1,\n",
              "       1, 1, 1, 1, 1, 0, 1, 0, 1, 1, 1, 1, 1, 1, 1, 1, 1, 1, 1, 1, 1, 1,\n",
              "       1, 1, 1, 1, 0, 0, 1, 1, 1, 1, 1, 1, 1, 1, 1, 0, 1, 1, 1, 1, 1, 1,\n",
              "       1, 1, 1, 1, 1, 1, 1, 1, 1, 1, 1, 1, 1, 1, 1, 0, 0, 1, 1, 1, 1, 1,\n",
              "       1, 1, 0, 0, 1, 1, 1, 0, 1, 1, 1, 0, 1, 1, 1, 1, 1, 1, 1, 1, 0, 1,\n",
              "       1, 1, 0, 1, 1, 1, 0, 1, 1, 1, 1, 1, 1, 1, 1, 1, 1, 0, 1, 1, 1, 1,\n",
              "       1, 1, 1, 0, 1, 1, 1, 1, 1, 1, 1, 1, 0, 1, 1, 1, 1, 1, 1, 1, 0, 1,\n",
              "       1, 1, 0, 1])"
            ]
          },
          "metadata": {
            "tags": []
          },
          "execution_count": 22
        }
      ]
    },
    {
      "cell_type": "code",
      "metadata": {
        "id": "livvksd9x4tO",
        "colab": {
          "base_uri": "https://localhost:8080/"
        },
        "outputId": "a6980646-dc0e-41fe-c1ee-6b0ccc978d7c"
      },
      "source": [
        "test_generator.class_indices"
      ],
      "execution_count": null,
      "outputs": [
        {
          "output_type": "execute_result",
          "data": {
            "text/plain": [
              "{'ben_mal': 0, 'nor': 1}"
            ]
          },
          "metadata": {
            "tags": []
          },
          "execution_count": 23
        }
      ]
    },
    {
      "cell_type": "code",
      "metadata": {
        "id": "kw4qiSOXyAbm",
        "colab": {
          "base_uri": "https://localhost:8080/"
        },
        "outputId": "474a6e94-9b36-4f26-eb23-8550c9eb0820"
      },
      "source": [
        "cm = confusion_matrix(y_true, y_pred)\n",
        "cm"
      ],
      "execution_count": null,
      "outputs": [
        {
          "output_type": "execute_result",
          "data": {
            "text/plain": [
              "array([[161,  39],\n",
              "       [ 27, 173]])"
            ]
          },
          "metadata": {
            "tags": []
          },
          "execution_count": 24
        }
      ]
    },
    {
      "cell_type": "code",
      "metadata": {
        "id": "3R2PyWGvjL5h",
        "colab": {
          "base_uri": "https://localhost:8080/",
          "height": 517
        },
        "outputId": "5d3ad50d-bb47-457a-bc35-ae8f36e8fca3"
      },
      "source": [
        "def plot_confusion_matrix(cm):\n",
        "    cm = cm[::-1]\n",
        "    cm = pd.DataFrame(cm, columns=classes, index=classes[::-1])\n",
        "\n",
        "    fig = ff.create_annotated_heatmap(z=cm.values, x=list(cm.columns), y=list(cm.index), colorscale='ice', showscale=True, reversescale=True)\n",
        "    fig.update_layout(width=500, height=500, title='Confusion Matrix', font_size=16)\n",
        "    fig.show()\n",
        "\n",
        "plot_confusion_matrix(cm)"
      ],
      "execution_count": null,
      "outputs": [
        {
          "output_type": "display_data",
          "data": {
            "text/html": [
              "<html>\n",
              "<head><meta charset=\"utf-8\" /></head>\n",
              "<body>\n",
              "    <div>\n",
              "            <script src=\"https://cdnjs.cloudflare.com/ajax/libs/mathjax/2.7.5/MathJax.js?config=TeX-AMS-MML_SVG\"></script><script type=\"text/javascript\">if (window.MathJax) {MathJax.Hub.Config({SVG: {font: \"STIX-Web\"}});}</script>\n",
              "                <script type=\"text/javascript\">window.PlotlyConfig = {MathJaxConfig: 'local'};</script>\n",
              "        <script src=\"https://cdn.plot.ly/plotly-latest.min.js\"></script>    \n",
              "            <div id=\"264b98a9-60bf-443d-b343-2cfe4acb6680\" class=\"plotly-graph-div\" style=\"height:500px; width:500px;\"></div>\n",
              "            <script type=\"text/javascript\">\n",
              "                \n",
              "                    window.PLOTLYENV=window.PLOTLYENV || {};\n",
              "                    \n",
              "                if (document.getElementById(\"264b98a9-60bf-443d-b343-2cfe4acb6680\")) {\n",
              "                    Plotly.newPlot(\n",
              "                        '264b98a9-60bf-443d-b343-2cfe4acb6680',\n",
              "                        [{\"colorscale\": [[0.0, \"rgb(3, 5, 18)\"], [0.09090909090909091, \"rgb(25, 25, 51)\"], [0.18181818181818182, \"rgb(44, 42, 87)\"], [0.2727272727272727, \"rgb(58, 60, 125)\"], [0.36363636363636365, \"rgb(62, 83, 160)\"], [0.45454545454545453, \"rgb(62, 109, 178)\"], [0.5454545454545454, \"rgb(72, 134, 187)\"], [0.6363636363636364, \"rgb(89, 159, 196)\"], [0.7272727272727273, \"rgb(114, 184, 205)\"], [0.8181818181818182, \"rgb(149, 207, 216)\"], [0.9090909090909091, \"rgb(192, 229, 232)\"], [1.0, \"rgb(234, 252, 253)\"]], \"reversescale\": true, \"showscale\": true, \"type\": \"heatmap\", \"x\": [\"ben_mal\", \"nor\"], \"y\": [\"nor\", \"ben_mal\"], \"z\": [[27, 173], [161, 39]]}],\n",
              "                        {\"annotations\": [{\"font\": {\"color\": \"#000000\"}, \"showarrow\": false, \"text\": \"27\", \"x\": \"ben_mal\", \"xref\": \"x\", \"y\": \"nor\", \"yref\": \"y\"}, {\"font\": {\"color\": \"#FFFFFF\"}, \"showarrow\": false, \"text\": \"173\", \"x\": \"nor\", \"xref\": \"x\", \"y\": \"nor\", \"yref\": \"y\"}, {\"font\": {\"color\": \"#FFFFFF\"}, \"showarrow\": false, \"text\": \"161\", \"x\": \"ben_mal\", \"xref\": \"x\", \"y\": \"ben_mal\", \"yref\": \"y\"}, {\"font\": {\"color\": \"#000000\"}, \"showarrow\": false, \"text\": \"39\", \"x\": \"nor\", \"xref\": \"x\", \"y\": \"ben_mal\", \"yref\": \"y\"}], \"font\": {\"size\": 16}, \"height\": 500, \"template\": {\"data\": {\"bar\": [{\"error_x\": {\"color\": \"#2a3f5f\"}, \"error_y\": {\"color\": \"#2a3f5f\"}, \"marker\": {\"line\": {\"color\": \"#E5ECF6\", \"width\": 0.5}}, \"type\": \"bar\"}], \"barpolar\": [{\"marker\": {\"line\": {\"color\": \"#E5ECF6\", \"width\": 0.5}}, \"type\": \"barpolar\"}], \"carpet\": [{\"aaxis\": {\"endlinecolor\": \"#2a3f5f\", \"gridcolor\": \"white\", \"linecolor\": \"white\", \"minorgridcolor\": \"white\", \"startlinecolor\": \"#2a3f5f\"}, \"baxis\": {\"endlinecolor\": \"#2a3f5f\", \"gridcolor\": \"white\", \"linecolor\": \"white\", \"minorgridcolor\": \"white\", \"startlinecolor\": \"#2a3f5f\"}, \"type\": \"carpet\"}], \"choropleth\": [{\"colorbar\": {\"outlinewidth\": 0, \"ticks\": \"\"}, \"type\": \"choropleth\"}], \"contour\": [{\"colorbar\": {\"outlinewidth\": 0, \"ticks\": \"\"}, \"colorscale\": [[0.0, \"#0d0887\"], [0.1111111111111111, \"#46039f\"], [0.2222222222222222, \"#7201a8\"], [0.3333333333333333, \"#9c179e\"], [0.4444444444444444, \"#bd3786\"], [0.5555555555555556, \"#d8576b\"], [0.6666666666666666, \"#ed7953\"], [0.7777777777777778, \"#fb9f3a\"], [0.8888888888888888, \"#fdca26\"], [1.0, \"#f0f921\"]], \"type\": \"contour\"}], \"contourcarpet\": [{\"colorbar\": {\"outlinewidth\": 0, \"ticks\": \"\"}, \"type\": \"contourcarpet\"}], \"heatmap\": [{\"colorbar\": {\"outlinewidth\": 0, \"ticks\": \"\"}, \"colorscale\": [[0.0, \"#0d0887\"], [0.1111111111111111, \"#46039f\"], [0.2222222222222222, \"#7201a8\"], [0.3333333333333333, \"#9c179e\"], [0.4444444444444444, \"#bd3786\"], [0.5555555555555556, \"#d8576b\"], [0.6666666666666666, \"#ed7953\"], [0.7777777777777778, \"#fb9f3a\"], [0.8888888888888888, \"#fdca26\"], [1.0, \"#f0f921\"]], \"type\": \"heatmap\"}], \"heatmapgl\": [{\"colorbar\": {\"outlinewidth\": 0, \"ticks\": \"\"}, \"colorscale\": [[0.0, \"#0d0887\"], [0.1111111111111111, \"#46039f\"], [0.2222222222222222, \"#7201a8\"], [0.3333333333333333, \"#9c179e\"], [0.4444444444444444, \"#bd3786\"], [0.5555555555555556, \"#d8576b\"], [0.6666666666666666, \"#ed7953\"], [0.7777777777777778, \"#fb9f3a\"], [0.8888888888888888, \"#fdca26\"], [1.0, \"#f0f921\"]], \"type\": \"heatmapgl\"}], \"histogram\": [{\"marker\": {\"colorbar\": {\"outlinewidth\": 0, \"ticks\": \"\"}}, \"type\": \"histogram\"}], \"histogram2d\": [{\"colorbar\": {\"outlinewidth\": 0, \"ticks\": \"\"}, \"colorscale\": [[0.0, \"#0d0887\"], [0.1111111111111111, \"#46039f\"], [0.2222222222222222, \"#7201a8\"], [0.3333333333333333, \"#9c179e\"], [0.4444444444444444, \"#bd3786\"], [0.5555555555555556, \"#d8576b\"], [0.6666666666666666, \"#ed7953\"], [0.7777777777777778, \"#fb9f3a\"], [0.8888888888888888, \"#fdca26\"], [1.0, \"#f0f921\"]], \"type\": \"histogram2d\"}], \"histogram2dcontour\": [{\"colorbar\": {\"outlinewidth\": 0, \"ticks\": \"\"}, \"colorscale\": [[0.0, \"#0d0887\"], [0.1111111111111111, \"#46039f\"], [0.2222222222222222, \"#7201a8\"], [0.3333333333333333, \"#9c179e\"], [0.4444444444444444, \"#bd3786\"], [0.5555555555555556, \"#d8576b\"], [0.6666666666666666, \"#ed7953\"], [0.7777777777777778, \"#fb9f3a\"], [0.8888888888888888, \"#fdca26\"], [1.0, \"#f0f921\"]], \"type\": \"histogram2dcontour\"}], \"mesh3d\": [{\"colorbar\": {\"outlinewidth\": 0, \"ticks\": \"\"}, \"type\": \"mesh3d\"}], \"parcoords\": [{\"line\": {\"colorbar\": {\"outlinewidth\": 0, \"ticks\": \"\"}}, \"type\": \"parcoords\"}], \"pie\": [{\"automargin\": true, \"type\": \"pie\"}], \"scatter\": [{\"marker\": {\"colorbar\": {\"outlinewidth\": 0, \"ticks\": \"\"}}, \"type\": \"scatter\"}], \"scatter3d\": [{\"line\": {\"colorbar\": {\"outlinewidth\": 0, \"ticks\": \"\"}}, \"marker\": {\"colorbar\": {\"outlinewidth\": 0, \"ticks\": \"\"}}, \"type\": \"scatter3d\"}], \"scattercarpet\": [{\"marker\": {\"colorbar\": {\"outlinewidth\": 0, \"ticks\": \"\"}}, \"type\": \"scattercarpet\"}], \"scattergeo\": [{\"marker\": {\"colorbar\": {\"outlinewidth\": 0, \"ticks\": \"\"}}, \"type\": \"scattergeo\"}], \"scattergl\": [{\"marker\": {\"colorbar\": {\"outlinewidth\": 0, \"ticks\": \"\"}}, \"type\": \"scattergl\"}], \"scattermapbox\": [{\"marker\": {\"colorbar\": {\"outlinewidth\": 0, \"ticks\": \"\"}}, \"type\": \"scattermapbox\"}], \"scatterpolar\": [{\"marker\": {\"colorbar\": {\"outlinewidth\": 0, \"ticks\": \"\"}}, \"type\": \"scatterpolar\"}], \"scatterpolargl\": [{\"marker\": {\"colorbar\": {\"outlinewidth\": 0, \"ticks\": \"\"}}, \"type\": \"scatterpolargl\"}], \"scatterternary\": [{\"marker\": {\"colorbar\": {\"outlinewidth\": 0, \"ticks\": \"\"}}, \"type\": \"scatterternary\"}], \"surface\": [{\"colorbar\": {\"outlinewidth\": 0, \"ticks\": \"\"}, \"colorscale\": [[0.0, \"#0d0887\"], [0.1111111111111111, \"#46039f\"], [0.2222222222222222, \"#7201a8\"], [0.3333333333333333, \"#9c179e\"], [0.4444444444444444, \"#bd3786\"], [0.5555555555555556, \"#d8576b\"], [0.6666666666666666, \"#ed7953\"], [0.7777777777777778, \"#fb9f3a\"], [0.8888888888888888, \"#fdca26\"], [1.0, \"#f0f921\"]], \"type\": \"surface\"}], \"table\": [{\"cells\": {\"fill\": {\"color\": \"#EBF0F8\"}, \"line\": {\"color\": \"white\"}}, \"header\": {\"fill\": {\"color\": \"#C8D4E3\"}, \"line\": {\"color\": \"white\"}}, \"type\": \"table\"}]}, \"layout\": {\"annotationdefaults\": {\"arrowcolor\": \"#2a3f5f\", \"arrowhead\": 0, \"arrowwidth\": 1}, \"coloraxis\": {\"colorbar\": {\"outlinewidth\": 0, \"ticks\": \"\"}}, \"colorscale\": {\"diverging\": [[0, \"#8e0152\"], [0.1, \"#c51b7d\"], [0.2, \"#de77ae\"], [0.3, \"#f1b6da\"], [0.4, \"#fde0ef\"], [0.5, \"#f7f7f7\"], [0.6, \"#e6f5d0\"], [0.7, \"#b8e186\"], [0.8, \"#7fbc41\"], [0.9, \"#4d9221\"], [1, \"#276419\"]], \"sequential\": [[0.0, \"#0d0887\"], [0.1111111111111111, \"#46039f\"], [0.2222222222222222, \"#7201a8\"], [0.3333333333333333, \"#9c179e\"], [0.4444444444444444, \"#bd3786\"], [0.5555555555555556, \"#d8576b\"], [0.6666666666666666, \"#ed7953\"], [0.7777777777777778, \"#fb9f3a\"], [0.8888888888888888, \"#fdca26\"], [1.0, \"#f0f921\"]], \"sequentialminus\": [[0.0, \"#0d0887\"], [0.1111111111111111, \"#46039f\"], [0.2222222222222222, \"#7201a8\"], [0.3333333333333333, \"#9c179e\"], [0.4444444444444444, \"#bd3786\"], [0.5555555555555556, \"#d8576b\"], [0.6666666666666666, \"#ed7953\"], [0.7777777777777778, \"#fb9f3a\"], [0.8888888888888888, \"#fdca26\"], [1.0, \"#f0f921\"]]}, \"colorway\": [\"#636efa\", \"#EF553B\", \"#00cc96\", \"#ab63fa\", \"#FFA15A\", \"#19d3f3\", \"#FF6692\", \"#B6E880\", \"#FF97FF\", \"#FECB52\"], \"font\": {\"color\": \"#2a3f5f\"}, \"geo\": {\"bgcolor\": \"white\", \"lakecolor\": \"white\", \"landcolor\": \"#E5ECF6\", \"showlakes\": true, \"showland\": true, \"subunitcolor\": \"white\"}, \"hoverlabel\": {\"align\": \"left\"}, \"hovermode\": \"closest\", \"mapbox\": {\"style\": \"light\"}, \"paper_bgcolor\": \"white\", \"plot_bgcolor\": \"#E5ECF6\", \"polar\": {\"angularaxis\": {\"gridcolor\": \"white\", \"linecolor\": \"white\", \"ticks\": \"\"}, \"bgcolor\": \"#E5ECF6\", \"radialaxis\": {\"gridcolor\": \"white\", \"linecolor\": \"white\", \"ticks\": \"\"}}, \"scene\": {\"xaxis\": {\"backgroundcolor\": \"#E5ECF6\", \"gridcolor\": \"white\", \"gridwidth\": 2, \"linecolor\": \"white\", \"showbackground\": true, \"ticks\": \"\", \"zerolinecolor\": \"white\"}, \"yaxis\": {\"backgroundcolor\": \"#E5ECF6\", \"gridcolor\": \"white\", \"gridwidth\": 2, \"linecolor\": \"white\", \"showbackground\": true, \"ticks\": \"\", \"zerolinecolor\": \"white\"}, \"zaxis\": {\"backgroundcolor\": \"#E5ECF6\", \"gridcolor\": \"white\", \"gridwidth\": 2, \"linecolor\": \"white\", \"showbackground\": true, \"ticks\": \"\", \"zerolinecolor\": \"white\"}}, \"shapedefaults\": {\"line\": {\"color\": \"#2a3f5f\"}}, \"ternary\": {\"aaxis\": {\"gridcolor\": \"white\", \"linecolor\": \"white\", \"ticks\": \"\"}, \"baxis\": {\"gridcolor\": \"white\", \"linecolor\": \"white\", \"ticks\": \"\"}, \"bgcolor\": \"#E5ECF6\", \"caxis\": {\"gridcolor\": \"white\", \"linecolor\": \"white\", \"ticks\": \"\"}}, \"title\": {\"x\": 0.05}, \"xaxis\": {\"automargin\": true, \"gridcolor\": \"white\", \"linecolor\": \"white\", \"ticks\": \"\", \"title\": {\"standoff\": 15}, \"zerolinecolor\": \"white\", \"zerolinewidth\": 2}, \"yaxis\": {\"automargin\": true, \"gridcolor\": \"white\", \"linecolor\": \"white\", \"ticks\": \"\", \"title\": {\"standoff\": 15}, \"zerolinecolor\": \"white\", \"zerolinewidth\": 2}}}, \"title\": {\"text\": \"Confusion Matrix\"}, \"width\": 500, \"xaxis\": {\"dtick\": 1, \"gridcolor\": \"rgb(0, 0, 0)\", \"side\": \"top\", \"ticks\": \"\"}, \"yaxis\": {\"dtick\": 1, \"ticks\": \"\", \"ticksuffix\": \"  \"}},\n",
              "                        {\"responsive\": true}\n",
              "                    ).then(function(){\n",
              "                            \n",
              "var gd = document.getElementById('264b98a9-60bf-443d-b343-2cfe4acb6680');\n",
              "var x = new MutationObserver(function (mutations, observer) {{\n",
              "        var display = window.getComputedStyle(gd).display;\n",
              "        if (!display || display === 'none') {{\n",
              "            console.log([gd, 'removed!']);\n",
              "            Plotly.purge(gd);\n",
              "            observer.disconnect();\n",
              "        }}\n",
              "}});\n",
              "\n",
              "// Listen for the removal of the full notebook cells\n",
              "var notebookContainer = gd.closest('#notebook-container');\n",
              "if (notebookContainer) {{\n",
              "    x.observe(notebookContainer, {childList: true});\n",
              "}}\n",
              "\n",
              "// Listen for the clearing of the current output cell\n",
              "var outputEl = gd.closest('.output');\n",
              "if (outputEl) {{\n",
              "    x.observe(outputEl, {childList: true});\n",
              "}}\n",
              "\n",
              "                        })\n",
              "                };\n",
              "                \n",
              "            </script>\n",
              "        </div>\n",
              "</body>\n",
              "</html>"
            ]
          },
          "metadata": {
            "tags": []
          }
        }
      ]
    }
  ]
}