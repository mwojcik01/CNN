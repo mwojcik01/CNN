{
  "nbformat": 4,
  "nbformat_minor": 0,
  "metadata": {
    "colab": {
      "name": "VGG_dobra_Projekt_SI.ipynb",
      "provenance": [],
      "collapsed_sections": [],
      "mount_file_id": "1BnyNRl0b2Syx0mwDQzlaCebl0L3DLN1v",
      "authorship_tag": "ABX9TyPSUMdYBuPN9RS+zyXPpsAH",
      "include_colab_link": true
    },
    "kernelspec": {
      "name": "python3",
      "display_name": "Python 3"
    },
    "language_info": {
      "name": "python"
    },
    "accelerator": "GPU"
  },
  "cells": [
    {
      "cell_type": "markdown",
      "metadata": {
        "id": "view-in-github",
        "colab_type": "text"
      },
      "source": [
        "<a href=\"https://colab.research.google.com/github/mwojcik01/CNN/blob/main/Projekt_SI_sie%C4%87_VGG.ipynb\" target=\"_parent\"><img src=\"https://colab.research.google.com/assets/colab-badge.svg\" alt=\"Open In Colab\"/></a>"
      ]
    },
    {
      "cell_type": "code",
      "metadata": {
        "id": "5P2nfVq60Jeg"
      },
      "source": [
        "#kopiowanie\n",
        "import os\n",
        "import numpy as np\n",
        "import shutil\n",
        "\n",
        "#przygotowanie modelu\n",
        "from keras.preprocessing.image import ImageDataGenerator\n",
        "from keras import Sequential\n",
        "from keras import layers\n",
        "from keras import optimizers\n",
        "from tensorflow.keras import optimizers\n",
        "#from keras.layers import Dense, Flatten, Conv2D, MaxPooling2D\n",
        "\n",
        "#wykres\n",
        "import pandas as pd\n",
        "import plotly.graph_objects as go\n",
        "import plotly.figure_factory as ff\n",
        "from sklearn.metrics import confusion_matrix\n"
      ],
      "execution_count": null,
      "outputs": []
    },
    {
      "cell_type": "code",
      "metadata": {
        "id": "9tcZybUL3qZC"
      },
      "source": [
        "#from google.colab import drive\n",
        "#drive.mount('/content/drive')"
      ],
      "execution_count": null,
      "outputs": []
    },
    {
      "cell_type": "code",
      "metadata": {
        "id": "InfcEaTn3ql5"
      },
      "source": [
        "!unzip -uq \"/content/drive/My Drive/base_ddsm_cbm_2.zip\" -d \"./\" # wypakowanie plików z Drive"
      ],
      "execution_count": null,
      "outputs": []
    },
    {
      "cell_type": "code",
      "metadata": {
        "colab": {
          "base_uri": "https://localhost:8080/"
        },
        "id": "vaOtxRCR3qy0",
        "outputId": "0f371beb-ba26-467a-878a-f2ca3594fc92"
      },
      "source": [
        "base_dir = './base_ddsm_cbm_2' # obliczanie ilości plików w każdym folderze\n",
        "raw_no_of_files = {}\n",
        "classes = ['ben_mal', 'nor']\n",
        "for dir in classes:\n",
        "    raw_no_of_files[dir] = len(os.listdir(os.path.join(base_dir, dir)))\n",
        "\n",
        "raw_no_of_files.items()"
      ],
      "execution_count": null,
      "outputs": [
        {
          "output_type": "execute_result",
          "data": {
            "text/plain": [
              "dict_items([('ben_mal', 2003), ('nor', 9215)])"
            ]
          },
          "metadata": {},
          "execution_count": 226
        }
      ]
    },
    {
      "cell_type": "code",
      "metadata": {
        "colab": {
          "base_uri": "https://localhost:8080/"
        },
        "id": "o8-TQOOdsQSs",
        "outputId": "5f462cb0-0206-4b66-afd1-a838d2b197af"
      },
      "source": [
        "#kasowanie plików\n",
        "%%bash\n",
        "pwd\n",
        "rm -R images\n",
        "ls"
      ],
      "execution_count": null,
      "outputs": [
        {
          "output_type": "stream",
          "name": "stdout",
          "text": [
            "/content\n",
            "base_ddsm_cbm_2\n",
            "drive\n",
            "sample_data\n"
          ]
        }
      ]
    },
    {
      "cell_type": "code",
      "metadata": {
        "id": "aPTwEFzC7u2V"
      },
      "source": [
        "data_dir = './images' # tworzenie katalogów: treningowego, walidacyjnego oraz testowego. \n",
        "                      #w każdym znajdują się 2 foldery: nor, ben_mal\n",
        "\n",
        "if not os.path.exists(data_dir):\n",
        "    os.mkdir(data_dir)\n",
        "\n",
        "train_dir = os.path.join(data_dir, 'train')\n",
        "valid_dir = os.path.join(data_dir, 'valid')\n",
        "test_dir = os.path.join(data_dir, 'test')\n",
        "\n",
        "train_nor_dir = os.path.join(train_dir, 'nor')\n",
        "train_ben_mal_dir = os.path.join(train_dir, 'ben_mal')\n",
        "\n",
        "valid_nor_dir = os.path.join(valid_dir, 'nor')\n",
        "valid_ben_mal_dir = os.path.join(valid_dir, 'ben_mal')\n",
        "\n",
        "test_nor_dir = os.path.join(test_dir, 'nor')\n",
        "test_ben_mal_dir = os.path.join(test_dir, 'ben_mal')\n",
        "\n",
        "for directory in (train_dir, valid_dir, test_dir):\n",
        "    if not os.path.exists(directory):\n",
        "        os.mkdir(directory)\n",
        "\n",
        "dirs = [train_nor_dir, train_ben_mal_dir, valid_nor_dir, valid_ben_mal_dir, test_nor_dir, test_ben_mal_dir]\n",
        "\n",
        "for dir in dirs:\n",
        "    if not os.path.exists(dir):\n",
        "        os.mkdir(dir)"
      ],
      "execution_count": null,
      "outputs": []
    },
    {
      "cell_type": "code",
      "metadata": {
        "id": "Ge7c11XS8KDa"
      },
      "source": [
        "#kopiowanie\n",
        "nor_fnames = os.listdir(os.path.join(base_dir, 'nor'))\n",
        "ben_mal_fnames = os.listdir(os.path.join(base_dir, 'ben_mal'))\n",
        "\n",
        "\n",
        "nor_fnames = [fname for fname in nor_fnames if fname.split('.')[1].lower() in ['png']]\n",
        "ben_mal_fnames = [fname for fname in ben_mal_fnames if fname.split('.')[1].lower() in ['png']]"
      ],
      "execution_count": null,
      "outputs": []
    },
    {
      "cell_type": "code",
      "metadata": {
        "id": "__68Vwb68jLn"
      },
      "source": [
        "size = min(len(nor_fnames), len(ben_mal_fnames)) # ustalanie ilości plików w folderze \n",
        "\n",
        "train_size = int(np.floor(0.7 * size))\n",
        "valid_size = int(np.floor(0.2 * size))\n",
        "test_size = size - train_size - valid_size\n",
        "\n",
        "train_idx = train_size\n",
        "valid_idx = train_size + valid_size\n",
        "test_idx = train_size + valid_size + test_size"
      ],
      "execution_count": null,
      "outputs": []
    },
    {
      "cell_type": "code",
      "metadata": {
        "id": "sL-rEKQk8qkQ"
      },
      "source": [
        "for i, fname in enumerate(nor_fnames): # proces kopiowania plików\n",
        "    if i <= train_idx:\n",
        "        src = os.path.join(base_dir, 'nor', fname)\n",
        "        dst = os.path.join(train_nor_dir, fname)\n",
        "        shutil.copyfile(src, dst)\n",
        "    elif train_idx < i <= valid_idx:\n",
        "        src = os.path.join(base_dir, 'nor', fname)\n",
        "        dst = os.path.join(valid_nor_dir, fname)\n",
        "        shutil.copyfile(src, dst) \n",
        "    elif valid_idx < i < test_idx:\n",
        "        src = os.path.join(base_dir, 'nor', fname)\n",
        "        dst = os.path.join(test_nor_dir, fname)\n",
        "        shutil.copyfile(src, dst) \n",
        "\n",
        "for i, fname in enumerate(ben_mal_fnames):\n",
        "    if i <= train_idx:\n",
        "        src = os.path.join(base_dir, 'ben_mal', fname)\n",
        "        dst = os.path.join(train_ben_mal_dir, fname)\n",
        "        shutil.copyfile(src, dst)\n",
        "    elif train_idx < i <= valid_idx:\n",
        "        src = os.path.join(base_dir, 'ben_mal', fname)\n",
        "        dst = os.path.join(valid_ben_mal_dir, fname)\n",
        "        shutil.copyfile(src, dst) \n",
        "    elif valid_idx < i < test_idx:\n",
        "        src = os.path.join(base_dir, 'ben_mal', fname)\n",
        "        dst = os.path.join(test_ben_mal_dir, fname)\n",
        "        shutil.copyfile(src, dst)"
      ],
      "execution_count": null,
      "outputs": []
    },
    {
      "cell_type": "code",
      "metadata": {
        "colab": {
          "base_uri": "https://localhost:8080/"
        },
        "id": "ZGJJM7iE9pa5",
        "outputId": "d9691688-28e7-4c8f-cc3c-93c8834ef250"
      },
      "source": [
        "# sprawdzanie ilości plików w folderach\n",
        "print('nor - trening', len(os.listdir(train_nor_dir))) \n",
        "print('nor - walidacja', len(os.listdir(valid_nor_dir)))\n",
        "print('nor - test', len(os.listdir(test_nor_dir)))\n",
        "\n",
        "print('ben_mal - trening', len(os.listdir(train_ben_mal_dir)))\n",
        "print('ben_mal - walidacja', len(os.listdir(valid_ben_mal_dir)))\n",
        "print('ben_mal - test', len(os.listdir(test_ben_mal_dir)))"
      ],
      "execution_count": null,
      "outputs": [
        {
          "output_type": "stream",
          "name": "stdout",
          "text": [
            "nor - trening 1403\n",
            "nor - walidacja 400\n",
            "nor - test 200\n",
            "ben_mal - trening 1403\n",
            "ben_mal - walidacja 400\n",
            "ben_mal - test 200\n"
          ]
        }
      ]
    },
    {
      "cell_type": "code",
      "metadata": {
        "id": "m2NkivSex5uF",
        "colab": {
          "base_uri": "https://localhost:8080/"
        },
        "outputId": "a49cc874-fd34-4c2f-f16f-5bcf0b420b12"
      },
      "source": [
        "from keras.applications.vgg16 import VGG16\n",
        "\n",
        "conv_base = VGG16(weights='imagenet',\n",
        "                 include_top=False,    \n",
        "                 input_shape=(128, 128, 3))\n",
        "\n",
        "conv_base.summary()"
      ],
      "execution_count": null,
      "outputs": [
        {
          "output_type": "stream",
          "name": "stdout",
          "text": [
            "Model: \"vgg16\"\n",
            "_________________________________________________________________\n",
            " Layer (type)                Output Shape              Param #   \n",
            "=================================================================\n",
            " input_13 (InputLayer)       [(None, 128, 128, 3)]     0         \n",
            "                                                                 \n",
            " block1_conv1 (Conv2D)       (None, 128, 128, 64)      1792      \n",
            "                                                                 \n",
            " block1_conv2 (Conv2D)       (None, 128, 128, 64)      36928     \n",
            "                                                                 \n",
            " block1_pool (MaxPooling2D)  (None, 64, 64, 64)        0         \n",
            "                                                                 \n",
            " block2_conv1 (Conv2D)       (None, 64, 64, 128)       73856     \n",
            "                                                                 \n",
            " block2_conv2 (Conv2D)       (None, 64, 64, 128)       147584    \n",
            "                                                                 \n",
            " block2_pool (MaxPooling2D)  (None, 32, 32, 128)       0         \n",
            "                                                                 \n",
            " block3_conv1 (Conv2D)       (None, 32, 32, 256)       295168    \n",
            "                                                                 \n",
            " block3_conv2 (Conv2D)       (None, 32, 32, 256)       590080    \n",
            "                                                                 \n",
            " block3_conv3 (Conv2D)       (None, 32, 32, 256)       590080    \n",
            "                                                                 \n",
            " block3_pool (MaxPooling2D)  (None, 16, 16, 256)       0         \n",
            "                                                                 \n",
            " block4_conv1 (Conv2D)       (None, 16, 16, 512)       1180160   \n",
            "                                                                 \n",
            " block4_conv2 (Conv2D)       (None, 16, 16, 512)       2359808   \n",
            "                                                                 \n",
            " block4_conv3 (Conv2D)       (None, 16, 16, 512)       2359808   \n",
            "                                                                 \n",
            " block4_pool (MaxPooling2D)  (None, 8, 8, 512)         0         \n",
            "                                                                 \n",
            " block5_conv1 (Conv2D)       (None, 8, 8, 512)         2359808   \n",
            "                                                                 \n",
            " block5_conv2 (Conv2D)       (None, 8, 8, 512)         2359808   \n",
            "                                                                 \n",
            " block5_conv3 (Conv2D)       (None, 8, 8, 512)         2359808   \n",
            "                                                                 \n",
            " block5_pool (MaxPooling2D)  (None, 4, 4, 512)         0         \n",
            "                                                                 \n",
            "=================================================================\n",
            "Total params: 14,714,688\n",
            "Trainable params: 14,714,688\n",
            "Non-trainable params: 0\n",
            "_________________________________________________________________\n"
          ]
        }
      ]
    },
    {
      "cell_type": "code",
      "metadata": {
        "id": "Co1uxDHWx5sT",
        "colab": {
          "base_uri": "https://localhost:8080/"
        },
        "outputId": "8b67146a-bb71-46c9-bfa9-e898fc6bd1f8"
      },
      "source": [
        "from keras import models\n",
        "from keras import layers\n",
        "\n",
        "\n",
        "model = models.Sequential()\n",
        "model.add(conv_base)\n",
        "model.add(layers.Flatten())\n",
        "model.add(layers.Dense(units=256, activation='relu'))\n",
        "model.add(layers.Dense(units=1, activation='sigmoid'))\n",
        "\n",
        "model.summary()"
      ],
      "execution_count": null,
      "outputs": [
        {
          "output_type": "stream",
          "name": "stdout",
          "text": [
            "Model: \"sequential_12\"\n",
            "_________________________________________________________________\n",
            " Layer (type)                Output Shape              Param #   \n",
            "=================================================================\n",
            " vgg16 (Functional)          (None, 4, 4, 512)         14714688  \n",
            "                                                                 \n",
            " flatten_12 (Flatten)        (None, 8192)              0         \n",
            "                                                                 \n",
            " dense_24 (Dense)            (None, 256)               2097408   \n",
            "                                                                 \n",
            " dense_25 (Dense)            (None, 1)                 257       \n",
            "                                                                 \n",
            "=================================================================\n",
            "Total params: 16,812,353\n",
            "Trainable params: 16,812,353\n",
            "Non-trainable params: 0\n",
            "_________________________________________________________________\n"
          ]
        }
      ]
    },
    {
      "cell_type": "code",
      "metadata": {
        "id": "lAjsQheex5qt",
        "colab": {
          "base_uri": "https://localhost:8080/"
        },
        "outputId": "91d259cb-b67b-400e-d2d4-4582c48b172a"
      },
      "source": [
        "#zamrożenie wag w celu zapobiegnięcia aktualizacji \n",
        "print('Liczba wag poddawanych trenowaniu przed zamrożeniem bazy:', len(model.trainable_weights))\n",
        "conv_base.trainable = False\n",
        "print('Liczba wag poddawanych trenowaniu po zamrożeniu bazy', len(model.trainable_weights))"
      ],
      "execution_count": null,
      "outputs": [
        {
          "output_type": "stream",
          "name": "stdout",
          "text": [
            "Liczba wag poddawanych trenowaniu przed zamrożeniem bazy: 30\n",
            "Liczba wag poddawanych trenowaniu po zamrożeniu bazy 4\n"
          ]
        }
      ]
    },
    {
      "cell_type": "code",
      "metadata": {
        "id": "Bur5kHs-x5o7",
        "colab": {
          "base_uri": "https://localhost:8080/"
        },
        "outputId": "f77e82a5-8d23-4a44-9748-8dc64064cf31"
      },
      "source": [
        "\n",
        "\n",
        "from keras.preprocessing.image import ImageDataGenerator\n",
        "\n",
        "\n",
        "\n",
        "train_datagen = ImageDataGenerator(rescale=1./255.,\n",
        "                                  rotation_range=40,\n",
        "                                  width_shift_range=0.2,\n",
        "                                  height_shift_range=0.2,\n",
        "                                  shear_range=0.2,\n",
        "                                  zoom_range=0.2,\n",
        "                                  horizontal_flip=True,\n",
        "                                  fill_mode='nearest')\n",
        "\n",
        "test_datagen = ImageDataGenerator(rescale=1./255.)\n",
        "valid_datagen = ImageDataGenerator(rescale=1./255.)\n",
        "\n",
        "train_generator = test_datagen.flow_from_directory(train_dir,\n",
        "                                                   target_size=(128, 128),\n",
        "                                                   batch_size=20,\n",
        "                                                   class_mode='binary')\n",
        "valid_generator = valid_datagen.flow_from_directory(valid_dir,\n",
        "                                                   target_size=(128, 128),\n",
        "                                                   batch_size=20,\n",
        "                                                   class_mode='binary')\n",
        "\n"
      ],
      "execution_count": null,
      "outputs": [
        {
          "output_type": "stream",
          "name": "stdout",
          "text": [
            "Found 2806 images belonging to 2 classes.\n",
            "Found 800 images belonging to 2 classes.\n"
          ]
        }
      ]
    },
    {
      "cell_type": "code",
      "metadata": {
        "id": "m3pkYmOXyVyj"
      },
      "source": [
        "batch_size = 16\n",
        "steps_per_epoch = train_size // batch_size\n",
        "validation_steps = valid_size // batch_size"
      ],
      "execution_count": null,
      "outputs": []
    },
    {
      "cell_type": "code",
      "metadata": {
        "id": "ESSMZ_D2x5nT",
        "colab": {
          "base_uri": "https://localhost:8080/"
        },
        "outputId": "d51f1441-bcaa-45f3-d138-2cedbd22954a"
      },
      "source": [
        "model.compile(optimizer=optimizers.Adam(learning_rate=1e-5),\n",
        "             loss='binary_crossentropy',\n",
        "             metrics=['accuracy'])\n",
        "\n",
        "history = model.fit(train_generator,\n",
        "                             steps_per_epoch=steps_per_epoch,\n",
        "                             epochs=30,\n",
        "                             validation_data=valid_generator,\n",
        "                             validation_steps=validation_steps\n",
        "                             )"
      ],
      "execution_count": null,
      "outputs": [
        {
          "output_type": "stream",
          "name": "stdout",
          "text": [
            "Epoch 1/30\n",
            "87/87 [==============================] - 6s 54ms/step - loss: 0.6830 - accuracy: 0.5828 - val_loss: 0.6641 - val_accuracy: 0.6300\n",
            "Epoch 2/30\n",
            "87/87 [==============================] - 4s 45ms/step - loss: 0.6539 - accuracy: 0.6518 - val_loss: 0.6325 - val_accuracy: 0.7000\n",
            "Epoch 3/30\n",
            "87/87 [==============================] - 4s 46ms/step - loss: 0.6279 - accuracy: 0.7051 - val_loss: 0.6094 - val_accuracy: 0.7260\n",
            "Epoch 4/30\n",
            "87/87 [==============================] - 4s 46ms/step - loss: 0.6133 - accuracy: 0.7190 - val_loss: 0.5936 - val_accuracy: 0.7360\n",
            "Epoch 5/30\n",
            "87/87 [==============================] - 4s 46ms/step - loss: 0.5948 - accuracy: 0.7312 - val_loss: 0.5738 - val_accuracy: 0.7660\n",
            "Epoch 6/30\n",
            "87/87 [==============================] - 4s 47ms/step - loss: 0.5817 - accuracy: 0.7399 - val_loss: 0.5776 - val_accuracy: 0.7320\n",
            "Epoch 7/30\n",
            "87/87 [==============================] - 4s 47ms/step - loss: 0.5629 - accuracy: 0.7638 - val_loss: 0.5561 - val_accuracy: 0.7600\n",
            "Epoch 8/30\n",
            "87/87 [==============================] - 4s 47ms/step - loss: 0.5594 - accuracy: 0.7538 - val_loss: 0.5450 - val_accuracy: 0.7600\n",
            "Epoch 9/30\n",
            "87/87 [==============================] - 4s 47ms/step - loss: 0.5449 - accuracy: 0.7729 - val_loss: 0.5398 - val_accuracy: 0.7780\n",
            "Epoch 10/30\n",
            "87/87 [==============================] - 4s 47ms/step - loss: 0.5278 - accuracy: 0.7851 - val_loss: 0.5265 - val_accuracy: 0.7760\n",
            "Epoch 11/30\n",
            "87/87 [==============================] - 4s 49ms/step - loss: 0.5249 - accuracy: 0.7752 - val_loss: 0.5215 - val_accuracy: 0.7820\n",
            "Epoch 12/30\n",
            "87/87 [==============================] - 4s 46ms/step - loss: 0.5186 - accuracy: 0.7879 - val_loss: 0.5035 - val_accuracy: 0.7960\n",
            "Epoch 13/30\n",
            "87/87 [==============================] - 4s 46ms/step - loss: 0.5115 - accuracy: 0.7966 - val_loss: 0.5120 - val_accuracy: 0.7840\n",
            "Epoch 14/30\n",
            "87/87 [==============================] - 4s 46ms/step - loss: 0.5034 - accuracy: 0.8040 - val_loss: 0.4939 - val_accuracy: 0.8000\n",
            "Epoch 15/30\n",
            "87/87 [==============================] - 4s 46ms/step - loss: 0.4890 - accuracy: 0.8065 - val_loss: 0.4769 - val_accuracy: 0.7980\n",
            "Epoch 16/30\n",
            "87/87 [==============================] - 4s 45ms/step - loss: 0.4847 - accuracy: 0.8146 - val_loss: 0.4816 - val_accuracy: 0.8040\n",
            "Epoch 17/30\n",
            "87/87 [==============================] - 4s 45ms/step - loss: 0.4815 - accuracy: 0.8117 - val_loss: 0.4948 - val_accuracy: 0.7740\n",
            "Epoch 18/30\n",
            "87/87 [==============================] - 4s 45ms/step - loss: 0.4761 - accuracy: 0.8034 - val_loss: 0.4687 - val_accuracy: 0.7960\n",
            "Epoch 19/30\n",
            "87/87 [==============================] - 4s 45ms/step - loss: 0.4779 - accuracy: 0.8082 - val_loss: 0.4780 - val_accuracy: 0.7960\n",
            "Epoch 20/30\n",
            "87/87 [==============================] - 4s 45ms/step - loss: 0.4678 - accuracy: 0.8218 - val_loss: 0.4595 - val_accuracy: 0.8100\n",
            "Epoch 21/30\n",
            "87/87 [==============================] - 4s 46ms/step - loss: 0.4604 - accuracy: 0.8195 - val_loss: 0.4630 - val_accuracy: 0.7960\n",
            "Epoch 22/30\n",
            "87/87 [==============================] - 4s 45ms/step - loss: 0.4574 - accuracy: 0.8161 - val_loss: 0.4586 - val_accuracy: 0.8180\n",
            "Epoch 23/30\n",
            "87/87 [==============================] - 4s 45ms/step - loss: 0.4525 - accuracy: 0.8192 - val_loss: 0.4550 - val_accuracy: 0.8120\n",
            "Epoch 24/30\n",
            "87/87 [==============================] - 4s 46ms/step - loss: 0.4474 - accuracy: 0.8218 - val_loss: 0.4552 - val_accuracy: 0.7980\n",
            "Epoch 25/30\n",
            "87/87 [==============================] - 4s 46ms/step - loss: 0.4432 - accuracy: 0.8227 - val_loss: 0.4399 - val_accuracy: 0.7960\n",
            "Epoch 26/30\n",
            "87/87 [==============================] - 4s 46ms/step - loss: 0.4422 - accuracy: 0.8201 - val_loss: 0.4345 - val_accuracy: 0.8280\n",
            "Epoch 27/30\n",
            "87/87 [==============================] - 4s 46ms/step - loss: 0.4329 - accuracy: 0.8320 - val_loss: 0.4392 - val_accuracy: 0.8120\n",
            "Epoch 28/30\n",
            "87/87 [==============================] - 4s 46ms/step - loss: 0.4333 - accuracy: 0.8163 - val_loss: 0.4332 - val_accuracy: 0.8160\n",
            "Epoch 29/30\n",
            "87/87 [==============================] - 4s 46ms/step - loss: 0.4263 - accuracy: 0.8339 - val_loss: 0.4311 - val_accuracy: 0.8040\n",
            "Epoch 30/30\n",
            "87/87 [==============================] - 4s 46ms/step - loss: 0.4290 - accuracy: 0.8310 - val_loss: 0.4327 - val_accuracy: 0.8120\n"
          ]
        }
      ]
    },
    {
      "cell_type": "code",
      "metadata": {
        "id": "wrDarACbJtue",
        "colab": {
          "base_uri": "https://localhost:8080/"
        },
        "outputId": "c5793535-421f-4fe3-c852-bac9cb535d74"
      },
      "source": [
        "test_datagen = ImageDataGenerator(rescale=1./255.)\n",
        "test_generator = test_datagen.flow_from_directory(test_dir,\n",
        "                                                 target_size=(128, 128),\n",
        "                                                 batch_size=8,\n",
        "                                                 class_mode='binary')\n",
        "\n",
        "test_loss, test_acc = model.evaluate(test_generator, steps=50)\n",
        "print('Dokładność testowania:', test_acc)"
      ],
      "execution_count": null,
      "outputs": [
        {
          "output_type": "stream",
          "name": "stdout",
          "text": [
            "Found 400 images belonging to 2 classes.\n",
            "50/50 [==============================] - 1s 19ms/step - loss: 0.4545 - accuracy: 0.7875\n",
            "Dokładność testowania: 0.7875000238418579\n"
          ]
        }
      ]
    },
    {
      "cell_type": "code",
      "metadata": {
        "id": "J-leo-K_x5li",
        "colab": {
          "base_uri": "https://localhost:8080/"
        },
        "outputId": "c5a6e891-a1be-4cb1-b83b-14070de5ffb1"
      },
      "source": [
        "#dostrajanie - poprawa działania modelu\n",
        "conv_base = VGG16(weights='imagenet',\n",
        "                 include_top=False,    \n",
        "                 input_shape=(128, 128, 3))\n",
        "\n",
        "conv_base.summary()"
      ],
      "execution_count": null,
      "outputs": [
        {
          "output_type": "stream",
          "name": "stdout",
          "text": [
            "Model: \"vgg16\"\n",
            "_________________________________________________________________\n",
            " Layer (type)                Output Shape              Param #   \n",
            "=================================================================\n",
            " input_14 (InputLayer)       [(None, 128, 128, 3)]     0         \n",
            "                                                                 \n",
            " block1_conv1 (Conv2D)       (None, 128, 128, 64)      1792      \n",
            "                                                                 \n",
            " block1_conv2 (Conv2D)       (None, 128, 128, 64)      36928     \n",
            "                                                                 \n",
            " block1_pool (MaxPooling2D)  (None, 64, 64, 64)        0         \n",
            "                                                                 \n",
            " block2_conv1 (Conv2D)       (None, 64, 64, 128)       73856     \n",
            "                                                                 \n",
            " block2_conv2 (Conv2D)       (None, 64, 64, 128)       147584    \n",
            "                                                                 \n",
            " block2_pool (MaxPooling2D)  (None, 32, 32, 128)       0         \n",
            "                                                                 \n",
            " block3_conv1 (Conv2D)       (None, 32, 32, 256)       295168    \n",
            "                                                                 \n",
            " block3_conv2 (Conv2D)       (None, 32, 32, 256)       590080    \n",
            "                                                                 \n",
            " block3_conv3 (Conv2D)       (None, 32, 32, 256)       590080    \n",
            "                                                                 \n",
            " block3_pool (MaxPooling2D)  (None, 16, 16, 256)       0         \n",
            "                                                                 \n",
            " block4_conv1 (Conv2D)       (None, 16, 16, 512)       1180160   \n",
            "                                                                 \n",
            " block4_conv2 (Conv2D)       (None, 16, 16, 512)       2359808   \n",
            "                                                                 \n",
            " block4_conv3 (Conv2D)       (None, 16, 16, 512)       2359808   \n",
            "                                                                 \n",
            " block4_pool (MaxPooling2D)  (None, 8, 8, 512)         0         \n",
            "                                                                 \n",
            " block5_conv1 (Conv2D)       (None, 8, 8, 512)         2359808   \n",
            "                                                                 \n",
            " block5_conv2 (Conv2D)       (None, 8, 8, 512)         2359808   \n",
            "                                                                 \n",
            " block5_conv3 (Conv2D)       (None, 8, 8, 512)         2359808   \n",
            "                                                                 \n",
            " block5_pool (MaxPooling2D)  (None, 4, 4, 512)         0         \n",
            "                                                                 \n",
            "=================================================================\n",
            "Total params: 14,714,688\n",
            "Trainable params: 14,714,688\n",
            "Non-trainable params: 0\n",
            "_________________________________________________________________\n"
          ]
        }
      ]
    },
    {
      "cell_type": "code",
      "metadata": {
        "id": "wCU4SoXZx5jr",
        "colab": {
          "base_uri": "https://localhost:8080/"
        },
        "outputId": "dc2c65df-8f5b-47ea-a975-03e96e8f42d2"
      },
      "source": [
        "conv_base.trainable = True\n",
        "\n",
        "def print_layers(model):\n",
        "    for layer in model.layers:\n",
        "        print('layer_name: {:12}, trainable: {}'.format(layer.name, layer.trainable))\n",
        "        \n",
        "print_layers(conv_base)"
      ],
      "execution_count": null,
      "outputs": [
        {
          "output_type": "stream",
          "name": "stdout",
          "text": [
            "layer_name: input_14    , trainable: True\n",
            "layer_name: block1_conv1, trainable: True\n",
            "layer_name: block1_conv2, trainable: True\n",
            "layer_name: block1_pool , trainable: True\n",
            "layer_name: block2_conv1, trainable: True\n",
            "layer_name: block2_conv2, trainable: True\n",
            "layer_name: block2_pool , trainable: True\n",
            "layer_name: block3_conv1, trainable: True\n",
            "layer_name: block3_conv2, trainable: True\n",
            "layer_name: block3_conv3, trainable: True\n",
            "layer_name: block3_pool , trainable: True\n",
            "layer_name: block4_conv1, trainable: True\n",
            "layer_name: block4_conv2, trainable: True\n",
            "layer_name: block4_conv3, trainable: True\n",
            "layer_name: block4_pool , trainable: True\n",
            "layer_name: block5_conv1, trainable: True\n",
            "layer_name: block5_conv2, trainable: True\n",
            "layer_name: block5_conv3, trainable: True\n",
            "layer_name: block5_pool , trainable: True\n"
          ]
        }
      ]
    },
    {
      "cell_type": "code",
      "metadata": {
        "id": "zUcwniCTx5hq",
        "colab": {
          "base_uri": "https://localhost:8080/"
        },
        "outputId": "7122bb1c-bbb0-41df-b1fa-fdbc1d230fd4"
      },
      "source": [
        "set_trainable = False\n",
        "for layer in conv_base.layers:\n",
        "    if layer.name == 'block5_conv1':\n",
        "        set_trainable = True\n",
        "    if set_trainable:\n",
        "        layer.trainable = True\n",
        "    else:\n",
        "        layer.trainable = False\n",
        "        \n",
        "print_layers(conv_base)"
      ],
      "execution_count": null,
      "outputs": [
        {
          "output_type": "stream",
          "name": "stdout",
          "text": [
            "layer_name: input_14    , trainable: False\n",
            "layer_name: block1_conv1, trainable: False\n",
            "layer_name: block1_conv2, trainable: False\n",
            "layer_name: block1_pool , trainable: False\n",
            "layer_name: block2_conv1, trainable: False\n",
            "layer_name: block2_conv2, trainable: False\n",
            "layer_name: block2_pool , trainable: False\n",
            "layer_name: block3_conv1, trainable: False\n",
            "layer_name: block3_conv2, trainable: False\n",
            "layer_name: block3_conv3, trainable: False\n",
            "layer_name: block3_pool , trainable: False\n",
            "layer_name: block4_conv1, trainable: False\n",
            "layer_name: block4_conv2, trainable: False\n",
            "layer_name: block4_conv3, trainable: False\n",
            "layer_name: block4_pool , trainable: False\n",
            "layer_name: block5_conv1, trainable: True\n",
            "layer_name: block5_conv2, trainable: True\n",
            "layer_name: block5_conv3, trainable: True\n",
            "layer_name: block5_pool , trainable: True\n"
          ]
        }
      ]
    },
    {
      "cell_type": "code",
      "metadata": {
        "id": "bm0qv8mfx5fz",
        "colab": {
          "base_uri": "https://localhost:8080/"
        },
        "outputId": "40050b22-f581-4409-c717-83684e672e49"
      },
      "source": [
        "\n",
        "\n",
        "model = models.Sequential()\n",
        "model.add(conv_base)\n",
        "model.add(layers.Flatten())\n",
        "model.add(layers.Dense(units=256, activation='relu'))\n",
        "model.add(layers.Dense(units=1, activation='sigmoid'))\n",
        "\n",
        "model.compile(optimizer=optimizers.Adam(learning_rate=1e-5),\n",
        "             loss='binary_crossentropy',\n",
        "             metrics=['accuracy'])\n",
        "\n",
        "model.summary()\n",
        "\n"
      ],
      "execution_count": null,
      "outputs": [
        {
          "output_type": "stream",
          "name": "stdout",
          "text": [
            "Model: \"sequential_13\"\n",
            "_________________________________________________________________\n",
            " Layer (type)                Output Shape              Param #   \n",
            "=================================================================\n",
            " vgg16 (Functional)          (None, 4, 4, 512)         14714688  \n",
            "                                                                 \n",
            " flatten_13 (Flatten)        (None, 8192)              0         \n",
            "                                                                 \n",
            " dense_26 (Dense)            (None, 256)               2097408   \n",
            "                                                                 \n",
            " dense_27 (Dense)            (None, 1)                 257       \n",
            "                                                                 \n",
            "=================================================================\n",
            "Total params: 16,812,353\n",
            "Trainable params: 9,177,089\n",
            "Non-trainable params: 7,635,264\n",
            "_________________________________________________________________\n"
          ]
        }
      ]
    },
    {
      "cell_type": "code",
      "metadata": {
        "id": "U6-yb0Mlx5di",
        "colab": {
          "base_uri": "https://localhost:8080/"
        },
        "outputId": "09f0518e-6ed7-4496-c0ba-c2d433d7e2cb"
      },
      "source": [
        "history = model.fit(train_generator,\n",
        "                             steps_per_epoch=steps_per_epoch,\n",
        "                             epochs=30,\n",
        "                             validation_data=valid_generator,\n",
        "                             validation_steps=validation_steps)"
      ],
      "execution_count": null,
      "outputs": [
        {
          "output_type": "stream",
          "name": "stdout",
          "text": [
            "Epoch 1/30\n",
            "87/87 [==============================] - 6s 56ms/step - loss: 0.6394 - accuracy: 0.6535 - val_loss: 0.5639 - val_accuracy: 0.7520\n",
            "Epoch 2/30\n",
            "87/87 [==============================] - 5s 54ms/step - loss: 0.4794 - accuracy: 0.7926 - val_loss: 0.4210 - val_accuracy: 0.8200\n",
            "Epoch 3/30\n",
            "87/87 [==============================] - 5s 54ms/step - loss: 0.3679 - accuracy: 0.8356 - val_loss: 0.3611 - val_accuracy: 0.8360\n",
            "Epoch 4/30\n",
            "87/87 [==============================] - 5s 54ms/step - loss: 0.3242 - accuracy: 0.8650 - val_loss: 0.3433 - val_accuracy: 0.8440\n",
            "Epoch 5/30\n",
            "87/87 [==============================] - 5s 54ms/step - loss: 0.2922 - accuracy: 0.8801 - val_loss: 0.3120 - val_accuracy: 0.8460\n",
            "Epoch 6/30\n",
            "87/87 [==============================] - 5s 54ms/step - loss: 0.2628 - accuracy: 0.8986 - val_loss: 0.3221 - val_accuracy: 0.8500\n",
            "Epoch 7/30\n",
            "87/87 [==============================] - 5s 54ms/step - loss: 0.2486 - accuracy: 0.9056 - val_loss: 0.3556 - val_accuracy: 0.8360\n",
            "Epoch 8/30\n",
            "87/87 [==============================] - 5s 54ms/step - loss: 0.2409 - accuracy: 0.9044 - val_loss: 0.3683 - val_accuracy: 0.8320\n",
            "Epoch 9/30\n",
            "87/87 [==============================] - 5s 55ms/step - loss: 0.2262 - accuracy: 0.9102 - val_loss: 0.3768 - val_accuracy: 0.8260\n",
            "Epoch 10/30\n",
            "87/87 [==============================] - 5s 54ms/step - loss: 0.2069 - accuracy: 0.9270 - val_loss: 0.3160 - val_accuracy: 0.8640\n",
            "Epoch 11/30\n",
            "87/87 [==============================] - 5s 54ms/step - loss: 0.1832 - accuracy: 0.9374 - val_loss: 0.3552 - val_accuracy: 0.8400\n",
            "Epoch 12/30\n",
            "87/87 [==============================] - 5s 54ms/step - loss: 0.1808 - accuracy: 0.9362 - val_loss: 0.2826 - val_accuracy: 0.8780\n",
            "Epoch 13/30\n",
            "87/87 [==============================] - 5s 54ms/step - loss: 0.1712 - accuracy: 0.9386 - val_loss: 0.3146 - val_accuracy: 0.8660\n",
            "Epoch 14/30\n",
            "87/87 [==============================] - 5s 54ms/step - loss: 0.1425 - accuracy: 0.9502 - val_loss: 0.3381 - val_accuracy: 0.8500\n",
            "Epoch 15/30\n",
            "87/87 [==============================] - 5s 53ms/step - loss: 0.1264 - accuracy: 0.9583 - val_loss: 0.3012 - val_accuracy: 0.8720\n",
            "Epoch 16/30\n",
            "87/87 [==============================] - 5s 53ms/step - loss: 0.1147 - accuracy: 0.9635 - val_loss: 0.3562 - val_accuracy: 0.8460\n",
            "Epoch 17/30\n",
            "87/87 [==============================] - 5s 54ms/step - loss: 0.1125 - accuracy: 0.9658 - val_loss: 0.3426 - val_accuracy: 0.8620\n",
            "Epoch 18/30\n",
            "87/87 [==============================] - 5s 54ms/step - loss: 0.1175 - accuracy: 0.9603 - val_loss: 0.2790 - val_accuracy: 0.8760\n",
            "Epoch 19/30\n",
            "87/87 [==============================] - 5s 54ms/step - loss: 0.0879 - accuracy: 0.9757 - val_loss: 0.4044 - val_accuracy: 0.8420\n",
            "Epoch 20/30\n",
            "87/87 [==============================] - 5s 54ms/step - loss: 0.0931 - accuracy: 0.9699 - val_loss: 0.3261 - val_accuracy: 0.8620\n",
            "Epoch 21/30\n",
            "87/87 [==============================] - 5s 54ms/step - loss: 0.0798 - accuracy: 0.9757 - val_loss: 0.3626 - val_accuracy: 0.8580\n",
            "Epoch 22/30\n",
            "87/87 [==============================] - 5s 54ms/step - loss: 0.0783 - accuracy: 0.9753 - val_loss: 0.3985 - val_accuracy: 0.8420\n",
            "Epoch 23/30\n",
            "87/87 [==============================] - 5s 54ms/step - loss: 0.0625 - accuracy: 0.9855 - val_loss: 0.3362 - val_accuracy: 0.8700\n",
            "Epoch 24/30\n",
            "87/87 [==============================] - 5s 54ms/step - loss: 0.0462 - accuracy: 0.9896 - val_loss: 0.3766 - val_accuracy: 0.8620\n",
            "Epoch 25/30\n",
            "87/87 [==============================] - 5s 54ms/step - loss: 0.0462 - accuracy: 0.9879 - val_loss: 0.3950 - val_accuracy: 0.8560\n",
            "Epoch 26/30\n",
            "87/87 [==============================] - 5s 54ms/step - loss: 0.0488 - accuracy: 0.9861 - val_loss: 0.3590 - val_accuracy: 0.8640\n",
            "Epoch 27/30\n",
            "87/87 [==============================] - 5s 55ms/step - loss: 0.0432 - accuracy: 0.9897 - val_loss: 0.3823 - val_accuracy: 0.8540\n",
            "Epoch 28/30\n",
            "87/87 [==============================] - 5s 54ms/step - loss: 0.0340 - accuracy: 0.9942 - val_loss: 0.3606 - val_accuracy: 0.8660\n",
            "Epoch 29/30\n",
            "87/87 [==============================] - 5s 54ms/step - loss: 0.0261 - accuracy: 0.9977 - val_loss: 0.3654 - val_accuracy: 0.8780\n",
            "Epoch 30/30\n",
            "87/87 [==============================] - 5s 55ms/step - loss: 0.0298 - accuracy: 0.9954 - val_loss: 0.4020 - val_accuracy: 0.8640\n"
          ]
        }
      ]
    },
    {
      "cell_type": "code",
      "metadata": {
        "id": "nwk-ML6ax5bs"
      },
      "source": [
        ""
      ],
      "execution_count": null,
      "outputs": []
    },
    {
      "cell_type": "code",
      "metadata": {
        "id": "MqaW3inZC4ie",
        "colab": {
          "base_uri": "https://localhost:8080/",
          "height": 1000
        },
        "outputId": "2b3250a0-db19-4f27-c80c-5fd029b52b49"
      },
      "source": [
        "def plot_hist(history):\n",
        "    hist = pd.DataFrame(history.history)\n",
        "    hist['epoch'] = history.epoch\n",
        "\n",
        "    fig = go.Figure()\n",
        "    fig.add_trace(go.Scatter(x=hist['epoch'], y=hist['accuracy'], name='accuracy', mode='markers+lines'))\n",
        "    fig.add_trace(go.Scatter(x=hist['epoch'], y=hist['val_accuracy'], name='val_accuracy', mode='markers+lines'))\n",
        "    fig.update_layout(width=1000, height=500, title='Accuracy vs. Val Accuracy', xaxis_title='Epoki', yaxis_title='Accuracy', yaxis_type='log')\n",
        "    fig.show()\n",
        "\n",
        "    fig = go.Figure()\n",
        "    fig.add_trace(go.Scatter(x=hist['epoch'], y=hist['loss'], name='loss', mode='markers+lines'))\n",
        "    fig.add_trace(go.Scatter(x=hist['epoch'], y=hist['val_loss'], name='val_loss', mode='markers+lines'))\n",
        "    fig.update_layout(width=1000, height=500, title='Loss vs. Val Loss', xaxis_title='Epoki', yaxis_title='Loss', yaxis_type='log')\n",
        "    fig.show()\n",
        "\n",
        "plot_hist(history)"
      ],
      "execution_count": null,
      "outputs": [
        {
          "output_type": "display_data",
          "data": {
            "text/html": [
              "<html>\n",
              "<head><meta charset=\"utf-8\" /></head>\n",
              "<body>\n",
              "    <div>\n",
              "            <script src=\"https://cdnjs.cloudflare.com/ajax/libs/mathjax/2.7.5/MathJax.js?config=TeX-AMS-MML_SVG\"></script><script type=\"text/javascript\">if (window.MathJax) {MathJax.Hub.Config({SVG: {font: \"STIX-Web\"}});}</script>\n",
              "                <script type=\"text/javascript\">window.PlotlyConfig = {MathJaxConfig: 'local'};</script>\n",
              "        <script src=\"https://cdn.plot.ly/plotly-latest.min.js\"></script>    \n",
              "            <div id=\"354628e8-aa82-452f-b49b-901f1a762a62\" class=\"plotly-graph-div\" style=\"height:500px; width:1000px;\"></div>\n",
              "            <script type=\"text/javascript\">\n",
              "                \n",
              "                    window.PLOTLYENV=window.PLOTLYENV || {};\n",
              "                    \n",
              "                if (document.getElementById(\"354628e8-aa82-452f-b49b-901f1a762a62\")) {\n",
              "                    Plotly.newPlot(\n",
              "                        '354628e8-aa82-452f-b49b-901f1a762a62',\n",
              "                        [{\"mode\": \"markers+lines\", \"name\": \"accuracy\", \"type\": \"scatter\", \"x\": [0, 1, 2, 3, 4, 5, 6, 7, 8, 9, 10, 11, 12, 13, 14, 15, 16, 17, 18, 19, 20, 21, 22, 23, 24, 25, 26, 27, 28, 29], \"y\": [0.6535341739654541, 0.7925840020179749, 0.8356322050094604, 0.8650057911872864, 0.8800695538520813, 0.8986095190048218, 0.9055619835853577, 0.9044032692909241, 0.9101969599723816, 0.9269988536834717, 0.9373562932014465, 0.9362068772315979, 0.9385863542556763, 0.9501737952232361, 0.9582850337028503, 0.9634994268417358, 0.9658169150352478, 0.9603448510169983, 0.9756662845611572, 0.9698725342750549, 0.9756662845611572, 0.9752873778343201, 0.9855156540870667, 0.9895712733268738, 0.9879310131072998, 0.9860950112342834, 0.9896551966667175, 0.9942062497138977, 0.997682511806488, 0.9954022765159607]}, {\"mode\": \"markers+lines\", \"name\": \"val_accuracy\", \"type\": \"scatter\", \"x\": [0, 1, 2, 3, 4, 5, 6, 7, 8, 9, 10, 11, 12, 13, 14, 15, 16, 17, 18, 19, 20, 21, 22, 23, 24, 25, 26, 27, 28, 29], \"y\": [0.7519999742507935, 0.8199999928474426, 0.8360000252723694, 0.843999981880188, 0.8460000157356262, 0.8500000238418579, 0.8360000252723694, 0.8320000171661377, 0.8259999752044678, 0.8640000224113464, 0.8399999737739563, 0.878000020980835, 0.8659999966621399, 0.8500000238418579, 0.871999979019165, 0.8460000157356262, 0.8619999885559082, 0.8759999871253967, 0.8420000076293945, 0.8619999885559082, 0.8579999804496765, 0.8420000076293945, 0.8700000047683716, 0.8619999885559082, 0.8560000061988831, 0.8640000224113464, 0.8539999723434448, 0.8659999966621399, 0.878000020980835, 0.8640000224113464]}],\n",
              "                        {\"height\": 500, \"template\": {\"data\": {\"bar\": [{\"error_x\": {\"color\": \"#2a3f5f\"}, \"error_y\": {\"color\": \"#2a3f5f\"}, \"marker\": {\"line\": {\"color\": \"#E5ECF6\", \"width\": 0.5}}, \"type\": \"bar\"}], \"barpolar\": [{\"marker\": {\"line\": {\"color\": \"#E5ECF6\", \"width\": 0.5}}, \"type\": \"barpolar\"}], \"carpet\": [{\"aaxis\": {\"endlinecolor\": \"#2a3f5f\", \"gridcolor\": \"white\", \"linecolor\": \"white\", \"minorgridcolor\": \"white\", \"startlinecolor\": \"#2a3f5f\"}, \"baxis\": {\"endlinecolor\": \"#2a3f5f\", \"gridcolor\": \"white\", \"linecolor\": \"white\", \"minorgridcolor\": \"white\", \"startlinecolor\": \"#2a3f5f\"}, \"type\": \"carpet\"}], \"choropleth\": [{\"colorbar\": {\"outlinewidth\": 0, \"ticks\": \"\"}, \"type\": \"choropleth\"}], \"contour\": [{\"colorbar\": {\"outlinewidth\": 0, \"ticks\": \"\"}, \"colorscale\": [[0.0, \"#0d0887\"], [0.1111111111111111, \"#46039f\"], [0.2222222222222222, \"#7201a8\"], [0.3333333333333333, \"#9c179e\"], [0.4444444444444444, \"#bd3786\"], [0.5555555555555556, \"#d8576b\"], [0.6666666666666666, \"#ed7953\"], [0.7777777777777778, \"#fb9f3a\"], [0.8888888888888888, \"#fdca26\"], [1.0, \"#f0f921\"]], \"type\": \"contour\"}], \"contourcarpet\": [{\"colorbar\": {\"outlinewidth\": 0, \"ticks\": \"\"}, \"type\": \"contourcarpet\"}], \"heatmap\": [{\"colorbar\": {\"outlinewidth\": 0, \"ticks\": \"\"}, \"colorscale\": [[0.0, \"#0d0887\"], [0.1111111111111111, \"#46039f\"], [0.2222222222222222, \"#7201a8\"], [0.3333333333333333, \"#9c179e\"], [0.4444444444444444, \"#bd3786\"], [0.5555555555555556, \"#d8576b\"], [0.6666666666666666, \"#ed7953\"], [0.7777777777777778, \"#fb9f3a\"], [0.8888888888888888, \"#fdca26\"], [1.0, \"#f0f921\"]], \"type\": \"heatmap\"}], \"heatmapgl\": [{\"colorbar\": {\"outlinewidth\": 0, \"ticks\": \"\"}, \"colorscale\": [[0.0, \"#0d0887\"], [0.1111111111111111, \"#46039f\"], [0.2222222222222222, \"#7201a8\"], [0.3333333333333333, \"#9c179e\"], [0.4444444444444444, \"#bd3786\"], [0.5555555555555556, \"#d8576b\"], [0.6666666666666666, \"#ed7953\"], [0.7777777777777778, \"#fb9f3a\"], [0.8888888888888888, \"#fdca26\"], [1.0, \"#f0f921\"]], \"type\": \"heatmapgl\"}], \"histogram\": [{\"marker\": {\"colorbar\": {\"outlinewidth\": 0, \"ticks\": \"\"}}, \"type\": \"histogram\"}], \"histogram2d\": [{\"colorbar\": {\"outlinewidth\": 0, \"ticks\": \"\"}, \"colorscale\": [[0.0, \"#0d0887\"], [0.1111111111111111, \"#46039f\"], [0.2222222222222222, \"#7201a8\"], [0.3333333333333333, \"#9c179e\"], [0.4444444444444444, \"#bd3786\"], [0.5555555555555556, \"#d8576b\"], [0.6666666666666666, \"#ed7953\"], [0.7777777777777778, \"#fb9f3a\"], [0.8888888888888888, \"#fdca26\"], [1.0, \"#f0f921\"]], \"type\": \"histogram2d\"}], \"histogram2dcontour\": [{\"colorbar\": {\"outlinewidth\": 0, \"ticks\": \"\"}, \"colorscale\": [[0.0, \"#0d0887\"], [0.1111111111111111, \"#46039f\"], [0.2222222222222222, \"#7201a8\"], [0.3333333333333333, \"#9c179e\"], [0.4444444444444444, \"#bd3786\"], [0.5555555555555556, \"#d8576b\"], [0.6666666666666666, \"#ed7953\"], [0.7777777777777778, \"#fb9f3a\"], [0.8888888888888888, \"#fdca26\"], [1.0, \"#f0f921\"]], \"type\": \"histogram2dcontour\"}], \"mesh3d\": [{\"colorbar\": {\"outlinewidth\": 0, \"ticks\": \"\"}, \"type\": \"mesh3d\"}], \"parcoords\": [{\"line\": {\"colorbar\": {\"outlinewidth\": 0, \"ticks\": \"\"}}, \"type\": \"parcoords\"}], \"pie\": [{\"automargin\": true, \"type\": \"pie\"}], \"scatter\": [{\"marker\": {\"colorbar\": {\"outlinewidth\": 0, \"ticks\": \"\"}}, \"type\": \"scatter\"}], \"scatter3d\": [{\"line\": {\"colorbar\": {\"outlinewidth\": 0, \"ticks\": \"\"}}, \"marker\": {\"colorbar\": {\"outlinewidth\": 0, \"ticks\": \"\"}}, \"type\": \"scatter3d\"}], \"scattercarpet\": [{\"marker\": {\"colorbar\": {\"outlinewidth\": 0, \"ticks\": \"\"}}, \"type\": \"scattercarpet\"}], \"scattergeo\": [{\"marker\": {\"colorbar\": {\"outlinewidth\": 0, \"ticks\": \"\"}}, \"type\": \"scattergeo\"}], \"scattergl\": [{\"marker\": {\"colorbar\": {\"outlinewidth\": 0, \"ticks\": \"\"}}, \"type\": \"scattergl\"}], \"scattermapbox\": [{\"marker\": {\"colorbar\": {\"outlinewidth\": 0, \"ticks\": \"\"}}, \"type\": \"scattermapbox\"}], \"scatterpolar\": [{\"marker\": {\"colorbar\": {\"outlinewidth\": 0, \"ticks\": \"\"}}, \"type\": \"scatterpolar\"}], \"scatterpolargl\": [{\"marker\": {\"colorbar\": {\"outlinewidth\": 0, \"ticks\": \"\"}}, \"type\": \"scatterpolargl\"}], \"scatterternary\": [{\"marker\": {\"colorbar\": {\"outlinewidth\": 0, \"ticks\": \"\"}}, \"type\": \"scatterternary\"}], \"surface\": [{\"colorbar\": {\"outlinewidth\": 0, \"ticks\": \"\"}, \"colorscale\": [[0.0, \"#0d0887\"], [0.1111111111111111, \"#46039f\"], [0.2222222222222222, \"#7201a8\"], [0.3333333333333333, \"#9c179e\"], [0.4444444444444444, \"#bd3786\"], [0.5555555555555556, \"#d8576b\"], [0.6666666666666666, \"#ed7953\"], [0.7777777777777778, \"#fb9f3a\"], [0.8888888888888888, \"#fdca26\"], [1.0, \"#f0f921\"]], \"type\": \"surface\"}], \"table\": [{\"cells\": {\"fill\": {\"color\": \"#EBF0F8\"}, \"line\": {\"color\": \"white\"}}, \"header\": {\"fill\": {\"color\": \"#C8D4E3\"}, \"line\": {\"color\": \"white\"}}, \"type\": \"table\"}]}, \"layout\": {\"annotationdefaults\": {\"arrowcolor\": \"#2a3f5f\", \"arrowhead\": 0, \"arrowwidth\": 1}, \"coloraxis\": {\"colorbar\": {\"outlinewidth\": 0, \"ticks\": \"\"}}, \"colorscale\": {\"diverging\": [[0, \"#8e0152\"], [0.1, \"#c51b7d\"], [0.2, \"#de77ae\"], [0.3, \"#f1b6da\"], [0.4, \"#fde0ef\"], [0.5, \"#f7f7f7\"], [0.6, \"#e6f5d0\"], [0.7, \"#b8e186\"], [0.8, \"#7fbc41\"], [0.9, \"#4d9221\"], [1, \"#276419\"]], \"sequential\": [[0.0, \"#0d0887\"], [0.1111111111111111, \"#46039f\"], [0.2222222222222222, \"#7201a8\"], [0.3333333333333333, \"#9c179e\"], [0.4444444444444444, \"#bd3786\"], [0.5555555555555556, \"#d8576b\"], [0.6666666666666666, \"#ed7953\"], [0.7777777777777778, \"#fb9f3a\"], [0.8888888888888888, \"#fdca26\"], [1.0, \"#f0f921\"]], \"sequentialminus\": [[0.0, \"#0d0887\"], [0.1111111111111111, \"#46039f\"], [0.2222222222222222, \"#7201a8\"], [0.3333333333333333, \"#9c179e\"], [0.4444444444444444, \"#bd3786\"], [0.5555555555555556, \"#d8576b\"], [0.6666666666666666, \"#ed7953\"], [0.7777777777777778, \"#fb9f3a\"], [0.8888888888888888, \"#fdca26\"], [1.0, \"#f0f921\"]]}, \"colorway\": [\"#636efa\", \"#EF553B\", \"#00cc96\", \"#ab63fa\", \"#FFA15A\", \"#19d3f3\", \"#FF6692\", \"#B6E880\", \"#FF97FF\", \"#FECB52\"], \"font\": {\"color\": \"#2a3f5f\"}, \"geo\": {\"bgcolor\": \"white\", \"lakecolor\": \"white\", \"landcolor\": \"#E5ECF6\", \"showlakes\": true, \"showland\": true, \"subunitcolor\": \"white\"}, \"hoverlabel\": {\"align\": \"left\"}, \"hovermode\": \"closest\", \"mapbox\": {\"style\": \"light\"}, \"paper_bgcolor\": \"white\", \"plot_bgcolor\": \"#E5ECF6\", \"polar\": {\"angularaxis\": {\"gridcolor\": \"white\", \"linecolor\": \"white\", \"ticks\": \"\"}, \"bgcolor\": \"#E5ECF6\", \"radialaxis\": {\"gridcolor\": \"white\", \"linecolor\": \"white\", \"ticks\": \"\"}}, \"scene\": {\"xaxis\": {\"backgroundcolor\": \"#E5ECF6\", \"gridcolor\": \"white\", \"gridwidth\": 2, \"linecolor\": \"white\", \"showbackground\": true, \"ticks\": \"\", \"zerolinecolor\": \"white\"}, \"yaxis\": {\"backgroundcolor\": \"#E5ECF6\", \"gridcolor\": \"white\", \"gridwidth\": 2, \"linecolor\": \"white\", \"showbackground\": true, \"ticks\": \"\", \"zerolinecolor\": \"white\"}, \"zaxis\": {\"backgroundcolor\": \"#E5ECF6\", \"gridcolor\": \"white\", \"gridwidth\": 2, \"linecolor\": \"white\", \"showbackground\": true, \"ticks\": \"\", \"zerolinecolor\": \"white\"}}, \"shapedefaults\": {\"line\": {\"color\": \"#2a3f5f\"}}, \"ternary\": {\"aaxis\": {\"gridcolor\": \"white\", \"linecolor\": \"white\", \"ticks\": \"\"}, \"baxis\": {\"gridcolor\": \"white\", \"linecolor\": \"white\", \"ticks\": \"\"}, \"bgcolor\": \"#E5ECF6\", \"caxis\": {\"gridcolor\": \"white\", \"linecolor\": \"white\", \"ticks\": \"\"}}, \"title\": {\"x\": 0.05}, \"xaxis\": {\"automargin\": true, \"gridcolor\": \"white\", \"linecolor\": \"white\", \"ticks\": \"\", \"title\": {\"standoff\": 15}, \"zerolinecolor\": \"white\", \"zerolinewidth\": 2}, \"yaxis\": {\"automargin\": true, \"gridcolor\": \"white\", \"linecolor\": \"white\", \"ticks\": \"\", \"title\": {\"standoff\": 15}, \"zerolinecolor\": \"white\", \"zerolinewidth\": 2}}}, \"title\": {\"text\": \"Accuracy vs. Val Accuracy\"}, \"width\": 1000, \"xaxis\": {\"title\": {\"text\": \"Epoki\"}}, \"yaxis\": {\"title\": {\"text\": \"Accuracy\"}, \"type\": \"log\"}},\n",
              "                        {\"responsive\": true}\n",
              "                    ).then(function(){\n",
              "                            \n",
              "var gd = document.getElementById('354628e8-aa82-452f-b49b-901f1a762a62');\n",
              "var x = new MutationObserver(function (mutations, observer) {{\n",
              "        var display = window.getComputedStyle(gd).display;\n",
              "        if (!display || display === 'none') {{\n",
              "            console.log([gd, 'removed!']);\n",
              "            Plotly.purge(gd);\n",
              "            observer.disconnect();\n",
              "        }}\n",
              "}});\n",
              "\n",
              "// Listen for the removal of the full notebook cells\n",
              "var notebookContainer = gd.closest('#notebook-container');\n",
              "if (notebookContainer) {{\n",
              "    x.observe(notebookContainer, {childList: true});\n",
              "}}\n",
              "\n",
              "// Listen for the clearing of the current output cell\n",
              "var outputEl = gd.closest('.output');\n",
              "if (outputEl) {{\n",
              "    x.observe(outputEl, {childList: true});\n",
              "}}\n",
              "\n",
              "                        })\n",
              "                };\n",
              "                \n",
              "            </script>\n",
              "        </div>\n",
              "</body>\n",
              "</html>"
            ]
          },
          "metadata": {}
        },
        {
          "output_type": "display_data",
          "data": {
            "text/html": [
              "<html>\n",
              "<head><meta charset=\"utf-8\" /></head>\n",
              "<body>\n",
              "    <div>\n",
              "            <script src=\"https://cdnjs.cloudflare.com/ajax/libs/mathjax/2.7.5/MathJax.js?config=TeX-AMS-MML_SVG\"></script><script type=\"text/javascript\">if (window.MathJax) {MathJax.Hub.Config({SVG: {font: \"STIX-Web\"}});}</script>\n",
              "                <script type=\"text/javascript\">window.PlotlyConfig = {MathJaxConfig: 'local'};</script>\n",
              "        <script src=\"https://cdn.plot.ly/plotly-latest.min.js\"></script>    \n",
              "            <div id=\"6cc69bfb-c545-41b8-ac04-828f129f3428\" class=\"plotly-graph-div\" style=\"height:500px; width:1000px;\"></div>\n",
              "            <script type=\"text/javascript\">\n",
              "                \n",
              "                    window.PLOTLYENV=window.PLOTLYENV || {};\n",
              "                    \n",
              "                if (document.getElementById(\"6cc69bfb-c545-41b8-ac04-828f129f3428\")) {\n",
              "                    Plotly.newPlot(\n",
              "                        '6cc69bfb-c545-41b8-ac04-828f129f3428',\n",
              "                        [{\"mode\": \"markers+lines\", \"name\": \"loss\", \"type\": \"scatter\", \"x\": [0, 1, 2, 3, 4, 5, 6, 7, 8, 9, 10, 11, 12, 13, 14, 15, 16, 17, 18, 19, 20, 21, 22, 23, 24, 25, 26, 27, 28, 29], \"y\": [0.6393949389457703, 0.47944456338882446, 0.3678663671016693, 0.32420146465301514, 0.2921938896179199, 0.2627805769443512, 0.24861542880535126, 0.2409183531999588, 0.22616225481033325, 0.20692318677902222, 0.18323834240436554, 0.18075037002563477, 0.17120277881622314, 0.14250332117080688, 0.1263841986656189, 0.11473307013511658, 0.11250843852758408, 0.11747398227453232, 0.08792565762996674, 0.0930812805891037, 0.07981797307729721, 0.07834197580814362, 0.062450483441352844, 0.04622624069452286, 0.04622582718729973, 0.04875984042882919, 0.04324989765882492, 0.034043196588754654, 0.026122253388166428, 0.029804952442646027]}, {\"mode\": \"markers+lines\", \"name\": \"val_loss\", \"type\": \"scatter\", \"x\": [0, 1, 2, 3, 4, 5, 6, 7, 8, 9, 10, 11, 12, 13, 14, 15, 16, 17, 18, 19, 20, 21, 22, 23, 24, 25, 26, 27, 28, 29], \"y\": [0.5639041066169739, 0.421022891998291, 0.36109521985054016, 0.34329310059547424, 0.31200629472732544, 0.3221372663974762, 0.35559186339378357, 0.36830803751945496, 0.37678030133247375, 0.31595274806022644, 0.3552215099334717, 0.2825576961040497, 0.31463128328323364, 0.3381294906139374, 0.30120763182640076, 0.3562106192111969, 0.3425932824611664, 0.27902907133102417, 0.40436887741088867, 0.3260999917984009, 0.36260995268821716, 0.39846938848495483, 0.3361828625202179, 0.3766452670097351, 0.3949905335903168, 0.35903772711753845, 0.38227251172065735, 0.36056163907051086, 0.3653530180454254, 0.402005672454834]}],\n",
              "                        {\"height\": 500, \"template\": {\"data\": {\"bar\": [{\"error_x\": {\"color\": \"#2a3f5f\"}, \"error_y\": {\"color\": \"#2a3f5f\"}, \"marker\": {\"line\": {\"color\": \"#E5ECF6\", \"width\": 0.5}}, \"type\": \"bar\"}], \"barpolar\": [{\"marker\": {\"line\": {\"color\": \"#E5ECF6\", \"width\": 0.5}}, \"type\": \"barpolar\"}], \"carpet\": [{\"aaxis\": {\"endlinecolor\": \"#2a3f5f\", \"gridcolor\": \"white\", \"linecolor\": \"white\", \"minorgridcolor\": \"white\", \"startlinecolor\": \"#2a3f5f\"}, \"baxis\": {\"endlinecolor\": \"#2a3f5f\", \"gridcolor\": \"white\", \"linecolor\": \"white\", \"minorgridcolor\": \"white\", \"startlinecolor\": \"#2a3f5f\"}, \"type\": \"carpet\"}], \"choropleth\": [{\"colorbar\": {\"outlinewidth\": 0, \"ticks\": \"\"}, \"type\": \"choropleth\"}], \"contour\": [{\"colorbar\": {\"outlinewidth\": 0, \"ticks\": \"\"}, \"colorscale\": [[0.0, \"#0d0887\"], [0.1111111111111111, \"#46039f\"], [0.2222222222222222, \"#7201a8\"], [0.3333333333333333, \"#9c179e\"], [0.4444444444444444, \"#bd3786\"], [0.5555555555555556, \"#d8576b\"], [0.6666666666666666, \"#ed7953\"], [0.7777777777777778, \"#fb9f3a\"], [0.8888888888888888, \"#fdca26\"], [1.0, \"#f0f921\"]], \"type\": \"contour\"}], \"contourcarpet\": [{\"colorbar\": {\"outlinewidth\": 0, \"ticks\": \"\"}, \"type\": \"contourcarpet\"}], \"heatmap\": [{\"colorbar\": {\"outlinewidth\": 0, \"ticks\": \"\"}, \"colorscale\": [[0.0, \"#0d0887\"], [0.1111111111111111, \"#46039f\"], [0.2222222222222222, \"#7201a8\"], [0.3333333333333333, \"#9c179e\"], [0.4444444444444444, \"#bd3786\"], [0.5555555555555556, \"#d8576b\"], [0.6666666666666666, \"#ed7953\"], [0.7777777777777778, \"#fb9f3a\"], [0.8888888888888888, \"#fdca26\"], [1.0, \"#f0f921\"]], \"type\": \"heatmap\"}], \"heatmapgl\": [{\"colorbar\": {\"outlinewidth\": 0, \"ticks\": \"\"}, \"colorscale\": [[0.0, \"#0d0887\"], [0.1111111111111111, \"#46039f\"], [0.2222222222222222, \"#7201a8\"], [0.3333333333333333, \"#9c179e\"], [0.4444444444444444, \"#bd3786\"], [0.5555555555555556, \"#d8576b\"], [0.6666666666666666, \"#ed7953\"], [0.7777777777777778, \"#fb9f3a\"], [0.8888888888888888, \"#fdca26\"], [1.0, \"#f0f921\"]], \"type\": \"heatmapgl\"}], \"histogram\": [{\"marker\": {\"colorbar\": {\"outlinewidth\": 0, \"ticks\": \"\"}}, \"type\": \"histogram\"}], \"histogram2d\": [{\"colorbar\": {\"outlinewidth\": 0, \"ticks\": \"\"}, \"colorscale\": [[0.0, \"#0d0887\"], [0.1111111111111111, \"#46039f\"], [0.2222222222222222, \"#7201a8\"], [0.3333333333333333, \"#9c179e\"], [0.4444444444444444, \"#bd3786\"], [0.5555555555555556, \"#d8576b\"], [0.6666666666666666, \"#ed7953\"], [0.7777777777777778, \"#fb9f3a\"], [0.8888888888888888, \"#fdca26\"], [1.0, \"#f0f921\"]], \"type\": \"histogram2d\"}], \"histogram2dcontour\": [{\"colorbar\": {\"outlinewidth\": 0, \"ticks\": \"\"}, \"colorscale\": [[0.0, \"#0d0887\"], [0.1111111111111111, \"#46039f\"], [0.2222222222222222, \"#7201a8\"], [0.3333333333333333, \"#9c179e\"], [0.4444444444444444, \"#bd3786\"], [0.5555555555555556, \"#d8576b\"], [0.6666666666666666, \"#ed7953\"], [0.7777777777777778, \"#fb9f3a\"], [0.8888888888888888, \"#fdca26\"], [1.0, \"#f0f921\"]], \"type\": \"histogram2dcontour\"}], \"mesh3d\": [{\"colorbar\": {\"outlinewidth\": 0, \"ticks\": \"\"}, \"type\": \"mesh3d\"}], \"parcoords\": [{\"line\": {\"colorbar\": {\"outlinewidth\": 0, \"ticks\": \"\"}}, \"type\": \"parcoords\"}], \"pie\": [{\"automargin\": true, \"type\": \"pie\"}], \"scatter\": [{\"marker\": {\"colorbar\": {\"outlinewidth\": 0, \"ticks\": \"\"}}, \"type\": \"scatter\"}], \"scatter3d\": [{\"line\": {\"colorbar\": {\"outlinewidth\": 0, \"ticks\": \"\"}}, \"marker\": {\"colorbar\": {\"outlinewidth\": 0, \"ticks\": \"\"}}, \"type\": \"scatter3d\"}], \"scattercarpet\": [{\"marker\": {\"colorbar\": {\"outlinewidth\": 0, \"ticks\": \"\"}}, \"type\": \"scattercarpet\"}], \"scattergeo\": [{\"marker\": {\"colorbar\": {\"outlinewidth\": 0, \"ticks\": \"\"}}, \"type\": \"scattergeo\"}], \"scattergl\": [{\"marker\": {\"colorbar\": {\"outlinewidth\": 0, \"ticks\": \"\"}}, \"type\": \"scattergl\"}], \"scattermapbox\": [{\"marker\": {\"colorbar\": {\"outlinewidth\": 0, \"ticks\": \"\"}}, \"type\": \"scattermapbox\"}], \"scatterpolar\": [{\"marker\": {\"colorbar\": {\"outlinewidth\": 0, \"ticks\": \"\"}}, \"type\": \"scatterpolar\"}], \"scatterpolargl\": [{\"marker\": {\"colorbar\": {\"outlinewidth\": 0, \"ticks\": \"\"}}, \"type\": \"scatterpolargl\"}], \"scatterternary\": [{\"marker\": {\"colorbar\": {\"outlinewidth\": 0, \"ticks\": \"\"}}, \"type\": \"scatterternary\"}], \"surface\": [{\"colorbar\": {\"outlinewidth\": 0, \"ticks\": \"\"}, \"colorscale\": [[0.0, \"#0d0887\"], [0.1111111111111111, \"#46039f\"], [0.2222222222222222, \"#7201a8\"], [0.3333333333333333, \"#9c179e\"], [0.4444444444444444, \"#bd3786\"], [0.5555555555555556, \"#d8576b\"], [0.6666666666666666, \"#ed7953\"], [0.7777777777777778, \"#fb9f3a\"], [0.8888888888888888, \"#fdca26\"], [1.0, \"#f0f921\"]], \"type\": \"surface\"}], \"table\": [{\"cells\": {\"fill\": {\"color\": \"#EBF0F8\"}, \"line\": {\"color\": \"white\"}}, \"header\": {\"fill\": {\"color\": \"#C8D4E3\"}, \"line\": {\"color\": \"white\"}}, \"type\": \"table\"}]}, \"layout\": {\"annotationdefaults\": {\"arrowcolor\": \"#2a3f5f\", \"arrowhead\": 0, \"arrowwidth\": 1}, \"coloraxis\": {\"colorbar\": {\"outlinewidth\": 0, \"ticks\": \"\"}}, \"colorscale\": {\"diverging\": [[0, \"#8e0152\"], [0.1, \"#c51b7d\"], [0.2, \"#de77ae\"], [0.3, \"#f1b6da\"], [0.4, \"#fde0ef\"], [0.5, \"#f7f7f7\"], [0.6, \"#e6f5d0\"], [0.7, \"#b8e186\"], [0.8, \"#7fbc41\"], [0.9, \"#4d9221\"], [1, \"#276419\"]], \"sequential\": [[0.0, \"#0d0887\"], [0.1111111111111111, \"#46039f\"], [0.2222222222222222, \"#7201a8\"], [0.3333333333333333, \"#9c179e\"], [0.4444444444444444, \"#bd3786\"], [0.5555555555555556, \"#d8576b\"], [0.6666666666666666, \"#ed7953\"], [0.7777777777777778, \"#fb9f3a\"], [0.8888888888888888, \"#fdca26\"], [1.0, \"#f0f921\"]], \"sequentialminus\": [[0.0, \"#0d0887\"], [0.1111111111111111, \"#46039f\"], [0.2222222222222222, \"#7201a8\"], [0.3333333333333333, \"#9c179e\"], [0.4444444444444444, \"#bd3786\"], [0.5555555555555556, \"#d8576b\"], [0.6666666666666666, \"#ed7953\"], [0.7777777777777778, \"#fb9f3a\"], [0.8888888888888888, \"#fdca26\"], [1.0, \"#f0f921\"]]}, \"colorway\": [\"#636efa\", \"#EF553B\", \"#00cc96\", \"#ab63fa\", \"#FFA15A\", \"#19d3f3\", \"#FF6692\", \"#B6E880\", \"#FF97FF\", \"#FECB52\"], \"font\": {\"color\": \"#2a3f5f\"}, \"geo\": {\"bgcolor\": \"white\", \"lakecolor\": \"white\", \"landcolor\": \"#E5ECF6\", \"showlakes\": true, \"showland\": true, \"subunitcolor\": \"white\"}, \"hoverlabel\": {\"align\": \"left\"}, \"hovermode\": \"closest\", \"mapbox\": {\"style\": \"light\"}, \"paper_bgcolor\": \"white\", \"plot_bgcolor\": \"#E5ECF6\", \"polar\": {\"angularaxis\": {\"gridcolor\": \"white\", \"linecolor\": \"white\", \"ticks\": \"\"}, \"bgcolor\": \"#E5ECF6\", \"radialaxis\": {\"gridcolor\": \"white\", \"linecolor\": \"white\", \"ticks\": \"\"}}, \"scene\": {\"xaxis\": {\"backgroundcolor\": \"#E5ECF6\", \"gridcolor\": \"white\", \"gridwidth\": 2, \"linecolor\": \"white\", \"showbackground\": true, \"ticks\": \"\", \"zerolinecolor\": \"white\"}, \"yaxis\": {\"backgroundcolor\": \"#E5ECF6\", \"gridcolor\": \"white\", \"gridwidth\": 2, \"linecolor\": \"white\", \"showbackground\": true, \"ticks\": \"\", \"zerolinecolor\": \"white\"}, \"zaxis\": {\"backgroundcolor\": \"#E5ECF6\", \"gridcolor\": \"white\", \"gridwidth\": 2, \"linecolor\": \"white\", \"showbackground\": true, \"ticks\": \"\", \"zerolinecolor\": \"white\"}}, \"shapedefaults\": {\"line\": {\"color\": \"#2a3f5f\"}}, \"ternary\": {\"aaxis\": {\"gridcolor\": \"white\", \"linecolor\": \"white\", \"ticks\": \"\"}, \"baxis\": {\"gridcolor\": \"white\", \"linecolor\": \"white\", \"ticks\": \"\"}, \"bgcolor\": \"#E5ECF6\", \"caxis\": {\"gridcolor\": \"white\", \"linecolor\": \"white\", \"ticks\": \"\"}}, \"title\": {\"x\": 0.05}, \"xaxis\": {\"automargin\": true, \"gridcolor\": \"white\", \"linecolor\": \"white\", \"ticks\": \"\", \"title\": {\"standoff\": 15}, \"zerolinecolor\": \"white\", \"zerolinewidth\": 2}, \"yaxis\": {\"automargin\": true, \"gridcolor\": \"white\", \"linecolor\": \"white\", \"ticks\": \"\", \"title\": {\"standoff\": 15}, \"zerolinecolor\": \"white\", \"zerolinewidth\": 2}}}, \"title\": {\"text\": \"Loss vs. Val Loss\"}, \"width\": 1000, \"xaxis\": {\"title\": {\"text\": \"Epoki\"}}, \"yaxis\": {\"title\": {\"text\": \"Loss\"}, \"type\": \"log\"}},\n",
              "                        {\"responsive\": true}\n",
              "                    ).then(function(){\n",
              "                            \n",
              "var gd = document.getElementById('6cc69bfb-c545-41b8-ac04-828f129f3428');\n",
              "var x = new MutationObserver(function (mutations, observer) {{\n",
              "        var display = window.getComputedStyle(gd).display;\n",
              "        if (!display || display === 'none') {{\n",
              "            console.log([gd, 'removed!']);\n",
              "            Plotly.purge(gd);\n",
              "            observer.disconnect();\n",
              "        }}\n",
              "}});\n",
              "\n",
              "// Listen for the removal of the full notebook cells\n",
              "var notebookContainer = gd.closest('#notebook-container');\n",
              "if (notebookContainer) {{\n",
              "    x.observe(notebookContainer, {childList: true});\n",
              "}}\n",
              "\n",
              "// Listen for the clearing of the current output cell\n",
              "var outputEl = gd.closest('.output');\n",
              "if (outputEl) {{\n",
              "    x.observe(outputEl, {childList: true});\n",
              "}}\n",
              "\n",
              "                        })\n",
              "                };\n",
              "                \n",
              "            </script>\n",
              "        </div>\n",
              "</body>\n",
              "</html>"
            ]
          },
          "metadata": {}
        }
      ]
    },
    {
      "cell_type": "code",
      "metadata": {
        "id": "M6GhvjFQFqrO",
        "colab": {
          "base_uri": "https://localhost:8080/"
        },
        "outputId": "347d4df7-00b3-4dd3-cc70-1221bc380bb5"
      },
      "source": [
        "test_datagen = ImageDataGenerator(rescale=1./255.)\n",
        "test_generator = test_datagen.flow_from_directory(test_dir,\n",
        "                                                 target_size=(128, 128),\n",
        "                                                 batch_size=8,\n",
        "                                                 class_mode='binary')\n",
        "\n",
        "test_loss, test_acc = model.evaluate(test_generator, steps=50)\n",
        "print('Dokładność testowania:', test_acc)"
      ],
      "execution_count": null,
      "outputs": [
        {
          "output_type": "stream",
          "name": "stdout",
          "text": [
            "Found 400 images belonging to 2 classes.\n",
            "50/50 [==============================] - 1s 19ms/step - loss: 0.4096 - accuracy: 0.8700\n",
            "Dokładność testowania: 0.8700000047683716\n"
          ]
        }
      ]
    },
    {
      "cell_type": "code",
      "metadata": {
        "id": "ChoxJddlxxeY",
        "colab": {
          "base_uri": "https://localhost:8080/"
        },
        "outputId": "4bf7fe0a-3e8a-4e83-e265-5cd19cc1a9e0"
      },
      "source": [
        "test_datagen = ImageDataGenerator(rescale=1./255.)\n",
        "test_generator = test_datagen.flow_from_directory(\n",
        "    test_dir,\n",
        "    target_size=(128, 128),\n",
        "    batch_size=1,\n",
        "    class_mode='binary',\n",
        "    shuffle=False\n",
        ")\n",
        "\n",
        "y_prob = model.predict(test_generator, test_generator.samples)\n",
        "y_prob = y_prob.ravel()\n",
        "y_prob"
      ],
      "execution_count": null,
      "outputs": [
        {
          "output_type": "stream",
          "name": "stdout",
          "text": [
            "Found 400 images belonging to 2 classes.\n"
          ]
        },
        {
          "output_type": "execute_result",
          "data": {
            "text/plain": [
              "array([3.35767680e-07, 9.45665181e-01, 6.16921243e-05, 9.04757261e-01,\n",
              "       1.60542149e-05, 5.53633757e-02, 6.04798365e-03, 1.82471015e-02,\n",
              "       9.99827743e-01, 5.67348003e-01, 1.19616510e-02, 3.65812011e-05,\n",
              "       1.69098787e-02, 4.16243225e-01, 3.68253320e-01, 1.27156536e-05,\n",
              "       9.32136118e-01, 6.48306857e-04, 4.00569111e-01, 9.65807378e-01,\n",
              "       2.12113155e-04, 1.09298048e-09, 3.09335277e-03, 3.77369730e-07,\n",
              "       4.51470760e-06, 1.02158292e-05, 3.35207382e-08, 2.91373998e-01,\n",
              "       9.60329711e-01, 2.56725382e-02, 1.61927499e-04, 8.00090788e-07,\n",
              "       3.97148579e-02, 7.94213520e-06, 6.09262361e-06, 3.06144372e-08,\n",
              "       1.34319305e-01, 1.68060162e-03, 9.49515146e-04, 9.40845430e-01,\n",
              "       9.76058066e-01, 1.56382812e-04, 3.82600632e-03, 4.33011912e-02,\n",
              "       1.60276045e-06, 3.53195787e-06, 1.01153068e-01, 8.82568777e-01,\n",
              "       5.90054900e-04, 1.67833801e-04, 1.07705302e-03, 9.36131030e-08,\n",
              "       9.65713680e-01, 1.78051479e-02, 1.10751971e-05, 7.87761211e-02,\n",
              "       8.86217654e-02, 2.69440174e-01, 2.15898594e-03, 4.10518616e-01,\n",
              "       5.36615729e-01, 2.67156406e-06, 2.96527014e-06, 6.44894200e-08,\n",
              "       2.29265169e-07, 6.39478207e-01, 4.28979583e-02, 1.22783460e-01,\n",
              "       2.30338406e-02, 1.93740830e-01, 2.90832063e-03, 5.87751791e-02,\n",
              "       4.89886012e-03, 2.01323521e-04, 5.70560922e-04, 3.72415641e-03,\n",
              "       2.50342564e-04, 2.83806678e-03, 2.09644526e-01, 1.97039444e-05,\n",
              "       4.83124586e-06, 1.54387996e-01, 2.83555506e-04, 3.48954946e-02,\n",
              "       7.84772783e-06, 2.67972201e-01, 7.51116769e-09, 4.27337855e-01,\n",
              "       9.99654889e-01, 3.87590798e-03, 3.89013886e-01, 1.95768401e-01,\n",
              "       1.02787935e-05, 1.45654221e-05, 3.65022197e-02, 2.48446632e-02,\n",
              "       4.21499180e-06, 7.65588037e-09, 3.29639134e-03, 7.86758828e-05,\n",
              "       6.69073462e-02, 2.04569446e-07, 6.77514072e-06, 5.01340779e-04,\n",
              "       1.46316392e-09, 2.14692324e-01, 6.07848447e-03, 3.39423597e-04,\n",
              "       8.47064052e-03, 5.23190829e-05, 8.13780425e-05, 2.84332946e-05,\n",
              "       4.63219285e-02, 8.39814544e-03, 9.32138207e-08, 9.95462358e-01,\n",
              "       5.13697922e-01, 3.70418888e-07, 5.60363240e-08, 9.90684628e-01,\n",
              "       4.57548973e-04, 1.09982712e-09, 7.22758530e-04, 7.84343760e-03,\n",
              "       1.85954332e-01, 7.82894058e-05, 7.55964402e-06, 9.44042325e-01,\n",
              "       4.84258682e-03, 2.46293435e-04, 6.52829346e-09, 8.99464067e-06,\n",
              "       8.33204985e-01, 1.34969217e-04, 9.35957611e-01, 2.41861609e-03,\n",
              "       5.81591394e-06, 9.28778946e-01, 5.63021740e-10, 8.38179676e-06,\n",
              "       2.75375023e-05, 2.22420772e-06, 1.78215753e-09, 1.09752164e-05,\n",
              "       1.22919275e-08, 6.00114727e-05, 2.91486667e-05, 1.45409748e-12,\n",
              "       5.35162151e-01, 8.59618376e-06, 1.04874382e-02, 9.33076371e-05,\n",
              "       6.86720535e-02, 1.23944415e-06, 3.15500353e-03, 1.73579499e-01,\n",
              "       2.98870145e-05, 1.52997512e-04, 9.84333932e-01, 8.62518046e-03,\n",
              "       3.88261437e-01, 4.88707155e-06, 2.44428491e-04, 6.31192047e-03,\n",
              "       2.99167586e-05, 4.51314263e-04, 5.71331382e-03, 5.49296456e-05,\n",
              "       1.64236114e-09, 2.03778967e-03, 9.92448807e-01, 7.69745326e-03,\n",
              "       1.06086936e-02, 2.61492623e-05, 9.00998712e-03, 1.06551333e-05,\n",
              "       5.17220578e-05, 1.36766429e-08, 5.58548830e-02, 2.62458320e-03,\n",
              "       2.30890834e-07, 7.06800818e-01, 1.98975453e-04, 4.61167772e-04,\n",
              "       2.15025898e-06, 1.21974978e-07, 9.64646995e-01, 9.27449465e-01,\n",
              "       1.15103342e-01, 7.87725806e-01, 4.68741477e-01, 3.13273519e-01,\n",
              "       6.81678939e-05, 2.10566850e-05, 9.74297194e-08, 9.30768085e-09,\n",
              "       1.78876522e-08, 6.58608615e-01, 9.29259204e-06, 9.99030709e-01,\n",
              "       9.79232967e-01, 9.99985337e-01, 9.99973059e-01, 9.98329580e-01,\n",
              "       9.98685300e-01, 9.99915838e-01, 9.99574602e-01, 9.46815550e-01,\n",
              "       9.99631524e-01, 9.97991204e-01, 9.93650615e-01, 9.98109937e-01,\n",
              "       3.93383533e-01, 9.99875903e-01, 9.99967217e-01, 9.34392214e-01,\n",
              "       9.96015847e-01, 9.99445140e-01, 9.99849319e-01, 9.99895692e-01,\n",
              "       9.58100617e-01, 9.98710394e-01, 9.92610753e-01, 9.96435046e-01,\n",
              "       9.99899507e-01, 9.98606026e-01, 9.95563269e-01, 9.99519110e-01,\n",
              "       9.83556986e-01, 9.61757660e-01, 1.08628534e-01, 9.97194290e-01,\n",
              "       9.99799073e-01, 9.95366812e-01, 9.97751772e-01, 9.92562950e-01,\n",
              "       9.99999881e-01, 9.88117874e-01, 9.81523097e-01, 9.89002347e-01,\n",
              "       9.98666644e-01, 5.22679508e-01, 7.64004886e-01, 9.90860939e-01,\n",
              "       9.99967456e-01, 9.33345437e-01, 9.99439418e-01, 1.04925809e-02,\n",
              "       5.20602643e-01, 9.93396282e-01, 9.72591579e-01, 9.99327898e-01,\n",
              "       9.45633411e-01, 4.71538842e-01, 9.94768739e-01, 9.95999098e-01,\n",
              "       6.40838027e-01, 9.99926448e-01, 8.20434034e-01, 9.99875426e-01,\n",
              "       9.88683522e-01, 9.98477757e-01, 9.87876654e-01, 9.99926925e-01,\n",
              "       9.99780476e-01, 9.99996543e-01, 9.98875082e-01, 9.38272655e-01,\n",
              "       9.94630337e-01, 9.99870658e-01, 9.99338925e-01, 9.99219775e-01,\n",
              "       7.88449645e-01, 1.33813858e-01, 9.95366096e-01, 9.88751352e-01,\n",
              "       9.72378790e-01, 3.02184582e-01, 9.94902492e-01, 9.98307347e-01,\n",
              "       9.90157902e-01, 9.40179110e-01, 9.98681724e-01, 9.85211134e-01,\n",
              "       9.89800155e-01, 9.67634261e-01, 9.99801457e-01, 9.99887109e-01,\n",
              "       9.89945829e-01, 9.95745003e-01, 9.99796569e-01, 9.70277429e-01,\n",
              "       9.99584138e-01, 9.99218106e-01, 6.70659006e-01, 9.43041861e-01,\n",
              "       9.99794304e-01, 9.99988794e-01, 9.99495268e-01, 9.86806273e-01,\n",
              "       9.99920845e-01, 7.21937537e-01, 9.99903083e-01, 9.96796906e-01,\n",
              "       9.99950290e-01, 9.98157442e-01, 9.99711215e-01, 9.99978662e-01,\n",
              "       9.98017430e-01, 9.99587595e-01, 8.86499345e-01, 9.99996185e-01,\n",
              "       9.92453754e-01, 9.98830497e-01, 9.28218544e-01, 9.99848723e-01,\n",
              "       4.64630187e-01, 3.79462913e-02, 6.36971354e-01, 8.14657331e-01,\n",
              "       7.40876496e-01, 9.99190390e-01, 9.96466517e-01, 9.98935997e-01,\n",
              "       5.95320880e-01, 9.99994516e-01, 3.69890183e-02, 9.99980569e-01,\n",
              "       9.99985099e-01, 9.98519123e-01, 9.99715507e-01, 2.46283263e-01,\n",
              "       8.77585113e-01, 9.87170875e-01, 9.89059031e-01, 4.47621524e-01,\n",
              "       9.81174350e-01, 9.99848008e-01, 9.85553086e-01, 4.09133106e-01,\n",
              "       3.07109505e-01, 9.84323323e-01, 5.66740111e-02, 9.99998808e-01,\n",
              "       9.97419596e-01, 9.99692082e-01, 9.12201047e-01, 9.89512503e-01,\n",
              "       9.99996305e-01, 2.95070201e-01, 9.99998808e-01, 9.99997735e-01,\n",
              "       9.72688794e-01, 9.83567119e-01, 1.47929847e-01, 9.82884645e-01,\n",
              "       6.24907374e-01, 9.19434011e-01, 9.75616336e-01, 7.44755328e-01,\n",
              "       7.07047701e-01, 9.99796212e-01, 8.90842438e-01, 9.55876827e-01,\n",
              "       9.92438734e-01, 5.98532319e-01, 4.13824804e-02, 9.99850988e-01,\n",
              "       9.99511242e-01, 9.96575296e-01, 9.99952316e-01, 9.99387622e-01,\n",
              "       9.99068439e-01, 9.97439027e-01, 3.90946120e-01, 9.99417901e-01,\n",
              "       9.05681372e-05, 9.85377371e-01, 9.99544799e-01, 9.99785364e-01,\n",
              "       9.99574244e-01, 9.89897013e-01, 9.13094044e-01, 1.21434580e-03,\n",
              "       3.28543752e-01, 5.65079153e-01, 9.58628714e-01, 9.79357362e-01,\n",
              "       9.82978761e-01, 9.40224111e-01, 9.99877334e-01, 9.92767572e-01,\n",
              "       8.99063170e-01, 8.35328639e-01, 9.99997020e-01, 9.67170238e-01,\n",
              "       9.99671698e-01, 1.13344252e-01, 9.99996543e-01, 9.96536851e-01],\n",
              "      dtype=float32)"
            ]
          },
          "metadata": {},
          "execution_count": 247
        }
      ]
    },
    {
      "cell_type": "code",
      "metadata": {
        "id": "Tt-Vyvyhx4Vv",
        "colab": {
          "base_uri": "https://localhost:8080/",
          "height": 424
        },
        "outputId": "ee7baa26-97bd-475e-b47d-1cedba9d97fd"
      },
      "source": [
        "predictions  = pd.DataFrame({'y_prob': y_prob})\n",
        "predictions['class'] = predictions['y_prob'].apply(lambda x: 1 if x > 0.5 else 0)\n",
        "predictions"
      ],
      "execution_count": null,
      "outputs": [
        {
          "output_type": "execute_result",
          "data": {
            "text/html": [
              "\n",
              "  <div id=\"df-4efe33d4-4815-4f8c-b56e-a1da9de3d2cd\">\n",
              "    <div class=\"colab-df-container\">\n",
              "      <div>\n",
              "<style scoped>\n",
              "    .dataframe tbody tr th:only-of-type {\n",
              "        vertical-align: middle;\n",
              "    }\n",
              "\n",
              "    .dataframe tbody tr th {\n",
              "        vertical-align: top;\n",
              "    }\n",
              "\n",
              "    .dataframe thead th {\n",
              "        text-align: right;\n",
              "    }\n",
              "</style>\n",
              "<table border=\"1\" class=\"dataframe\">\n",
              "  <thead>\n",
              "    <tr style=\"text-align: right;\">\n",
              "      <th></th>\n",
              "      <th>y_prob</th>\n",
              "      <th>class</th>\n",
              "    </tr>\n",
              "  </thead>\n",
              "  <tbody>\n",
              "    <tr>\n",
              "      <th>0</th>\n",
              "      <td>3.357677e-07</td>\n",
              "      <td>0</td>\n",
              "    </tr>\n",
              "    <tr>\n",
              "      <th>1</th>\n",
              "      <td>9.456652e-01</td>\n",
              "      <td>1</td>\n",
              "    </tr>\n",
              "    <tr>\n",
              "      <th>2</th>\n",
              "      <td>6.169212e-05</td>\n",
              "      <td>0</td>\n",
              "    </tr>\n",
              "    <tr>\n",
              "      <th>3</th>\n",
              "      <td>9.047573e-01</td>\n",
              "      <td>1</td>\n",
              "    </tr>\n",
              "    <tr>\n",
              "      <th>4</th>\n",
              "      <td>1.605421e-05</td>\n",
              "      <td>0</td>\n",
              "    </tr>\n",
              "    <tr>\n",
              "      <th>...</th>\n",
              "      <td>...</td>\n",
              "      <td>...</td>\n",
              "    </tr>\n",
              "    <tr>\n",
              "      <th>395</th>\n",
              "      <td>9.671702e-01</td>\n",
              "      <td>1</td>\n",
              "    </tr>\n",
              "    <tr>\n",
              "      <th>396</th>\n",
              "      <td>9.996717e-01</td>\n",
              "      <td>1</td>\n",
              "    </tr>\n",
              "    <tr>\n",
              "      <th>397</th>\n",
              "      <td>1.133443e-01</td>\n",
              "      <td>0</td>\n",
              "    </tr>\n",
              "    <tr>\n",
              "      <th>398</th>\n",
              "      <td>9.999965e-01</td>\n",
              "      <td>1</td>\n",
              "    </tr>\n",
              "    <tr>\n",
              "      <th>399</th>\n",
              "      <td>9.965369e-01</td>\n",
              "      <td>1</td>\n",
              "    </tr>\n",
              "  </tbody>\n",
              "</table>\n",
              "<p>400 rows × 2 columns</p>\n",
              "</div>\n",
              "      <button class=\"colab-df-convert\" onclick=\"convertToInteractive('df-4efe33d4-4815-4f8c-b56e-a1da9de3d2cd')\"\n",
              "              title=\"Convert this dataframe to an interactive table.\"\n",
              "              style=\"display:none;\">\n",
              "        \n",
              "  <svg xmlns=\"http://www.w3.org/2000/svg\" height=\"24px\"viewBox=\"0 0 24 24\"\n",
              "       width=\"24px\">\n",
              "    <path d=\"M0 0h24v24H0V0z\" fill=\"none\"/>\n",
              "    <path d=\"M18.56 5.44l.94 2.06.94-2.06 2.06-.94-2.06-.94-.94-2.06-.94 2.06-2.06.94zm-11 1L8.5 8.5l.94-2.06 2.06-.94-2.06-.94L8.5 2.5l-.94 2.06-2.06.94zm10 10l.94 2.06.94-2.06 2.06-.94-2.06-.94-.94-2.06-.94 2.06-2.06.94z\"/><path d=\"M17.41 7.96l-1.37-1.37c-.4-.4-.92-.59-1.43-.59-.52 0-1.04.2-1.43.59L10.3 9.45l-7.72 7.72c-.78.78-.78 2.05 0 2.83L4 21.41c.39.39.9.59 1.41.59.51 0 1.02-.2 1.41-.59l7.78-7.78 2.81-2.81c.8-.78.8-2.07 0-2.86zM5.41 20L4 18.59l7.72-7.72 1.47 1.35L5.41 20z\"/>\n",
              "  </svg>\n",
              "      </button>\n",
              "      \n",
              "  <style>\n",
              "    .colab-df-container {\n",
              "      display:flex;\n",
              "      flex-wrap:wrap;\n",
              "      gap: 12px;\n",
              "    }\n",
              "\n",
              "    .colab-df-convert {\n",
              "      background-color: #E8F0FE;\n",
              "      border: none;\n",
              "      border-radius: 50%;\n",
              "      cursor: pointer;\n",
              "      display: none;\n",
              "      fill: #1967D2;\n",
              "      height: 32px;\n",
              "      padding: 0 0 0 0;\n",
              "      width: 32px;\n",
              "    }\n",
              "\n",
              "    .colab-df-convert:hover {\n",
              "      background-color: #E2EBFA;\n",
              "      box-shadow: 0px 1px 2px rgba(60, 64, 67, 0.3), 0px 1px 3px 1px rgba(60, 64, 67, 0.15);\n",
              "      fill: #174EA6;\n",
              "    }\n",
              "\n",
              "    [theme=dark] .colab-df-convert {\n",
              "      background-color: #3B4455;\n",
              "      fill: #D2E3FC;\n",
              "    }\n",
              "\n",
              "    [theme=dark] .colab-df-convert:hover {\n",
              "      background-color: #434B5C;\n",
              "      box-shadow: 0px 1px 3px 1px rgba(0, 0, 0, 0.15);\n",
              "      filter: drop-shadow(0px 1px 2px rgba(0, 0, 0, 0.3));\n",
              "      fill: #FFFFFF;\n",
              "    }\n",
              "  </style>\n",
              "\n",
              "      <script>\n",
              "        const buttonEl =\n",
              "          document.querySelector('#df-4efe33d4-4815-4f8c-b56e-a1da9de3d2cd button.colab-df-convert');\n",
              "        buttonEl.style.display =\n",
              "          google.colab.kernel.accessAllowed ? 'block' : 'none';\n",
              "\n",
              "        async function convertToInteractive(key) {\n",
              "          const element = document.querySelector('#df-4efe33d4-4815-4f8c-b56e-a1da9de3d2cd');\n",
              "          const dataTable =\n",
              "            await google.colab.kernel.invokeFunction('convertToInteractive',\n",
              "                                                     [key], {});\n",
              "          if (!dataTable) return;\n",
              "\n",
              "          const docLinkHtml = 'Like what you see? Visit the ' +\n",
              "            '<a target=\"_blank\" href=https://colab.research.google.com/notebooks/data_table.ipynb>data table notebook</a>'\n",
              "            + ' to learn more about interactive tables.';\n",
              "          element.innerHTML = '';\n",
              "          dataTable['output_type'] = 'display_data';\n",
              "          await google.colab.output.renderOutput(dataTable, element);\n",
              "          const docLink = document.createElement('div');\n",
              "          docLink.innerHTML = docLinkHtml;\n",
              "          element.appendChild(docLink);\n",
              "        }\n",
              "      </script>\n",
              "    </div>\n",
              "  </div>\n",
              "  "
            ],
            "text/plain": [
              "           y_prob  class\n",
              "0    3.357677e-07      0\n",
              "1    9.456652e-01      1\n",
              "2    6.169212e-05      0\n",
              "3    9.047573e-01      1\n",
              "4    1.605421e-05      0\n",
              "..            ...    ...\n",
              "395  9.671702e-01      1\n",
              "396  9.996717e-01      1\n",
              "397  1.133443e-01      0\n",
              "398  9.999965e-01      1\n",
              "399  9.965369e-01      1\n",
              "\n",
              "[400 rows x 2 columns]"
            ]
          },
          "metadata": {},
          "execution_count": 248
        }
      ]
    },
    {
      "cell_type": "code",
      "metadata": {
        "id": "sduk9CoUx4h3",
        "colab": {
          "base_uri": "https://localhost:8080/"
        },
        "outputId": "d7b8e32c-0a8d-45ef-879e-0c43dd9883f0"
      },
      "source": [
        "y_true = test_generator.classes\n",
        "y_true"
      ],
      "execution_count": null,
      "outputs": [
        {
          "output_type": "execute_result",
          "data": {
            "text/plain": [
              "array([0, 0, 0, 0, 0, 0, 0, 0, 0, 0, 0, 0, 0, 0, 0, 0, 0, 0, 0, 0, 0, 0,\n",
              "       0, 0, 0, 0, 0, 0, 0, 0, 0, 0, 0, 0, 0, 0, 0, 0, 0, 0, 0, 0, 0, 0,\n",
              "       0, 0, 0, 0, 0, 0, 0, 0, 0, 0, 0, 0, 0, 0, 0, 0, 0, 0, 0, 0, 0, 0,\n",
              "       0, 0, 0, 0, 0, 0, 0, 0, 0, 0, 0, 0, 0, 0, 0, 0, 0, 0, 0, 0, 0, 0,\n",
              "       0, 0, 0, 0, 0, 0, 0, 0, 0, 0, 0, 0, 0, 0, 0, 0, 0, 0, 0, 0, 0, 0,\n",
              "       0, 0, 0, 0, 0, 0, 0, 0, 0, 0, 0, 0, 0, 0, 0, 0, 0, 0, 0, 0, 0, 0,\n",
              "       0, 0, 0, 0, 0, 0, 0, 0, 0, 0, 0, 0, 0, 0, 0, 0, 0, 0, 0, 0, 0, 0,\n",
              "       0, 0, 0, 0, 0, 0, 0, 0, 0, 0, 0, 0, 0, 0, 0, 0, 0, 0, 0, 0, 0, 0,\n",
              "       0, 0, 0, 0, 0, 0, 0, 0, 0, 0, 0, 0, 0, 0, 0, 0, 0, 0, 0, 0, 0, 0,\n",
              "       0, 0, 1, 1, 1, 1, 1, 1, 1, 1, 1, 1, 1, 1, 1, 1, 1, 1, 1, 1, 1, 1,\n",
              "       1, 1, 1, 1, 1, 1, 1, 1, 1, 1, 1, 1, 1, 1, 1, 1, 1, 1, 1, 1, 1, 1,\n",
              "       1, 1, 1, 1, 1, 1, 1, 1, 1, 1, 1, 1, 1, 1, 1, 1, 1, 1, 1, 1, 1, 1,\n",
              "       1, 1, 1, 1, 1, 1, 1, 1, 1, 1, 1, 1, 1, 1, 1, 1, 1, 1, 1, 1, 1, 1,\n",
              "       1, 1, 1, 1, 1, 1, 1, 1, 1, 1, 1, 1, 1, 1, 1, 1, 1, 1, 1, 1, 1, 1,\n",
              "       1, 1, 1, 1, 1, 1, 1, 1, 1, 1, 1, 1, 1, 1, 1, 1, 1, 1, 1, 1, 1, 1,\n",
              "       1, 1, 1, 1, 1, 1, 1, 1, 1, 1, 1, 1, 1, 1, 1, 1, 1, 1, 1, 1, 1, 1,\n",
              "       1, 1, 1, 1, 1, 1, 1, 1, 1, 1, 1, 1, 1, 1, 1, 1, 1, 1, 1, 1, 1, 1,\n",
              "       1, 1, 1, 1, 1, 1, 1, 1, 1, 1, 1, 1, 1, 1, 1, 1, 1, 1, 1, 1, 1, 1,\n",
              "       1, 1, 1, 1], dtype=int32)"
            ]
          },
          "metadata": {},
          "execution_count": 249
        }
      ]
    },
    {
      "cell_type": "code",
      "metadata": {
        "id": "5OS8WoA5x7Z2",
        "colab": {
          "base_uri": "https://localhost:8080/"
        },
        "outputId": "37dd6a59-31dc-409c-d376-5fbeda238c6b"
      },
      "source": [
        "y_pred = predictions['class'].values\n",
        "y_pred"
      ],
      "execution_count": null,
      "outputs": [
        {
          "output_type": "execute_result",
          "data": {
            "text/plain": [
              "array([0, 1, 0, 1, 0, 0, 0, 0, 1, 1, 0, 0, 0, 0, 0, 0, 1, 0, 0, 1, 0, 0,\n",
              "       0, 0, 0, 0, 0, 0, 1, 0, 0, 0, 0, 0, 0, 0, 0, 0, 0, 1, 1, 0, 0, 0,\n",
              "       0, 0, 0, 1, 0, 0, 0, 0, 1, 0, 0, 0, 0, 0, 0, 0, 1, 0, 0, 0, 0, 1,\n",
              "       0, 0, 0, 0, 0, 0, 0, 0, 0, 0, 0, 0, 0, 0, 0, 0, 0, 0, 0, 0, 0, 0,\n",
              "       1, 0, 0, 0, 0, 0, 0, 0, 0, 0, 0, 0, 0, 0, 0, 0, 0, 0, 0, 0, 0, 0,\n",
              "       0, 0, 0, 0, 0, 1, 1, 0, 0, 1, 0, 0, 0, 0, 0, 0, 0, 1, 0, 0, 0, 0,\n",
              "       1, 0, 1, 0, 0, 1, 0, 0, 0, 0, 0, 0, 0, 0, 0, 0, 1, 0, 0, 0, 0, 0,\n",
              "       0, 0, 0, 0, 1, 0, 0, 0, 0, 0, 0, 0, 0, 0, 0, 0, 1, 0, 0, 0, 0, 0,\n",
              "       0, 0, 0, 0, 0, 1, 0, 0, 0, 0, 1, 1, 0, 1, 0, 0, 0, 0, 0, 0, 0, 1,\n",
              "       0, 1, 1, 1, 1, 1, 1, 1, 1, 1, 1, 1, 1, 1, 0, 1, 1, 1, 1, 1, 1, 1,\n",
              "       1, 1, 1, 1, 1, 1, 1, 1, 1, 1, 0, 1, 1, 1, 1, 1, 1, 1, 1, 1, 1, 1,\n",
              "       1, 1, 1, 1, 1, 0, 1, 1, 1, 1, 1, 0, 1, 1, 1, 1, 1, 1, 1, 1, 1, 1,\n",
              "       1, 1, 1, 1, 1, 1, 1, 1, 1, 0, 1, 1, 1, 0, 1, 1, 1, 1, 1, 1, 1, 1,\n",
              "       1, 1, 1, 1, 1, 1, 1, 1, 1, 1, 1, 1, 1, 1, 1, 1, 1, 1, 1, 1, 1, 1,\n",
              "       1, 1, 1, 1, 1, 1, 1, 1, 0, 0, 1, 1, 1, 1, 1, 1, 1, 1, 0, 1, 1, 1,\n",
              "       1, 0, 1, 1, 1, 0, 1, 1, 1, 0, 0, 1, 0, 1, 1, 1, 1, 1, 1, 0, 1, 1,\n",
              "       1, 1, 0, 1, 1, 1, 1, 1, 1, 1, 1, 1, 1, 1, 0, 1, 1, 1, 1, 1, 1, 1,\n",
              "       0, 1, 0, 1, 1, 1, 1, 1, 1, 0, 0, 1, 1, 1, 1, 1, 1, 1, 1, 1, 1, 1,\n",
              "       1, 0, 1, 1])"
            ]
          },
          "metadata": {},
          "execution_count": 250
        }
      ]
    },
    {
      "cell_type": "code",
      "metadata": {
        "id": "livvksd9x4tO",
        "colab": {
          "base_uri": "https://localhost:8080/"
        },
        "outputId": "e2362a04-74ab-4df3-a260-d4a70be0181a"
      },
      "source": [
        "test_generator.class_indices"
      ],
      "execution_count": null,
      "outputs": [
        {
          "output_type": "execute_result",
          "data": {
            "text/plain": [
              "{'ben_mal': 0, 'nor': 1}"
            ]
          },
          "metadata": {},
          "execution_count": 251
        }
      ]
    },
    {
      "cell_type": "code",
      "metadata": {
        "id": "kw4qiSOXyAbm",
        "colab": {
          "base_uri": "https://localhost:8080/"
        },
        "outputId": "a6481b24-fe8e-42b7-cc50-857bd22af3e6"
      },
      "source": [
        "cm = confusion_matrix(y_true, y_pred)\n",
        "cm"
      ],
      "execution_count": null,
      "outputs": [
        {
          "output_type": "execute_result",
          "data": {
            "text/plain": [
              "array([[170,  30],\n",
              "       [ 22, 178]])"
            ]
          },
          "metadata": {},
          "execution_count": 252
        }
      ]
    },
    {
      "cell_type": "code",
      "metadata": {
        "id": "3R2PyWGvjL5h",
        "colab": {
          "base_uri": "https://localhost:8080/",
          "height": 517
        },
        "outputId": "78b204bb-a172-4bd8-e719-e5bee2eed7ab"
      },
      "source": [
        "def plot_confusion_matrix(cm):\n",
        "    cm = cm[::-1]\n",
        "    cm = pd.DataFrame(cm, columns=classes, index=classes[::-1])\n",
        "\n",
        "    fig = ff.create_annotated_heatmap(z=cm.values, x=list(cm.columns), y=list(cm.index), colorscale='ice', showscale=True, reversescale=True)\n",
        "    fig.update_layout(width=500, height=500, title='Confusion Matrix', font_size=16)\n",
        "    fig.show()\n",
        "\n",
        "plot_confusion_matrix(cm)"
      ],
      "execution_count": null,
      "outputs": [
        {
          "output_type": "display_data",
          "data": {
            "text/html": [
              "<html>\n",
              "<head><meta charset=\"utf-8\" /></head>\n",
              "<body>\n",
              "    <div>\n",
              "            <script src=\"https://cdnjs.cloudflare.com/ajax/libs/mathjax/2.7.5/MathJax.js?config=TeX-AMS-MML_SVG\"></script><script type=\"text/javascript\">if (window.MathJax) {MathJax.Hub.Config({SVG: {font: \"STIX-Web\"}});}</script>\n",
              "                <script type=\"text/javascript\">window.PlotlyConfig = {MathJaxConfig: 'local'};</script>\n",
              "        <script src=\"https://cdn.plot.ly/plotly-latest.min.js\"></script>    \n",
              "            <div id=\"664d1977-f02c-4452-9183-c117e6b064b1\" class=\"plotly-graph-div\" style=\"height:500px; width:500px;\"></div>\n",
              "            <script type=\"text/javascript\">\n",
              "                \n",
              "                    window.PLOTLYENV=window.PLOTLYENV || {};\n",
              "                    \n",
              "                if (document.getElementById(\"664d1977-f02c-4452-9183-c117e6b064b1\")) {\n",
              "                    Plotly.newPlot(\n",
              "                        '664d1977-f02c-4452-9183-c117e6b064b1',\n",
              "                        [{\"colorscale\": [[0.0, \"rgb(3, 5, 18)\"], [0.09090909090909091, \"rgb(25, 25, 51)\"], [0.18181818181818182, \"rgb(44, 42, 87)\"], [0.2727272727272727, \"rgb(58, 60, 125)\"], [0.36363636363636365, \"rgb(62, 83, 160)\"], [0.45454545454545453, \"rgb(62, 109, 178)\"], [0.5454545454545454, \"rgb(72, 134, 187)\"], [0.6363636363636364, \"rgb(89, 159, 196)\"], [0.7272727272727273, \"rgb(114, 184, 205)\"], [0.8181818181818182, \"rgb(149, 207, 216)\"], [0.9090909090909091, \"rgb(192, 229, 232)\"], [1.0, \"rgb(234, 252, 253)\"]], \"reversescale\": true, \"showscale\": true, \"type\": \"heatmap\", \"x\": [\"ben_mal\", \"nor\"], \"y\": [\"nor\", \"ben_mal\"], \"z\": [[22, 178], [170, 30]]}],\n",
              "                        {\"annotations\": [{\"font\": {\"color\": \"#000000\"}, \"showarrow\": false, \"text\": \"22\", \"x\": \"ben_mal\", \"xref\": \"x\", \"y\": \"nor\", \"yref\": \"y\"}, {\"font\": {\"color\": \"#FFFFFF\"}, \"showarrow\": false, \"text\": \"178\", \"x\": \"nor\", \"xref\": \"x\", \"y\": \"nor\", \"yref\": \"y\"}, {\"font\": {\"color\": \"#FFFFFF\"}, \"showarrow\": false, \"text\": \"170\", \"x\": \"ben_mal\", \"xref\": \"x\", \"y\": \"ben_mal\", \"yref\": \"y\"}, {\"font\": {\"color\": \"#000000\"}, \"showarrow\": false, \"text\": \"30\", \"x\": \"nor\", \"xref\": \"x\", \"y\": \"ben_mal\", \"yref\": \"y\"}], \"font\": {\"size\": 16}, \"height\": 500, \"template\": {\"data\": {\"bar\": [{\"error_x\": {\"color\": \"#2a3f5f\"}, \"error_y\": {\"color\": \"#2a3f5f\"}, \"marker\": {\"line\": {\"color\": \"#E5ECF6\", \"width\": 0.5}}, \"type\": \"bar\"}], \"barpolar\": [{\"marker\": {\"line\": {\"color\": \"#E5ECF6\", \"width\": 0.5}}, \"type\": \"barpolar\"}], \"carpet\": [{\"aaxis\": {\"endlinecolor\": \"#2a3f5f\", \"gridcolor\": \"white\", \"linecolor\": \"white\", \"minorgridcolor\": \"white\", \"startlinecolor\": \"#2a3f5f\"}, \"baxis\": {\"endlinecolor\": \"#2a3f5f\", \"gridcolor\": \"white\", \"linecolor\": \"white\", \"minorgridcolor\": \"white\", \"startlinecolor\": \"#2a3f5f\"}, \"type\": \"carpet\"}], \"choropleth\": [{\"colorbar\": {\"outlinewidth\": 0, \"ticks\": \"\"}, \"type\": \"choropleth\"}], \"contour\": [{\"colorbar\": {\"outlinewidth\": 0, \"ticks\": \"\"}, \"colorscale\": [[0.0, \"#0d0887\"], [0.1111111111111111, \"#46039f\"], [0.2222222222222222, \"#7201a8\"], [0.3333333333333333, \"#9c179e\"], [0.4444444444444444, \"#bd3786\"], [0.5555555555555556, \"#d8576b\"], [0.6666666666666666, \"#ed7953\"], [0.7777777777777778, \"#fb9f3a\"], [0.8888888888888888, \"#fdca26\"], [1.0, \"#f0f921\"]], \"type\": \"contour\"}], \"contourcarpet\": [{\"colorbar\": {\"outlinewidth\": 0, \"ticks\": \"\"}, \"type\": \"contourcarpet\"}], \"heatmap\": [{\"colorbar\": {\"outlinewidth\": 0, \"ticks\": \"\"}, \"colorscale\": [[0.0, \"#0d0887\"], [0.1111111111111111, \"#46039f\"], [0.2222222222222222, \"#7201a8\"], [0.3333333333333333, \"#9c179e\"], [0.4444444444444444, \"#bd3786\"], [0.5555555555555556, \"#d8576b\"], [0.6666666666666666, \"#ed7953\"], [0.7777777777777778, \"#fb9f3a\"], [0.8888888888888888, \"#fdca26\"], [1.0, \"#f0f921\"]], \"type\": \"heatmap\"}], \"heatmapgl\": [{\"colorbar\": {\"outlinewidth\": 0, \"ticks\": \"\"}, \"colorscale\": [[0.0, \"#0d0887\"], [0.1111111111111111, \"#46039f\"], [0.2222222222222222, \"#7201a8\"], [0.3333333333333333, \"#9c179e\"], [0.4444444444444444, \"#bd3786\"], [0.5555555555555556, \"#d8576b\"], [0.6666666666666666, \"#ed7953\"], [0.7777777777777778, \"#fb9f3a\"], [0.8888888888888888, \"#fdca26\"], [1.0, \"#f0f921\"]], \"type\": \"heatmapgl\"}], \"histogram\": [{\"marker\": {\"colorbar\": {\"outlinewidth\": 0, \"ticks\": \"\"}}, \"type\": \"histogram\"}], \"histogram2d\": [{\"colorbar\": {\"outlinewidth\": 0, \"ticks\": \"\"}, \"colorscale\": [[0.0, \"#0d0887\"], [0.1111111111111111, \"#46039f\"], [0.2222222222222222, \"#7201a8\"], [0.3333333333333333, \"#9c179e\"], [0.4444444444444444, \"#bd3786\"], [0.5555555555555556, \"#d8576b\"], [0.6666666666666666, \"#ed7953\"], [0.7777777777777778, \"#fb9f3a\"], [0.8888888888888888, \"#fdca26\"], [1.0, \"#f0f921\"]], \"type\": \"histogram2d\"}], \"histogram2dcontour\": [{\"colorbar\": {\"outlinewidth\": 0, \"ticks\": \"\"}, \"colorscale\": [[0.0, \"#0d0887\"], [0.1111111111111111, \"#46039f\"], [0.2222222222222222, \"#7201a8\"], [0.3333333333333333, \"#9c179e\"], [0.4444444444444444, \"#bd3786\"], [0.5555555555555556, \"#d8576b\"], [0.6666666666666666, \"#ed7953\"], [0.7777777777777778, \"#fb9f3a\"], [0.8888888888888888, \"#fdca26\"], [1.0, \"#f0f921\"]], \"type\": \"histogram2dcontour\"}], \"mesh3d\": [{\"colorbar\": {\"outlinewidth\": 0, \"ticks\": \"\"}, \"type\": \"mesh3d\"}], \"parcoords\": [{\"line\": {\"colorbar\": {\"outlinewidth\": 0, \"ticks\": \"\"}}, \"type\": \"parcoords\"}], \"pie\": [{\"automargin\": true, \"type\": \"pie\"}], \"scatter\": [{\"marker\": {\"colorbar\": {\"outlinewidth\": 0, \"ticks\": \"\"}}, \"type\": \"scatter\"}], \"scatter3d\": [{\"line\": {\"colorbar\": {\"outlinewidth\": 0, \"ticks\": \"\"}}, \"marker\": {\"colorbar\": {\"outlinewidth\": 0, \"ticks\": \"\"}}, \"type\": \"scatter3d\"}], \"scattercarpet\": [{\"marker\": {\"colorbar\": {\"outlinewidth\": 0, \"ticks\": \"\"}}, \"type\": \"scattercarpet\"}], \"scattergeo\": [{\"marker\": {\"colorbar\": {\"outlinewidth\": 0, \"ticks\": \"\"}}, \"type\": \"scattergeo\"}], \"scattergl\": [{\"marker\": {\"colorbar\": {\"outlinewidth\": 0, \"ticks\": \"\"}}, \"type\": \"scattergl\"}], \"scattermapbox\": [{\"marker\": {\"colorbar\": {\"outlinewidth\": 0, \"ticks\": \"\"}}, \"type\": \"scattermapbox\"}], \"scatterpolar\": [{\"marker\": {\"colorbar\": {\"outlinewidth\": 0, \"ticks\": \"\"}}, \"type\": \"scatterpolar\"}], \"scatterpolargl\": [{\"marker\": {\"colorbar\": {\"outlinewidth\": 0, \"ticks\": \"\"}}, \"type\": \"scatterpolargl\"}], \"scatterternary\": [{\"marker\": {\"colorbar\": {\"outlinewidth\": 0, \"ticks\": \"\"}}, \"type\": \"scatterternary\"}], \"surface\": [{\"colorbar\": {\"outlinewidth\": 0, \"ticks\": \"\"}, \"colorscale\": [[0.0, \"#0d0887\"], [0.1111111111111111, \"#46039f\"], [0.2222222222222222, \"#7201a8\"], [0.3333333333333333, \"#9c179e\"], [0.4444444444444444, \"#bd3786\"], [0.5555555555555556, \"#d8576b\"], [0.6666666666666666, \"#ed7953\"], [0.7777777777777778, \"#fb9f3a\"], [0.8888888888888888, \"#fdca26\"], [1.0, \"#f0f921\"]], \"type\": \"surface\"}], \"table\": [{\"cells\": {\"fill\": {\"color\": \"#EBF0F8\"}, \"line\": {\"color\": \"white\"}}, \"header\": {\"fill\": {\"color\": \"#C8D4E3\"}, \"line\": {\"color\": \"white\"}}, \"type\": \"table\"}]}, \"layout\": {\"annotationdefaults\": {\"arrowcolor\": \"#2a3f5f\", \"arrowhead\": 0, \"arrowwidth\": 1}, \"coloraxis\": {\"colorbar\": {\"outlinewidth\": 0, \"ticks\": \"\"}}, \"colorscale\": {\"diverging\": [[0, \"#8e0152\"], [0.1, \"#c51b7d\"], [0.2, \"#de77ae\"], [0.3, \"#f1b6da\"], [0.4, \"#fde0ef\"], [0.5, \"#f7f7f7\"], [0.6, \"#e6f5d0\"], [0.7, \"#b8e186\"], [0.8, \"#7fbc41\"], [0.9, \"#4d9221\"], [1, \"#276419\"]], \"sequential\": [[0.0, \"#0d0887\"], [0.1111111111111111, \"#46039f\"], [0.2222222222222222, \"#7201a8\"], [0.3333333333333333, \"#9c179e\"], [0.4444444444444444, \"#bd3786\"], [0.5555555555555556, \"#d8576b\"], [0.6666666666666666, \"#ed7953\"], [0.7777777777777778, \"#fb9f3a\"], [0.8888888888888888, \"#fdca26\"], [1.0, \"#f0f921\"]], \"sequentialminus\": [[0.0, \"#0d0887\"], [0.1111111111111111, \"#46039f\"], [0.2222222222222222, \"#7201a8\"], [0.3333333333333333, \"#9c179e\"], [0.4444444444444444, \"#bd3786\"], [0.5555555555555556, \"#d8576b\"], [0.6666666666666666, \"#ed7953\"], [0.7777777777777778, \"#fb9f3a\"], [0.8888888888888888, \"#fdca26\"], [1.0, \"#f0f921\"]]}, \"colorway\": [\"#636efa\", \"#EF553B\", \"#00cc96\", \"#ab63fa\", \"#FFA15A\", \"#19d3f3\", \"#FF6692\", \"#B6E880\", \"#FF97FF\", \"#FECB52\"], \"font\": {\"color\": \"#2a3f5f\"}, \"geo\": {\"bgcolor\": \"white\", \"lakecolor\": \"white\", \"landcolor\": \"#E5ECF6\", \"showlakes\": true, \"showland\": true, \"subunitcolor\": \"white\"}, \"hoverlabel\": {\"align\": \"left\"}, \"hovermode\": \"closest\", \"mapbox\": {\"style\": \"light\"}, \"paper_bgcolor\": \"white\", \"plot_bgcolor\": \"#E5ECF6\", \"polar\": {\"angularaxis\": {\"gridcolor\": \"white\", \"linecolor\": \"white\", \"ticks\": \"\"}, \"bgcolor\": \"#E5ECF6\", \"radialaxis\": {\"gridcolor\": \"white\", \"linecolor\": \"white\", \"ticks\": \"\"}}, \"scene\": {\"xaxis\": {\"backgroundcolor\": \"#E5ECF6\", \"gridcolor\": \"white\", \"gridwidth\": 2, \"linecolor\": \"white\", \"showbackground\": true, \"ticks\": \"\", \"zerolinecolor\": \"white\"}, \"yaxis\": {\"backgroundcolor\": \"#E5ECF6\", \"gridcolor\": \"white\", \"gridwidth\": 2, \"linecolor\": \"white\", \"showbackground\": true, \"ticks\": \"\", \"zerolinecolor\": \"white\"}, \"zaxis\": {\"backgroundcolor\": \"#E5ECF6\", \"gridcolor\": \"white\", \"gridwidth\": 2, \"linecolor\": \"white\", \"showbackground\": true, \"ticks\": \"\", \"zerolinecolor\": \"white\"}}, \"shapedefaults\": {\"line\": {\"color\": \"#2a3f5f\"}}, \"ternary\": {\"aaxis\": {\"gridcolor\": \"white\", \"linecolor\": \"white\", \"ticks\": \"\"}, \"baxis\": {\"gridcolor\": \"white\", \"linecolor\": \"white\", \"ticks\": \"\"}, \"bgcolor\": \"#E5ECF6\", \"caxis\": {\"gridcolor\": \"white\", \"linecolor\": \"white\", \"ticks\": \"\"}}, \"title\": {\"x\": 0.05}, \"xaxis\": {\"automargin\": true, \"gridcolor\": \"white\", \"linecolor\": \"white\", \"ticks\": \"\", \"title\": {\"standoff\": 15}, \"zerolinecolor\": \"white\", \"zerolinewidth\": 2}, \"yaxis\": {\"automargin\": true, \"gridcolor\": \"white\", \"linecolor\": \"white\", \"ticks\": \"\", \"title\": {\"standoff\": 15}, \"zerolinecolor\": \"white\", \"zerolinewidth\": 2}}}, \"title\": {\"text\": \"Confusion Matrix\"}, \"width\": 500, \"xaxis\": {\"dtick\": 1, \"gridcolor\": \"rgb(0, 0, 0)\", \"side\": \"top\", \"ticks\": \"\"}, \"yaxis\": {\"dtick\": 1, \"ticks\": \"\", \"ticksuffix\": \"  \"}},\n",
              "                        {\"responsive\": true}\n",
              "                    ).then(function(){\n",
              "                            \n",
              "var gd = document.getElementById('664d1977-f02c-4452-9183-c117e6b064b1');\n",
              "var x = new MutationObserver(function (mutations, observer) {{\n",
              "        var display = window.getComputedStyle(gd).display;\n",
              "        if (!display || display === 'none') {{\n",
              "            console.log([gd, 'removed!']);\n",
              "            Plotly.purge(gd);\n",
              "            observer.disconnect();\n",
              "        }}\n",
              "}});\n",
              "\n",
              "// Listen for the removal of the full notebook cells\n",
              "var notebookContainer = gd.closest('#notebook-container');\n",
              "if (notebookContainer) {{\n",
              "    x.observe(notebookContainer, {childList: true});\n",
              "}}\n",
              "\n",
              "// Listen for the clearing of the current output cell\n",
              "var outputEl = gd.closest('.output');\n",
              "if (outputEl) {{\n",
              "    x.observe(outputEl, {childList: true});\n",
              "}}\n",
              "\n",
              "                        })\n",
              "                };\n",
              "                \n",
              "            </script>\n",
              "        </div>\n",
              "</body>\n",
              "</html>"
            ]
          },
          "metadata": {}
        }
      ]
    },
    {
      "cell_type": "code",
      "metadata": {
        "id": "Vg_Tncy-MiJd",
        "colab": {
          "base_uri": "https://localhost:8080/"
        },
        "outputId": "450054d3-e56c-40c8-a7fd-8ad48853e5ea"
      },
      "source": [
        "from sklearn import metrics\n",
        "\n",
        "print('Accuracy:', np.round(metrics.accuracy_score(y_true, y_pred),2))"
      ],
      "execution_count": null,
      "outputs": [
        {
          "output_type": "stream",
          "name": "stdout",
          "text": [
            "Accuracy: 0.87\n"
          ]
        }
      ]
    },
    {
      "cell_type": "code",
      "metadata": {
        "id": "kNuVigajMWuj",
        "colab": {
          "base_uri": "https://localhost:8080/"
        },
        "outputId": "7194fd11-1deb-4e9e-92f9-556749590f74"
      },
      "source": [
        "model.evaluate(test_generator)"
      ],
      "execution_count": null,
      "outputs": [
        {
          "output_type": "stream",
          "name": "stdout",
          "text": [
            "400/400 [==============================] - 3s 7ms/step - loss: 0.4096 - accuracy: 0.8700\n"
          ]
        },
        {
          "output_type": "execute_result",
          "data": {
            "text/plain": [
              "[0.40960177779197693, 0.8700000047683716]"
            ]
          },
          "metadata": {},
          "execution_count": 255
        }
      ]
    },
    {
      "cell_type": "code",
      "metadata": {
        "id": "FptGm3wVMWsb"
      },
      "source": [
        "STEP_SIZE_TEST = test_generator.n//test_generator.batch_size"
      ],
      "execution_count": null,
      "outputs": []
    },
    {
      "cell_type": "code",
      "metadata": {
        "id": "2h5mpSokMWp0",
        "colab": {
          "base_uri": "https://localhost:8080/"
        },
        "outputId": "fef7a814-7d27-4f96-8992-b82bb88bd46c"
      },
      "source": [
        "test_generator.reset()\n",
        "preds = model.predict(test_generator, verbose = 1)"
      ],
      "execution_count": null,
      "outputs": [
        {
          "output_type": "stream",
          "name": "stdout",
          "text": [
            "400/400 [==============================] - 2s 5ms/step\n"
          ]
        }
      ]
    },
    {
      "cell_type": "code",
      "metadata": {
        "id": "7NwY0UIZMfEq"
      },
      "source": [
        "from sklearn.metrics import roc_curve\n",
        "from sklearn.metrics import auc\n",
        "fpr, tpr, _ = roc_curve(test_generator.classes, preds)\n",
        "\n",
        "\n",
        "roc_auc = auc(fpr,tpr)"
      ],
      "execution_count": null,
      "outputs": []
    },
    {
      "cell_type": "code",
      "metadata": {
        "id": "riEIic4-MfCy",
        "colab": {
          "base_uri": "https://localhost:8080/"
        },
        "outputId": "04a7f5dd-ebcf-4ad6-e7cf-f43961a3fbc8"
      },
      "source": [
        "print('AUC:', roc_auc )"
      ],
      "execution_count": null,
      "outputs": [
        {
          "output_type": "stream",
          "name": "stdout",
          "text": [
            "AUC: 0.9423250000000001\n"
          ]
        }
      ]
    },
    {
      "cell_type": "code",
      "source": [
        "import matplotlib.pyplot as plt\n",
        "plt.plot(fpr, tpr)\n",
        "\n",
        "plt.title(\"ROC Curve\")\n",
        "\n",
        "plt.xlabel(\"False Positive Rate\")\n",
        "\n",
        "plt.ylabel(\"True Positive Rate\")\n",
        "\n",
        "plt.show()"
      ],
      "metadata": {
        "colab": {
          "base_uri": "https://localhost:8080/",
          "height": 295
        },
        "id": "prL_ks0xSN8o",
        "outputId": "617d1b57-7268-43bf-bfc6-5eab8775bc88"
      },
      "execution_count": null,
      "outputs": [
        {
          "output_type": "display_data",
          "data": {
            "image/png": "[encoded data removed]",
            "text/plain": [
              "<Figure size 432x288 with 1 Axes>"
            ]
          },
          "metadata": {
            "needs_background": "light"
          }
        }
      ]
    },
    {
      "cell_type": "code",
      "source": [
        ""
      ],
      "metadata": {
        "id": "vkz8KvpQSN6H"
      },
      "execution_count": null,
      "outputs": []
    }
  ]
}