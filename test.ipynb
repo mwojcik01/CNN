{
  "nbformat": 4,
  "nbformat_minor": 0,
  "metadata": {
    "colab": {
      "name": "dobry_Projekt_SI.ipynb",
      "provenance": [],
      "collapsed_sections": [],
      "mount_file_id": "1akbYy6Ym3h_4vIqh5rc0YZdAekF53la6",
      "authorship_tag": "ABX9TyMyWU+45CgehXoXKi5ckCXg",
      "include_colab_link": true
    },
    "kernelspec": {
      "name": "python3",
      "display_name": "Python 3"
    },
    "language_info": {
      "name": "python"
    },
    "accelerator": "GPU"
  },
  "cells": [
    {
      "cell_type": "markdown",
      "metadata": {
        "id": "view-in-github",
        "colab_type": "text"
      },
      "source": [
        "<a href=\"https://colab.research.google.com/github/mwojcik01/CNN/blob/main/test.ipynb\" target=\"_parent\"><img src=\"https://colab.research.google.com/assets/colab-badge.svg\" alt=\"Open In Colab\"/></a>"
      ]
    },
    {
      "cell_type": "code",
      "metadata": {
        "id": "5P2nfVq60Jeg"
      },
      "source": [
        "#kopiowanie\n",
        "import os\n",
        "import numpy as np\n",
        "import shutil\n",
        "\n",
        "#przygotowanie modelu\n",
        "from keras.preprocessing.image import ImageDataGenerator\n",
        "from keras import Sequential\n",
        "from keras import layers\n",
        "from keras import optimizers\n",
        "from tensorflow.keras import optimizers\n",
        "#from keras.layers import Dense, Flatten, Conv2D, MaxPooling2D\n",
        "\n",
        "#wykres\n",
        "import pandas as pd\n",
        "import plotly.graph_objects as go\n",
        "import plotly.figure_factory as ff\n",
        "from sklearn.metrics import confusion_matrix\n"
      ],
      "execution_count": 1,
      "outputs": []
    },
    {
      "cell_type": "code",
      "metadata": {
        "id": "9tcZybUL3qZC"
      },
      "source": [
        "#from google.colab import drive\n",
        "#drive.mount('/content/drive')"
      ],
      "execution_count": 2,
      "outputs": []
    },
    {
      "cell_type": "code",
      "metadata": {
        "id": "InfcEaTn3ql5"
      },
      "source": [
        "!unzip -uq \"/content/drive/My Drive/base_ddsm_cbm_2.zip\" -d \"./\" # wypakowanie plików z Drive"
      ],
      "execution_count": 3,
      "outputs": []
    },
    {
      "cell_type": "code",
      "metadata": {
        "colab": {
          "base_uri": "https://localhost:8080/"
        },
        "id": "vaOtxRCR3qy0",
        "outputId": "064bf220-7c86-4b08-bcf0-e716bf47c31d"
      },
      "source": [
        "base_dir = './base_ddsm_cbm_2' # obliczanie ilości plików w każdym folderze\n",
        "raw_no_of_files = {}\n",
        "classes = ['ben_mal', 'nor']\n",
        "for dir in classes:\n",
        "    raw_no_of_files[dir] = len(os.listdir(os.path.join(base_dir, dir)))\n",
        "\n",
        "raw_no_of_files.items()"
      ],
      "execution_count": 4,
      "outputs": [
        {
          "output_type": "execute_result",
          "data": {
            "text/plain": [
              "dict_items([('ben_mal', 2003), ('nor', 9215)])"
            ]
          },
          "metadata": {},
          "execution_count": 4
        }
      ]
    },
    {
      "cell_type": "code",
      "metadata": {
        "colab": {
          "base_uri": "https://localhost:8080/"
        },
        "id": "o8-TQOOdsQSs",
        "outputId": "cd6e788a-f2dd-4758-c24d-5d4a19d03a41"
      },
      "source": [
        "#kasowanie plików\n",
        "%%bash\n",
        "pwd\n",
        "rm -R images\n",
        "ls"
      ],
      "execution_count": 5,
      "outputs": [
        {
          "output_type": "stream",
          "name": "stdout",
          "text": [
            "/content\n",
            "base_ddsm_cbm_2\n",
            "drive\n",
            "sample_data\n"
          ]
        },
        {
          "output_type": "stream",
          "name": "stderr",
          "text": [
            "rm: cannot remove 'images': No such file or directory\n"
          ]
        }
      ]
    },
    {
      "cell_type": "code",
      "metadata": {
        "id": "aPTwEFzC7u2V"
      },
      "source": [
        "data_dir = './images' # tworzenie katalogów: treningowego, walidacyjnego oraz testowego. \n",
        "                      #w każdym znajdują się 2 foldery: nor, ben_mal\n",
        "\n",
        "if not os.path.exists(data_dir):\n",
        "    os.mkdir(data_dir)\n",
        "\n",
        "train_dir = os.path.join(data_dir, 'train')\n",
        "valid_dir = os.path.join(data_dir, 'valid')\n",
        "test_dir = os.path.join(data_dir, 'test')\n",
        "\n",
        "train_nor_dir = os.path.join(train_dir, 'nor')\n",
        "train_ben_mal_dir = os.path.join(train_dir, 'ben_mal')\n",
        "\n",
        "valid_nor_dir = os.path.join(valid_dir, 'nor')\n",
        "valid_ben_mal_dir = os.path.join(valid_dir, 'ben_mal')\n",
        "\n",
        "test_nor_dir = os.path.join(test_dir, 'nor')\n",
        "test_ben_mal_dir = os.path.join(test_dir, 'ben_mal')\n",
        "\n",
        "for directory in (train_dir, valid_dir, test_dir):\n",
        "    if not os.path.exists(directory):\n",
        "        os.mkdir(directory)\n",
        "\n",
        "dirs = [train_nor_dir, train_ben_mal_dir, valid_nor_dir, valid_ben_mal_dir, test_nor_dir, test_ben_mal_dir]\n",
        "\n",
        "for dir in dirs:\n",
        "    if not os.path.exists(dir):\n",
        "        os.mkdir(dir)"
      ],
      "execution_count": 6,
      "outputs": []
    },
    {
      "cell_type": "code",
      "metadata": {
        "id": "Ge7c11XS8KDa"
      },
      "source": [
        "#kopiowanie\n",
        "nor_fnames = os.listdir(os.path.join(base_dir, 'nor'))\n",
        "ben_mal_fnames = os.listdir(os.path.join(base_dir, 'ben_mal'))\n",
        "\n",
        "\n",
        "nor_fnames = [fname for fname in nor_fnames if fname.split('.')[1].lower() in ['png']]\n",
        "ben_mal_fnames = [fname for fname in ben_mal_fnames if fname.split('.')[1].lower() in ['png']]"
      ],
      "execution_count": 7,
      "outputs": []
    },
    {
      "cell_type": "code",
      "metadata": {
        "id": "__68Vwb68jLn"
      },
      "source": [
        "size = min(len(nor_fnames), len(ben_mal_fnames)) # ustalanie ilości plików w folderze \n",
        "\n",
        "train_size = int(np.floor(0.7 * size))\n",
        "valid_size = int(np.floor(0.2 * size))\n",
        "test_size = size - train_size - valid_size\n",
        "\n",
        "train_idx = train_size\n",
        "valid_idx = train_size + valid_size\n",
        "test_idx = train_size + valid_size + test_size"
      ],
      "execution_count": 8,
      "outputs": []
    },
    {
      "cell_type": "code",
      "metadata": {
        "id": "sL-rEKQk8qkQ"
      },
      "source": [
        "for i, fname in enumerate(nor_fnames): # proces kopiowania plików\n",
        "    if i <= train_idx:\n",
        "        src = os.path.join(base_dir, 'nor', fname)\n",
        "        dst = os.path.join(train_nor_dir, fname)\n",
        "        shutil.copyfile(src, dst)\n",
        "    elif train_idx < i <= valid_idx:\n",
        "        src = os.path.join(base_dir, 'nor', fname)\n",
        "        dst = os.path.join(valid_nor_dir, fname)\n",
        "        shutil.copyfile(src, dst) \n",
        "    elif valid_idx < i < test_idx:\n",
        "        src = os.path.join(base_dir, 'nor', fname)\n",
        "        dst = os.path.join(test_nor_dir, fname)\n",
        "        shutil.copyfile(src, dst) \n",
        "\n",
        "for i, fname in enumerate(ben_mal_fnames):\n",
        "    if i <= train_idx:\n",
        "        src = os.path.join(base_dir, 'ben_mal', fname)\n",
        "        dst = os.path.join(train_ben_mal_dir, fname)\n",
        "        shutil.copyfile(src, dst)\n",
        "    elif train_idx < i <= valid_idx:\n",
        "        src = os.path.join(base_dir, 'ben_mal', fname)\n",
        "        dst = os.path.join(valid_ben_mal_dir, fname)\n",
        "        shutil.copyfile(src, dst) \n",
        "    elif valid_idx < i < test_idx:\n",
        "        src = os.path.join(base_dir, 'ben_mal', fname)\n",
        "        dst = os.path.join(test_ben_mal_dir, fname)\n",
        "        shutil.copyfile(src, dst)"
      ],
      "execution_count": 9,
      "outputs": []
    },
    {
      "cell_type": "code",
      "metadata": {
        "colab": {
          "base_uri": "https://localhost:8080/"
        },
        "id": "ZGJJM7iE9pa5",
        "outputId": "2eec10aa-a76f-4b57-e83f-01fbcd57a60a"
      },
      "source": [
        "# sprawdzanie ilości plików w folderach\n",
        "print('nor - trening', len(os.listdir(train_nor_dir))) \n",
        "print('nor - walidacja', len(os.listdir(valid_nor_dir)))\n",
        "print('nor - test', len(os.listdir(test_nor_dir)))\n",
        "\n",
        "print('ben_mal - trening', len(os.listdir(train_ben_mal_dir)))\n",
        "print('ben_mal - walidacja', len(os.listdir(valid_ben_mal_dir)))\n",
        "print('ben_mal - test', len(os.listdir(test_ben_mal_dir)))"
      ],
      "execution_count": 10,
      "outputs": [
        {
          "output_type": "stream",
          "name": "stdout",
          "text": [
            "nor - trening 1403\n",
            "nor - walidacja 400\n",
            "nor - test 200\n",
            "ben_mal - trening 1403\n",
            "ben_mal - walidacja 400\n",
            "ben_mal - test 200\n"
          ]
        }
      ]
    },
    {
      "cell_type": "code",
      "source": [
        "Image_Width=128\n",
        "Image_Height=128\n",
        "Image_Channels=3\n",
        "train_it_batch_size=50\n",
        "test_it_batch_size=20\n",
        "val_it_batch_size=20\n",
        "train_it_photos_amount=3000\n",
        "test_it_photos_amount=200\n",
        "val_it_photos_amount=1000"
      ],
      "metadata": {
        "id": "-J4SstFJ5Wr4"
      },
      "execution_count": 11,
      "outputs": []
    },
    {
      "cell_type": "code",
      "source": [
        "import sys\n",
        "import matplotlib.pyplot as plt\n",
        "from keras.preprocessing.image import ImageDataGenerator\n",
        "from keras.models import Sequential\n",
        "from keras.layers import Conv2D,MaxPooling2D,\\\n",
        "\tFlatten,Dense\n",
        "from sklearn.metrics import roc_curve, auc"
      ],
      "metadata": {
        "id": "BzCF2VNP5Wp1"
      },
      "execution_count": 12,
      "outputs": []
    },
    {
      "cell_type": "code",
      "source": [
        "def create_graphs(history):\n",
        "\n",
        "\tplt.subplot(211)\n",
        "\tplt.title('Funkcja straty')\n",
        "\tplt.plot(history.history['loss'], color='blue', label='treningowe')\n",
        "\tplt.plot(history.history['val_loss'], color='red', label='testujące')\n",
        "\tplt.legend()\n",
        "\tplt.xlabel(\"epoki\")\n",
        "\tplt.ylabel(\"wartość straty\")\n",
        "\n",
        "\tplt.subplot(212)\n",
        "\tplt.title('Dokładność klasyfikacji')\n",
        "\tplt.plot(history.history['accuracy'], color='blue', label='treningowe')\n",
        "\tplt.plot(history.history['val_accuracy'], color='red', label='testujące')\n",
        "\tplt.legend()\n",
        "\tplt.xlabel(\"epoki\")\n",
        "\tplt.ylabel(\"wartość skuteczności\")\n",
        "\n",
        "\tplt.tight_layout(pad=4.0)\n",
        "\n",
        "\tfilename = sys.argv[0].split('/')[-1]\n",
        "\tplt.savefig(filename + '_plot.png')\n",
        "\tplt.close()\n"
      ],
      "metadata": {
        "id": "uquPIN9J5Wne"
      },
      "execution_count": 13,
      "outputs": []
    },
    {
      "cell_type": "code",
      "source": [
        "model=Sequential()\n",
        "\n",
        "model.add(Conv2D(32, kernel_size=(3, 3), input_shape = (Image_Width, Image_Height, Image_Channels), activation = 'relu'))\n",
        "model.add(MaxPooling2D(pool_size = (2, 2)))\n",
        "\n",
        "model.add(Conv2D(64, kernel_size=(3, 3), activation='relu'))\n",
        "model.add(MaxPooling2D(pool_size=(2, 2)))\n",
        "\n",
        "model.add(Conv2D(128, kernel_size=(3, 3), activation='relu'))\n",
        "model.add(MaxPooling2D(pool_size=(2, 2)))\n",
        "\n",
        "model.add(Flatten())\n",
        "model.add(Dense(units = 128, activation = 'relu'))\n",
        "model.add(Dense(units = 1, activation = 'sigmoid'))\n",
        "\n",
        "model.compile(loss='binary_crossentropy',\n",
        "  optimizer='adam', metrics=['accuracy'])\n",
        "\n",
        "model.summary()"
      ],
      "metadata": {
        "id": "T9ZOtKkb5o6J",
        "outputId": "1792e230-6bf4-45d4-eb87-06d009e62f4a",
        "colab": {
          "base_uri": "https://localhost:8080/"
        }
      },
      "execution_count": 14,
      "outputs": [
        {
          "output_type": "stream",
          "name": "stdout",
          "text": [
            "Model: \"sequential\"\n",
            "_________________________________________________________________\n",
            " Layer (type)                Output Shape              Param #   \n",
            "=================================================================\n",
            " conv2d (Conv2D)             (None, 126, 126, 32)      896       \n",
            "                                                                 \n",
            " max_pooling2d (MaxPooling2D  (None, 63, 63, 32)       0         \n",
            " )                                                               \n",
            "                                                                 \n",
            " conv2d_1 (Conv2D)           (None, 61, 61, 64)        18496     \n",
            "                                                                 \n",
            " max_pooling2d_1 (MaxPooling  (None, 30, 30, 64)       0         \n",
            " 2D)                                                             \n",
            "                                                                 \n",
            " conv2d_2 (Conv2D)           (None, 28, 28, 128)       73856     \n",
            "                                                                 \n",
            " max_pooling2d_2 (MaxPooling  (None, 14, 14, 128)      0         \n",
            " 2D)                                                             \n",
            "                                                                 \n",
            " flatten (Flatten)           (None, 25088)             0         \n",
            "                                                                 \n",
            " dense (Dense)               (None, 128)               3211392   \n",
            "                                                                 \n",
            " dense_1 (Dense)             (None, 1)                 129       \n",
            "                                                                 \n",
            "=================================================================\n",
            "Total params: 3,304,769\n",
            "Trainable params: 3,304,769\n",
            "Non-trainable params: 0\n",
            "_________________________________________________________________\n"
          ]
        }
      ]
    },
    {
      "cell_type": "code",
      "source": [
        "train_datagen = ImageDataGenerator(rescale=1.0 / 255.0,\n",
        "\t\twidth_shift_range=0.1, height_shift_range=0.1, horizontal_flip=True)\n",
        "val_datagen = ImageDataGenerator(rescale=1.0 / 255.0)"
      ],
      "metadata": {
        "id": "DoqvnbRo5o4O"
      },
      "execution_count": 15,
      "outputs": []
    },
    {
      "cell_type": "code",
      "source": [
        "train_it = train_datagen.flow_from_directory(train_dir,\n",
        "\tclass_mode='binary', batch_size=train_it_batch_size, target_size=(Image_Width, Image_Height))\n",
        "val_it = val_datagen.flow_from_directory(valid_dir,\n",
        "\tclass_mode='binary', batch_size=val_it_batch_size, target_size=(Image_Width, Image_Height))"
      ],
      "metadata": {
        "id": "31ImrfOm5o2N",
        "outputId": "6ef5a873-5ad3-439e-b9a8-dd944c1d0f06",
        "colab": {
          "base_uri": "https://localhost:8080/"
        }
      },
      "execution_count": 17,
      "outputs": [
        {
          "output_type": "stream",
          "name": "stdout",
          "text": [
            "Found 2806 images belonging to 2 classes.\n",
            "Found 800 images belonging to 2 classes.\n"
          ]
        }
      ]
    },
    {
      "cell_type": "code",
      "source": [
        "history = model.fit(train_it,\n",
        "\t\t\tsteps_per_epoch=40,\n",
        "\t\t\tvalidation_data=val_it,\n",
        "\t\t\tvalidation_steps=40,\n",
        "\t\t\tepochs=15)"
      ],
      "metadata": {
        "id": "4KI5GB-65oz-",
        "outputId": "55b64a31-b55d-4668-c24b-7e7152faaf00",
        "colab": {
          "base_uri": "https://localhost:8080/"
        }
      },
      "execution_count": 28,
      "outputs": [
        {
          "output_type": "stream",
          "name": "stdout",
          "text": [
            "Epoch 1/15\n",
            "40/40 [==============================] - 8s 207ms/step - loss: 0.5838 - accuracy: 0.6953 - val_loss: 0.5657 - val_accuracy: 0.7075\n",
            "Epoch 2/15\n",
            "40/40 [==============================] - 8s 206ms/step - loss: 0.5588 - accuracy: 0.7219 - val_loss: 0.5534 - val_accuracy: 0.7225\n",
            "Epoch 3/15\n",
            "40/40 [==============================] - 8s 212ms/step - loss: 0.5692 - accuracy: 0.7085 - val_loss: 0.5455 - val_accuracy: 0.7237\n",
            "Epoch 4/15\n",
            "40/40 [==============================] - 8s 207ms/step - loss: 0.5714 - accuracy: 0.6960 - val_loss: 0.5408 - val_accuracy: 0.7287\n",
            "Epoch 5/15\n",
            "40/40 [==============================] - 8s 205ms/step - loss: 0.5562 - accuracy: 0.7275 - val_loss: 0.5398 - val_accuracy: 0.7175\n",
            "Epoch 6/15\n",
            "40/40 [==============================] - 8s 210ms/step - loss: 0.5690 - accuracy: 0.7055 - val_loss: 0.5503 - val_accuracy: 0.7188\n",
            "Epoch 7/15\n",
            "40/40 [==============================] - 8s 209ms/step - loss: 0.5625 - accuracy: 0.7125 - val_loss: 0.5341 - val_accuracy: 0.7387\n",
            "Epoch 8/15\n",
            "40/40 [==============================] - 8s 204ms/step - loss: 0.5611 - accuracy: 0.7132 - val_loss: 0.5585 - val_accuracy: 0.7025\n",
            "Epoch 9/15\n",
            "40/40 [==============================] - 8s 203ms/step - loss: 0.5614 - accuracy: 0.7106 - val_loss: 0.5352 - val_accuracy: 0.7325\n",
            "Epoch 10/15\n",
            "40/40 [==============================] - 8s 206ms/step - loss: 0.5534 - accuracy: 0.7163 - val_loss: 0.5186 - val_accuracy: 0.7312\n",
            "Epoch 11/15\n",
            "40/40 [==============================] - 8s 209ms/step - loss: 0.5507 - accuracy: 0.7205 - val_loss: 0.5238 - val_accuracy: 0.7337\n",
            "Epoch 12/15\n",
            "40/40 [==============================] - 8s 208ms/step - loss: 0.5513 - accuracy: 0.7125 - val_loss: 0.5225 - val_accuracy: 0.7262\n",
            "Epoch 13/15\n",
            "40/40 [==============================] - 8s 207ms/step - loss: 0.5388 - accuracy: 0.7321 - val_loss: 0.5442 - val_accuracy: 0.7237\n",
            "Epoch 14/15\n",
            "40/40 [==============================] - 8s 206ms/step - loss: 0.5446 - accuracy: 0.7219 - val_loss: 0.5121 - val_accuracy: 0.7525\n",
            "Epoch 15/15\n",
            "40/40 [==============================] - 8s 207ms/step - loss: 0.5580 - accuracy: 0.7040 - val_loss: 0.5335 - val_accuracy: 0.7425\n"
          ]
        }
      ]
    },
    {
      "cell_type": "code",
      "source": [
        "test_datagen = ImageDataGenerator(rescale=1.0 / 255.0)\n",
        "test_it = test_datagen.flow_from_directory(test_dir,\n",
        "\tclass_mode='binary', batch_size=1, target_size=(Image_Width, Image_Height))"
      ],
      "metadata": {
        "id": "LNXIkpOS5Wk5",
        "outputId": "96b9cbfb-bd75-4141-c33d-a8ade695f0f7",
        "colab": {
          "base_uri": "https://localhost:8080/"
        }
      },
      "execution_count": 29,
      "outputs": [
        {
          "output_type": "stream",
          "name": "stdout",
          "text": [
            "Found 400 images belonging to 2 classes.\n"
          ]
        }
      ]
    },
    {
      "cell_type": "code",
      "source": [
        "_, acc = model.evaluate(test_it)\n",
        "print('Accuracy of evaluating model equal of: %.2f' % (acc * 100.0))\n",
        "#\n",
        "preds = model.predict(test_it, verbose=1)"
      ],
      "metadata": {
        "id": "wvcFhB1C6ZB7",
        "outputId": "74e08fbb-832b-468c-9d72-fda56410f680",
        "colab": {
          "base_uri": "https://localhost:8080/"
        }
      },
      "execution_count": 30,
      "outputs": [
        {
          "output_type": "stream",
          "name": "stdout",
          "text": [
            "400/400 [==============================] - 1s 3ms/step - loss: 0.5354 - accuracy: 0.7375\n",
            "Accuracy of evaluating model equal of: 73.75\n",
            "400/400 [==============================] - 1s 2ms/step\n"
          ]
        }
      ]
    },
    {
      "cell_type": "code",
      "source": [
        "# create_graphs(history)\n",
        "#\n",
        "fpr, tpr, _ = roc_curve(test_it.classes, preds)"
      ],
      "metadata": {
        "id": "Plwv5aMK6Y_j"
      },
      "execution_count": 31,
      "outputs": []
    },
    {
      "cell_type": "code",
      "source": [
        "roc_auc = auc(fpr,tpr)\n",
        "print('AUC:', roc_auc )"
      ],
      "metadata": {
        "id": "DeX5awMD6Y9F",
        "outputId": "6c4db796-2a50-4937-a966-ba67fa2428e5",
        "colab": {
          "base_uri": "https://localhost:8080/"
        }
      },
      "execution_count": 32,
      "outputs": [
        {
          "output_type": "stream",
          "name": "stdout",
          "text": [
            "AUC: 0.4727\n"
          ]
        }
      ]
    },
    {
      "cell_type": "code",
      "source": [
        "plt.plot(fpr, tpr)\n",
        "\n",
        "plt.title(\"ROC Curve\")\n",
        "\n",
        "plt.xlabel(\"False Positive Rate\")\n",
        "\n",
        "plt.ylabel(\"True Positive Rate\")\n",
        "\n",
        "plt.show()\n"
      ],
      "metadata": {
        "id": "T-P-6r2V6Y6u",
        "outputId": "b26f1d7f-7187-442e-fb64-a5cde2f95d32",
        "colab": {
          "base_uri": "https://localhost:8080/",
          "height": 295
        }
      },
      "execution_count": 27,
      "outputs": [
        {
          "output_type": "display_data",
          "data": {
            "image/png": "[encoded data removed]",
            "text/plain": [
              "<Figure size 432x288 with 1 Axes>"
            ]
          },
          "metadata": {
            "needs_background": "light"
          }
        }
      ]
    },
    {
      "cell_type": "code",
      "source": [
        "test_datagen = ImageDataGenerator(rescale=1./255.)\n",
        "test_generator = test_datagen.flow_from_directory(\n",
        "    test_dir,\n",
        "    target_size=(128, 128),\n",
        "    batch_size=1,\n",
        "    class_mode='binary',\n",
        "    shuffle=False\n",
        ")\n",
        "\n",
        "y_prob = model.predict(test_generator, test_generator.samples)\n",
        "y_prob = y_prob.ravel()\n",
        "y_prob"
      ],
      "metadata": {
        "id": "pkKR-O4E5Wi7",
        "outputId": "f11f80fa-395a-4f04-f6f0-8b61a0ec0160",
        "colab": {
          "base_uri": "https://localhost:8080/"
        }
      },
      "execution_count": 33,
      "outputs": [
        {
          "output_type": "stream",
          "name": "stdout",
          "text": [
            "Found 400 images belonging to 2 classes.\n"
          ]
        },
        {
          "output_type": "execute_result",
          "data": {
            "text/plain": [
              "array([0.38878807, 0.61393905, 0.47326997, 0.6033032 , 0.63055265,\n",
              "       0.3805096 , 0.61542225, 0.38788208, 0.19061401, 0.2527479 ,\n",
              "       0.37334254, 0.04026881, 0.6024777 , 0.3973044 , 0.7155678 ,\n",
              "       0.22239019, 0.55263275, 0.5365569 , 0.5782575 , 0.61683863,\n",
              "       0.28435722, 0.01844803, 0.67221004, 0.06419393, 0.06882203,\n",
              "       0.48854104, 0.03833142, 0.45301768, 0.6896933 , 0.29174897,\n",
              "       0.42435113, 0.12805521, 0.516277  , 0.18997377, 0.30177966,\n",
              "       0.04114218, 0.5419538 , 0.6204424 , 0.23988199, 0.7121809 ,\n",
              "       0.5000024 , 0.3839151 , 0.14620282, 0.5608799 , 0.28680176,\n",
              "       0.06739844, 0.6531594 , 0.55345273, 0.2344726 , 0.09204745,\n",
              "       0.616011  , 0.35983387, 0.6347036 , 0.5092945 , 0.25554913,\n",
              "       0.43439198, 0.19954129, 0.28460354, 0.5765505 , 0.64645857,\n",
              "       0.61860013, 0.0549806 , 0.08238063, 0.62631494, 0.74086976,\n",
              "       0.60201627, 0.22694121, 0.3354967 , 0.7263137 , 0.5289214 ,\n",
              "       0.68723756, 0.7319653 , 0.58601606, 0.2526386 , 0.1046394 ,\n",
              "       0.6807945 , 0.64128214, 0.69997686, 0.5456524 , 0.24936765,\n",
              "       0.5609316 , 0.5687397 , 0.81497663, 0.7959179 , 0.10810935,\n",
              "       0.5657838 , 0.4798529 , 0.72042775, 0.5601083 , 0.7193563 ,\n",
              "       0.6277887 , 0.6576383 , 0.6688999 , 0.20815293, 0.5525082 ,\n",
              "       0.3995353 , 0.26554072, 0.70036376, 0.05404709, 0.7450885 ,\n",
              "       0.60229045, 0.5288433 , 0.71716577, 0.41626626, 0.28418475,\n",
              "       0.58848923, 0.32988477, 0.11798353, 0.5963229 , 0.245     ,\n",
              "       0.6644641 , 0.15796432, 0.11436823, 0.19881588, 0.585915  ,\n",
              "       0.54681784, 0.45998108, 0.25521767, 0.13529152, 0.52528805,\n",
              "       0.10391087, 0.5865672 , 0.56317985, 0.37284625, 0.5812551 ,\n",
              "       0.5815739 , 0.2925282 , 0.39239442, 0.1507849 , 0.05291907,\n",
              "       0.7304605 , 0.2659512 , 0.2639893 , 0.6851831 , 0.58281034,\n",
              "       0.3207554 , 0.07448495, 0.32281628, 0.44176218, 0.10429256,\n",
              "       0.32727176, 0.58539426, 0.19936424, 0.13053446, 0.03710536,\n",
              "       0.09233855, 0.3445316 , 0.02526498, 0.2384462 , 0.10800251,\n",
              "       0.56953984, 0.20407851, 0.72605795, 0.14520934, 0.16163199,\n",
              "       0.42410445, 0.14381528, 0.57775044, 0.6412137 , 0.5242354 ,\n",
              "       0.25905535, 0.3860747 , 0.20241971, 0.40382764, 0.08620755,\n",
              "       0.27803698, 0.06243613, 0.04812726, 0.14381878, 0.04308285,\n",
              "       0.5545786 , 0.2733186 , 0.46277475, 0.32982457, 0.42512318,\n",
              "       0.5996763 , 0.39258403, 0.4959969 , 0.69963527, 0.2940188 ,\n",
              "       0.62127066, 0.4317024 , 0.5096503 , 0.71098334, 0.5846031 ,\n",
              "       0.5486618 , 0.37824172, 0.6914139 , 0.36036995, 0.4927436 ,\n",
              "       0.6912383 , 0.6809307 , 0.08420578, 0.09516793, 0.39358848,\n",
              "       0.7465902 , 0.44054267, 0.6870033 , 0.205976  , 0.73477864,\n",
              "       0.7021545 , 0.59574044, 0.68780804, 0.7755557 , 0.75876415,\n",
              "       0.6438848 , 0.7027604 , 0.62226164, 0.7028697 , 0.41233295,\n",
              "       0.52537495, 0.675053  , 0.64500344, 0.6403425 , 0.7803307 ,\n",
              "       0.6117648 , 0.52028096, 0.7066559 , 0.61286706, 0.73006403,\n",
              "       0.741315  , 0.8511702 , 0.53066266, 0.65765214, 0.6991931 ,\n",
              "       0.6307413 , 0.60927415, 0.21215773, 0.718311  , 0.5586776 ,\n",
              "       0.626023  , 0.704033  , 0.68390715, 0.6837942 , 0.55976677,\n",
              "       0.6828002 , 0.6680127 , 0.23221596, 0.7991005 , 0.7068212 ,\n",
              "       0.6728005 , 0.44967982, 0.5585501 , 0.7285519 , 0.754595  ,\n",
              "       0.39954907, 0.5690889 , 0.5515569 , 0.56747186, 0.672633  ,\n",
              "       0.6389075 , 0.5689976 , 0.4378487 , 0.63564765, 0.75107694,\n",
              "       0.7733061 , 0.830982  , 0.69890255, 0.638297  , 0.72995996,\n",
              "       0.6272823 , 0.6232471 , 0.5838829 , 0.6695386 , 0.8023355 ,\n",
              "       0.694997  , 0.6474491 , 0.70241994, 0.6096765 , 0.7480989 ,\n",
              "       0.57209176, 0.48347226, 0.7177835 , 0.61764055, 0.585058  ,\n",
              "       0.661655  , 0.70023423, 0.6555595 , 0.6953012 , 0.6760655 ,\n",
              "       0.6793444 , 0.6018537 , 0.65998316, 0.7318551 , 0.39277717,\n",
              "       0.60413486, 0.61149   , 0.606744  , 0.59095186, 0.71371335,\n",
              "       0.6235918 , 0.5731403 , 0.66211766, 0.6746736 , 0.6444884 ,\n",
              "       0.7077564 , 0.65078455, 0.63218206, 0.70227706, 0.6222794 ,\n",
              "       0.47288653, 0.66603655, 0.7953081 , 0.52247065, 0.6519547 ,\n",
              "       0.64124036, 0.7397983 , 0.69031835, 0.7169313 , 0.6162318 ,\n",
              "       0.60129505, 0.68297565, 0.5508299 , 0.66998434, 0.93759984,\n",
              "       0.66210103, 0.5232802 , 0.45854667, 0.46132296, 0.4076769 ,\n",
              "       0.65514266, 0.68277246, 0.6032863 , 0.56068665, 0.7301474 ,\n",
              "       0.8482134 , 0.5102037 , 0.61522186, 0.64250696, 0.56972396,\n",
              "       0.72032976, 0.67861575, 0.68782353, 0.7601213 , 0.72792464,\n",
              "       0.4018814 , 0.6984292 , 0.5717738 , 0.66921204, 0.78019214,\n",
              "       0.57637715, 0.6838886 , 0.7180912 , 0.853     , 0.66842014,\n",
              "       0.65012467, 0.60986054, 0.7198575 , 0.6146264 , 0.686189  ,\n",
              "       0.751611  , 0.59176856, 0.7023003 , 0.67994237, 0.6648169 ,\n",
              "       0.6607593 , 0.7260943 , 0.63076055, 0.6697775 , 0.39248037,\n",
              "       0.59232473, 0.9574602 , 0.43855363, 0.5536357 , 0.53859895,\n",
              "       0.6327393 , 0.58247644, 0.601659  , 0.7136683 , 0.5557848 ,\n",
              "       0.67581   , 0.66120833, 0.67634773, 0.7386614 , 0.3558186 ,\n",
              "       0.7957733 , 0.5206286 , 0.6823408 , 0.6720082 , 0.63188124,\n",
              "       0.63767874, 0.73752373, 0.63019943, 0.6224218 , 0.5622498 ,\n",
              "       0.6093529 , 0.72909313, 0.523927  , 0.77948844, 0.62069356,\n",
              "       0.7473827 , 0.80986243, 0.5264823 , 0.32407123, 0.73423535,\n",
              "       0.654939  , 0.56766015, 0.7514846 , 0.7024901 , 0.69735885],\n",
              "      dtype=float32)"
            ]
          },
          "metadata": {},
          "execution_count": 33
        }
      ]
    },
    {
      "cell_type": "code",
      "source": [
        "predictions  = pd.DataFrame({'y_prob': y_prob})\n",
        "predictions['class'] = predictions['y_prob'].apply(lambda x: 1 if x > 0.5 else 0)\n",
        "predictions"
      ],
      "metadata": {
        "id": "0Im21_fM8S8r",
        "outputId": "d362fc24-47ab-4fb3-d3de-fac62d449dfc",
        "colab": {
          "base_uri": "https://localhost:8080/",
          "height": 424
        }
      },
      "execution_count": 34,
      "outputs": [
        {
          "output_type": "execute_result",
          "data": {
            "text/html": [
              "\n",
              "  <div id=\"df-537d11c4-8d4f-42df-8508-80f5398ef048\">\n",
              "    <div class=\"colab-df-container\">\n",
              "      <div>\n",
              "<style scoped>\n",
              "    .dataframe tbody tr th:only-of-type {\n",
              "        vertical-align: middle;\n",
              "    }\n",
              "\n",
              "    .dataframe tbody tr th {\n",
              "        vertical-align: top;\n",
              "    }\n",
              "\n",
              "    .dataframe thead th {\n",
              "        text-align: right;\n",
              "    }\n",
              "</style>\n",
              "<table border=\"1\" class=\"dataframe\">\n",
              "  <thead>\n",
              "    <tr style=\"text-align: right;\">\n",
              "      <th></th>\n",
              "      <th>y_prob</th>\n",
              "      <th>class</th>\n",
              "    </tr>\n",
              "  </thead>\n",
              "  <tbody>\n",
              "    <tr>\n",
              "      <th>0</th>\n",
              "      <td>0.388788</td>\n",
              "      <td>0</td>\n",
              "    </tr>\n",
              "    <tr>\n",
              "      <th>1</th>\n",
              "      <td>0.613939</td>\n",
              "      <td>1</td>\n",
              "    </tr>\n",
              "    <tr>\n",
              "      <th>2</th>\n",
              "      <td>0.473270</td>\n",
              "      <td>0</td>\n",
              "    </tr>\n",
              "    <tr>\n",
              "      <th>3</th>\n",
              "      <td>0.603303</td>\n",
              "      <td>1</td>\n",
              "    </tr>\n",
              "    <tr>\n",
              "      <th>4</th>\n",
              "      <td>0.630553</td>\n",
              "      <td>1</td>\n",
              "    </tr>\n",
              "    <tr>\n",
              "      <th>...</th>\n",
              "      <td>...</td>\n",
              "      <td>...</td>\n",
              "    </tr>\n",
              "    <tr>\n",
              "      <th>395</th>\n",
              "      <td>0.654939</td>\n",
              "      <td>1</td>\n",
              "    </tr>\n",
              "    <tr>\n",
              "      <th>396</th>\n",
              "      <td>0.567660</td>\n",
              "      <td>1</td>\n",
              "    </tr>\n",
              "    <tr>\n",
              "      <th>397</th>\n",
              "      <td>0.751485</td>\n",
              "      <td>1</td>\n",
              "    </tr>\n",
              "    <tr>\n",
              "      <th>398</th>\n",
              "      <td>0.702490</td>\n",
              "      <td>1</td>\n",
              "    </tr>\n",
              "    <tr>\n",
              "      <th>399</th>\n",
              "      <td>0.697359</td>\n",
              "      <td>1</td>\n",
              "    </tr>\n",
              "  </tbody>\n",
              "</table>\n",
              "<p>400 rows × 2 columns</p>\n",
              "</div>\n",
              "      <button class=\"colab-df-convert\" onclick=\"convertToInteractive('df-537d11c4-8d4f-42df-8508-80f5398ef048')\"\n",
              "              title=\"Convert this dataframe to an interactive table.\"\n",
              "              style=\"display:none;\">\n",
              "        \n",
              "  <svg xmlns=\"http://www.w3.org/2000/svg\" height=\"24px\"viewBox=\"0 0 24 24\"\n",
              "       width=\"24px\">\n",
              "    <path d=\"M0 0h24v24H0V0z\" fill=\"none\"/>\n",
              "    <path d=\"M18.56 5.44l.94 2.06.94-2.06 2.06-.94-2.06-.94-.94-2.06-.94 2.06-2.06.94zm-11 1L8.5 8.5l.94-2.06 2.06-.94-2.06-.94L8.5 2.5l-.94 2.06-2.06.94zm10 10l.94 2.06.94-2.06 2.06-.94-2.06-.94-.94-2.06-.94 2.06-2.06.94z\"/><path d=\"M17.41 7.96l-1.37-1.37c-.4-.4-.92-.59-1.43-.59-.52 0-1.04.2-1.43.59L10.3 9.45l-7.72 7.72c-.78.78-.78 2.05 0 2.83L4 21.41c.39.39.9.59 1.41.59.51 0 1.02-.2 1.41-.59l7.78-7.78 2.81-2.81c.8-.78.8-2.07 0-2.86zM5.41 20L4 18.59l7.72-7.72 1.47 1.35L5.41 20z\"/>\n",
              "  </svg>\n",
              "      </button>\n",
              "      \n",
              "  <style>\n",
              "    .colab-df-container {\n",
              "      display:flex;\n",
              "      flex-wrap:wrap;\n",
              "      gap: 12px;\n",
              "    }\n",
              "\n",
              "    .colab-df-convert {\n",
              "      background-color: #E8F0FE;\n",
              "      border: none;\n",
              "      border-radius: 50%;\n",
              "      cursor: pointer;\n",
              "      display: none;\n",
              "      fill: #1967D2;\n",
              "      height: 32px;\n",
              "      padding: 0 0 0 0;\n",
              "      width: 32px;\n",
              "    }\n",
              "\n",
              "    .colab-df-convert:hover {\n",
              "      background-color: #E2EBFA;\n",
              "      box-shadow: 0px 1px 2px rgba(60, 64, 67, 0.3), 0px 1px 3px 1px rgba(60, 64, 67, 0.15);\n",
              "      fill: #174EA6;\n",
              "    }\n",
              "\n",
              "    [theme=dark] .colab-df-convert {\n",
              "      background-color: #3B4455;\n",
              "      fill: #D2E3FC;\n",
              "    }\n",
              "\n",
              "    [theme=dark] .colab-df-convert:hover {\n",
              "      background-color: #434B5C;\n",
              "      box-shadow: 0px 1px 3px 1px rgba(0, 0, 0, 0.15);\n",
              "      filter: drop-shadow(0px 1px 2px rgba(0, 0, 0, 0.3));\n",
              "      fill: #FFFFFF;\n",
              "    }\n",
              "  </style>\n",
              "\n",
              "      <script>\n",
              "        const buttonEl =\n",
              "          document.querySelector('#df-537d11c4-8d4f-42df-8508-80f5398ef048 button.colab-df-convert');\n",
              "        buttonEl.style.display =\n",
              "          google.colab.kernel.accessAllowed ? 'block' : 'none';\n",
              "\n",
              "        async function convertToInteractive(key) {\n",
              "          const element = document.querySelector('#df-537d11c4-8d4f-42df-8508-80f5398ef048');\n",
              "          const dataTable =\n",
              "            await google.colab.kernel.invokeFunction('convertToInteractive',\n",
              "                                                     [key], {});\n",
              "          if (!dataTable) return;\n",
              "\n",
              "          const docLinkHtml = 'Like what you see? Visit the ' +\n",
              "            '<a target=\"_blank\" href=https://colab.research.google.com/notebooks/data_table.ipynb>data table notebook</a>'\n",
              "            + ' to learn more about interactive tables.';\n",
              "          element.innerHTML = '';\n",
              "          dataTable['output_type'] = 'display_data';\n",
              "          await google.colab.output.renderOutput(dataTable, element);\n",
              "          const docLink = document.createElement('div');\n",
              "          docLink.innerHTML = docLinkHtml;\n",
              "          element.appendChild(docLink);\n",
              "        }\n",
              "      </script>\n",
              "    </div>\n",
              "  </div>\n",
              "  "
            ],
            "text/plain": [
              "       y_prob  class\n",
              "0    0.388788      0\n",
              "1    0.613939      1\n",
              "2    0.473270      0\n",
              "3    0.603303      1\n",
              "4    0.630553      1\n",
              "..        ...    ...\n",
              "395  0.654939      1\n",
              "396  0.567660      1\n",
              "397  0.751485      1\n",
              "398  0.702490      1\n",
              "399  0.697359      1\n",
              "\n",
              "[400 rows x 2 columns]"
            ]
          },
          "metadata": {},
          "execution_count": 34
        }
      ]
    },
    {
      "cell_type": "code",
      "source": [
        "y_true = test_generator.classes\n",
        "y_true"
      ],
      "metadata": {
        "id": "gVFUVFCz8S_B",
        "outputId": "c022ae7a-9164-4348-9923-20b9d89aae34",
        "colab": {
          "base_uri": "https://localhost:8080/"
        }
      },
      "execution_count": 35,
      "outputs": [
        {
          "output_type": "execute_result",
          "data": {
            "text/plain": [
              "array([0, 0, 0, 0, 0, 0, 0, 0, 0, 0, 0, 0, 0, 0, 0, 0, 0, 0, 0, 0, 0, 0,\n",
              "       0, 0, 0, 0, 0, 0, 0, 0, 0, 0, 0, 0, 0, 0, 0, 0, 0, 0, 0, 0, 0, 0,\n",
              "       0, 0, 0, 0, 0, 0, 0, 0, 0, 0, 0, 0, 0, 0, 0, 0, 0, 0, 0, 0, 0, 0,\n",
              "       0, 0, 0, 0, 0, 0, 0, 0, 0, 0, 0, 0, 0, 0, 0, 0, 0, 0, 0, 0, 0, 0,\n",
              "       0, 0, 0, 0, 0, 0, 0, 0, 0, 0, 0, 0, 0, 0, 0, 0, 0, 0, 0, 0, 0, 0,\n",
              "       0, 0, 0, 0, 0, 0, 0, 0, 0, 0, 0, 0, 0, 0, 0, 0, 0, 0, 0, 0, 0, 0,\n",
              "       0, 0, 0, 0, 0, 0, 0, 0, 0, 0, 0, 0, 0, 0, 0, 0, 0, 0, 0, 0, 0, 0,\n",
              "       0, 0, 0, 0, 0, 0, 0, 0, 0, 0, 0, 0, 0, 0, 0, 0, 0, 0, 0, 0, 0, 0,\n",
              "       0, 0, 0, 0, 0, 0, 0, 0, 0, 0, 0, 0, 0, 0, 0, 0, 0, 0, 0, 0, 0, 0,\n",
              "       0, 0, 1, 1, 1, 1, 1, 1, 1, 1, 1, 1, 1, 1, 1, 1, 1, 1, 1, 1, 1, 1,\n",
              "       1, 1, 1, 1, 1, 1, 1, 1, 1, 1, 1, 1, 1, 1, 1, 1, 1, 1, 1, 1, 1, 1,\n",
              "       1, 1, 1, 1, 1, 1, 1, 1, 1, 1, 1, 1, 1, 1, 1, 1, 1, 1, 1, 1, 1, 1,\n",
              "       1, 1, 1, 1, 1, 1, 1, 1, 1, 1, 1, 1, 1, 1, 1, 1, 1, 1, 1, 1, 1, 1,\n",
              "       1, 1, 1, 1, 1, 1, 1, 1, 1, 1, 1, 1, 1, 1, 1, 1, 1, 1, 1, 1, 1, 1,\n",
              "       1, 1, 1, 1, 1, 1, 1, 1, 1, 1, 1, 1, 1, 1, 1, 1, 1, 1, 1, 1, 1, 1,\n",
              "       1, 1, 1, 1, 1, 1, 1, 1, 1, 1, 1, 1, 1, 1, 1, 1, 1, 1, 1, 1, 1, 1,\n",
              "       1, 1, 1, 1, 1, 1, 1, 1, 1, 1, 1, 1, 1, 1, 1, 1, 1, 1, 1, 1, 1, 1,\n",
              "       1, 1, 1, 1, 1, 1, 1, 1, 1, 1, 1, 1, 1, 1, 1, 1, 1, 1, 1, 1, 1, 1,\n",
              "       1, 1, 1, 1], dtype=int32)"
            ]
          },
          "metadata": {},
          "execution_count": 35
        }
      ]
    },
    {
      "cell_type": "code",
      "source": [
        "y_pred = predictions['class'].values\n",
        "y_pred"
      ],
      "metadata": {
        "id": "mGzQ2c2M5Wge",
        "outputId": "ac2b2b22-28cb-4b92-c43d-cc4efd3bead3",
        "colab": {
          "base_uri": "https://localhost:8080/"
        }
      },
      "execution_count": 36,
      "outputs": [
        {
          "output_type": "execute_result",
          "data": {
            "text/plain": [
              "array([0, 1, 0, 1, 1, 0, 1, 0, 0, 0, 0, 0, 1, 0, 1, 0, 1, 1, 1, 1, 0, 0,\n",
              "       1, 0, 0, 0, 0, 0, 1, 0, 0, 0, 1, 0, 0, 0, 1, 1, 0, 1, 1, 0, 0, 1,\n",
              "       0, 0, 1, 1, 0, 0, 1, 0, 1, 1, 0, 0, 0, 0, 1, 1, 1, 0, 0, 1, 1, 1,\n",
              "       0, 0, 1, 1, 1, 1, 1, 0, 0, 1, 1, 1, 1, 0, 1, 1, 1, 1, 0, 1, 0, 1,\n",
              "       1, 1, 1, 1, 1, 0, 1, 0, 0, 1, 0, 1, 1, 1, 1, 0, 0, 1, 0, 0, 1, 0,\n",
              "       1, 0, 0, 0, 1, 1, 0, 0, 0, 1, 0, 1, 1, 0, 1, 1, 0, 0, 0, 0, 1, 0,\n",
              "       0, 1, 1, 0, 0, 0, 0, 0, 0, 1, 0, 0, 0, 0, 0, 0, 0, 0, 1, 0, 1, 0,\n",
              "       0, 0, 0, 1, 1, 1, 0, 0, 0, 0, 0, 0, 0, 0, 0, 0, 1, 0, 0, 0, 0, 1,\n",
              "       0, 0, 1, 0, 1, 0, 1, 1, 1, 1, 0, 1, 0, 0, 1, 1, 0, 0, 0, 1, 0, 1,\n",
              "       0, 1, 1, 1, 1, 1, 1, 1, 1, 1, 1, 0, 1, 1, 1, 1, 1, 1, 1, 1, 1, 1,\n",
              "       1, 1, 1, 1, 1, 1, 1, 0, 1, 1, 1, 1, 1, 1, 1, 1, 1, 0, 1, 1, 1, 0,\n",
              "       1, 1, 1, 0, 1, 1, 1, 1, 1, 1, 0, 1, 1, 1, 1, 1, 1, 1, 1, 1, 1, 1,\n",
              "       1, 1, 1, 1, 1, 1, 1, 0, 1, 1, 1, 1, 1, 1, 1, 1, 1, 1, 1, 1, 0, 1,\n",
              "       1, 1, 1, 1, 1, 1, 1, 1, 1, 1, 1, 1, 1, 1, 0, 1, 1, 1, 1, 1, 1, 1,\n",
              "       1, 1, 1, 1, 1, 1, 1, 1, 1, 0, 0, 0, 1, 1, 1, 1, 1, 1, 1, 1, 1, 1,\n",
              "       1, 1, 1, 1, 1, 0, 1, 1, 1, 1, 1, 1, 1, 1, 1, 1, 1, 1, 1, 1, 1, 1,\n",
              "       1, 1, 1, 1, 1, 1, 1, 0, 1, 1, 0, 1, 1, 1, 1, 1, 1, 1, 1, 1, 1, 1,\n",
              "       0, 1, 1, 1, 1, 1, 1, 1, 1, 1, 1, 1, 1, 1, 1, 1, 1, 1, 1, 0, 1, 1,\n",
              "       1, 1, 1, 1])"
            ]
          },
          "metadata": {},
          "execution_count": 36
        }
      ]
    },
    {
      "cell_type": "code",
      "source": [
        "test_generator.class_indices"
      ],
      "metadata": {
        "id": "jVvveto08eGF",
        "outputId": "f15804f9-aebe-4e98-8c20-417566d88fc5",
        "colab": {
          "base_uri": "https://localhost:8080/"
        }
      },
      "execution_count": 37,
      "outputs": [
        {
          "output_type": "execute_result",
          "data": {
            "text/plain": [
              "{'ben_mal': 0, 'nor': 1}"
            ]
          },
          "metadata": {},
          "execution_count": 37
        }
      ]
    },
    {
      "cell_type": "code",
      "source": [
        "cm = confusion_matrix(y_true, y_pred)\n",
        "cm"
      ],
      "metadata": {
        "id": "B_ZfeRde8eDh",
        "outputId": "f1475b8f-45f4-4ab0-faa3-4ebe7f228e71",
        "colab": {
          "base_uri": "https://localhost:8080/"
        }
      },
      "execution_count": 38,
      "outputs": [
        {
          "output_type": "execute_result",
          "data": {
            "text/plain": [
              "array([[112,  88],\n",
              "       [ 17, 183]])"
            ]
          },
          "metadata": {},
          "execution_count": 38
        }
      ]
    },
    {
      "cell_type": "code",
      "source": [
        "model.evaluate(test_generator)"
      ],
      "metadata": {
        "id": "avWd1scn8eBU",
        "outputId": "f2e79cbd-723e-40d3-e225-6edca96ead65",
        "colab": {
          "base_uri": "https://localhost:8080/"
        }
      },
      "execution_count": 39,
      "outputs": [
        {
          "output_type": "stream",
          "name": "stdout",
          "text": [
            "400/400 [==============================] - 2s 6ms/step - loss: 0.5354 - accuracy: 0.7375\n"
          ]
        },
        {
          "output_type": "execute_result",
          "data": {
            "text/plain": [
              "[0.5354428291320801, 0.737500011920929]"
            ]
          },
          "metadata": {},
          "execution_count": 39
        }
      ]
    },
    {
      "cell_type": "code",
      "source": [
        "\n",
        "STEP_SIZE_TEST = test_generator.n//test_generator.batch_size\n",
        "\n",
        "test_generator.reset()\n",
        "preds = model.predict(test_generator, verbose = 1)"
      ],
      "metadata": {
        "id": "nduQnkZb8pIg",
        "outputId": "956a16ce-3794-4527-bc8f-f654b7aacee7",
        "colab": {
          "base_uri": "https://localhost:8080/"
        }
      },
      "execution_count": 40,
      "outputs": [
        {
          "output_type": "stream",
          "name": "stdout",
          "text": [
            "400/400 [==============================] - 1s 2ms/step\n"
          ]
        }
      ]
    },
    {
      "cell_type": "code",
      "source": [
        "from sklearn.metrics import roc_curve\n",
        "from sklearn.metrics import auc\n",
        "fpr, tpr, _ = roc_curve(test_generator.classes, preds)\n",
        "\n",
        "\n",
        "roc_auc = auc(fpr,tpr)"
      ],
      "metadata": {
        "id": "R_lkKu0o5Wdv"
      },
      "execution_count": 41,
      "outputs": []
    },
    {
      "cell_type": "code",
      "source": [
        "print('AUC:', roc_auc )"
      ],
      "metadata": {
        "id": "Mhjmj2Mo8xSi",
        "outputId": "557d49b0-56fc-452f-b3d8-543115974698",
        "colab": {
          "base_uri": "https://localhost:8080/"
        }
      },
      "execution_count": 42,
      "outputs": [
        {
          "output_type": "stream",
          "name": "stdout",
          "text": [
            "AUC: 0.8078\n"
          ]
        }
      ]
    },
    {
      "cell_type": "code",
      "source": [
        ""
      ],
      "metadata": {
        "id": "-ZlR--U89IG1"
      },
      "execution_count": null,
      "outputs": []
    },
    {
      "cell_type": "code",
      "source": [
        "import matplotlib.pyplot as plt\n",
        "plt.plot(fpr, tpr)\n",
        "\n",
        "plt.title(\"ROC Curve\")\n",
        "\n",
        "plt.xlabel(\"False Positive Rate\")\n",
        "\n",
        "plt.ylabel(\"True Positive Rate\")\n",
        "\n",
        "plt.show()"
      ],
      "metadata": {
        "id": "ka3I5atd8xPL",
        "outputId": "0d0606b7-f115-41f7-f81d-a37672dec33b",
        "colab": {
          "base_uri": "https://localhost:8080/",
          "height": 295
        }
      },
      "execution_count": 43,
      "outputs": [
        {
          "output_type": "display_data",
          "data": {
            "image/png": "[encoded data removed]",
            "text/plain": [
              "<Figure size 432x288 with 1 Axes>"
            ]
          },
          "metadata": {
            "needs_background": "light"
          }
        }
      ]
    },
    {
      "cell_type": "code",
      "source": [
        ""
      ],
      "metadata": {
        "id": "Zm1LiEa38xML"
      },
      "execution_count": null,
      "outputs": []
    }
  ]
}